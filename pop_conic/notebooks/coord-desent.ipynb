{
 "cells": [
  {
   "cell_type": "code",
   "execution_count": 1,
   "id": "dc61dabf",
   "metadata": {},
   "outputs": [],
   "source": [
    "%matplotlib inline\n",
    "%load_ext autoreload\n",
    "%autoreload 2"
   ]
  },
  {
   "cell_type": "code",
   "execution_count": 2,
   "id": "c38725de",
   "metadata": {},
   "outputs": [
    {
     "name": "stderr",
     "output_type": "stream",
     "text": [
      "/usr/local/lib/python3.9/site-packages/tqdm/auto.py:22: TqdmWarning: IProgress not found. Please update jupyter and ipywidgets. See https://ipywidgets.readthedocs.io/en/stable/user_install.html\n",
      "  from .autonotebook import tqdm as notebook_tqdm\n"
     ]
    }
   ],
   "source": [
    "import os\n",
    "import matplotlib.pyplot as plt\n",
    "import seaborn as sns\n",
    "sns.set_style('darkgrid')\n",
    "\n",
    "import numpy\n",
    "import torch\n",
    "from time import time\n",
    "from tqdm import tqdm"
   ]
  },
  {
   "cell_type": "code",
   "execution_count": 3,
   "id": "e93c8b3b",
   "metadata": {},
   "outputs": [],
   "source": [
    "cwd = os.getcwd()\n",
    "NOTEBOOK_DIR = os.path.dirname(cwd+'/')\n",
    "ROOT = os.path.dirname(NOTEBOOK_DIR)\n",
    "\n",
    "import sys\n",
    "sys.path.append(ROOT)"
   ]
  },
  {
   "cell_type": "code",
   "execution_count": 4,
   "id": "8f0251e9",
   "metadata": {},
   "outputs": [],
   "source": [
    "from utils.tools import *"
   ]
  },
  {
   "cell_type": "markdown",
   "id": "fa9e0d9c",
   "metadata": {},
   "source": [
    "# Constants"
   ]
  },
  {
   "cell_type": "code",
   "execution_count": 5,
   "id": "f0839a11",
   "metadata": {},
   "outputs": [],
   "source": [
    "INPUT_DIM = 50\n",
    "BIAS = False\n",
    "\n",
    "SEED = 42\n",
    "N_TRAIN = 256\n",
    "BATCH_SIZE = 64\n",
    "ALPHA = 1e-1\n",
    "BASE_LR = 1.0e-2\n",
    "N_STEPS = int(5e3)\n",
    "N_VAL = 100\n",
    "VAL_ITER = 100\n",
    "N_MAX_NEURONS = 2000\n",
    "\n",
    "EPS = 1.0e-5\n",
    "ETA = 0.0001\n",
    "ALPHA = 0.0001\n",
    "LAMBDA = 1.0"
   ]
  },
  {
   "cell_type": "code",
   "execution_count": 6,
   "id": "8de4bcd7",
   "metadata": {},
   "outputs": [],
   "source": [
    "FIGURES_DIR = os.path.join(ROOT, 'figures/ista')\n",
    "create_dir(FIGURES_DIR)"
   ]
  },
  {
   "cell_type": "code",
   "execution_count": 7,
   "id": "d50d3a83",
   "metadata": {},
   "outputs": [],
   "source": [
    "set_random_seeds(SEED)"
   ]
  },
  {
   "cell_type": "markdown",
   "id": "a4e20311",
   "metadata": {},
   "source": [
    "# Data"
   ]
  },
  {
   "cell_type": "code",
   "execution_count": 8,
   "id": "b9418113",
   "metadata": {},
   "outputs": [],
   "source": [
    "def forward(a, b, x):\n",
    "    if a.shape[1] == 0:\n",
    "        return 0.\n",
    "    return np.matmul(np.maximum(np.matmul(x, b.T), 0), a.T) / a.shape[1]"
   ]
  },
  {
   "cell_type": "code",
   "execution_count": 9,
   "id": "cfdf802c",
   "metadata": {},
   "outputs": [],
   "source": [
    "# Teacher Network\n",
    "m_star = 50 # number of teacher neurons\n",
    "eps = 3e-1\n",
    "\n",
    "a_star = 2 * np.sign(np.random.uniform(size=(1, m_star)) - 0.5) # / m\n",
    "b_star = 2 * np.random.uniform(size=(m_star, INPUT_DIM)) - 1 - eps * np.random.normal(size=(m_star, INPUT_DIM))**2"
   ]
  },
  {
   "cell_type": "code",
   "execution_count": 10,
   "id": "b4d2a08b",
   "metadata": {},
   "outputs": [],
   "source": [
    "# Data\n",
    "x_train = np.random.normal(size=(N_TRAIN, INPUT_DIM))\n",
    "y_train = forward(a_star, b_star, x_train)\n",
    "\n",
    "x_val = np.random.normal(size=(N_VAL, INPUT_DIM))\n",
    "y_val = forward(a_star, b_star, x_val)"
   ]
  },
  {
   "cell_type": "code",
   "execution_count": 12,
   "id": "e3ecc707",
   "metadata": {},
   "outputs": [],
   "source": [
    "# particles for coordinate descent\n",
    "m = 40\n",
    "b = np.random.normal(size=(m, INPUT_DIM))\n",
    "a = np.random.normal(size=(1, m))"
   ]
  },
  {
   "cell_type": "code",
   "execution_count": null,
   "id": "a8b5989f",
   "metadata": {},
   "outputs": [],
   "source": []
  },
  {
   "cell_type": "markdown",
   "id": "90753b18",
   "metadata": {},
   "source": [
    "# Algorithm iterations"
   ]
  },
  {
   "cell_type": "code",
   "execution_count": 11,
   "id": "30ec9408",
   "metadata": {},
   "outputs": [],
   "source": [
    "def compute_losses(a, b, x, y, penalized=True):\n",
    "    y_hat = forward(a, b, x)\n",
    "    loss_ = 0.5 * np.mean((y_hat - y)**2)\n",
    "    if penalized:\n",
    "        penalized_loss = loss_ + LAMBDA * np.sum(np.abs(a))\n",
    "    else:\n",
    "        0.\n",
    "    return loss_, penalized_loss"
   ]
  },
  {
   "cell_type": "code",
   "execution_count": 12,
   "id": "6c145b34",
   "metadata": {},
   "outputs": [],
   "source": [
    "def train(n_steps, x_train, y_train, x_val, y_val, do_val=True):\n",
    "    a = np.array([[]])\n",
    "    b = np.array([[]])\n",
    "    ms = [0]\n",
    "    train_losses = []\n",
    "    penalized_train_losses = []\n",
    "    val_losses = []\n",
    "    penalized_val_losses = []\n",
    "\n",
    "    for k in tqdm(range(N_STEPS)):\n",
    "        # sample and update iteration in 2 stpes\n",
    "        a, b = add_new_neuron(a, b, x_train, y_train, eps=EPS)\n",
    "        ms.append(a.shape[1])\n",
    "        a, b = update_random_neuron(a, b, x_train, y_train, eps=EPS)\n",
    "        ms.append(a.shape[1])\n",
    "        \n",
    "        # compute training loss\n",
    "        train_loss, penalized_train_loss = compute_losses(a, b, x_train, y_train)\n",
    "        train_losses.append(train_loss)\n",
    "        penalized_train_losses.append(penalized_train_loss)\n",
    "        \n",
    "        # validation loop if do_val is True\n",
    "        if do_val:\n",
    "            if k % VAL_ITER == 0:\n",
    "                val_loss, penalized_val_loss = compute_losses(a, b, x_val, y_val)\n",
    "                val_losses.append(val_loss)\n",
    "                penalized_val_losses.append(penalized_val_loss)\n",
    "                print('m at step {:,} : {:,}'.format(k, ms[-1]))\n",
    "                print('Train loss at step {:,} : {:.5f}'.format(k, train_loss))\n",
    "                print('Validation loss at step {:,} : {:.5f}'.format(k, val_loss))\n",
    "                \n",
    "    return a, b, np.array(ms), np.array(train_losses), np.array(penalized_train_losses), np.array(val_losses), \\\n",
    "           np.array(penalized_val_losses) "
   ]
  },
  {
   "cell_type": "code",
   "execution_count": 13,
   "id": "707952c3",
   "metadata": {},
   "outputs": [],
   "source": [
    "def add_new_neuron(a, b, x, y, eps=1.0e-6):\n",
    "    new_b = np.random.normal(size=(1, INPUT_DIM))\n",
    "    V = V_grad(a, b, x, y, new_b)\n",
    "    new_a = ETA * soft_thresholding(V, tau=LAMBDA)\n",
    "    # new_a = -ETA * soft_thresholding(V, tau=LAMBDA)\n",
    "    \n",
    "    if np.abs(new_a) > eps:\n",
    "        if a.shape[1] == 0:\n",
    "            a = np.array([[new_a]])\n",
    "            b = new_b\n",
    "        else:\n",
    "            a = np.column_stack((a, [new_a]))\n",
    "            b = np.row_stack((b, new_b))\n",
    "    \n",
    "    return a, b "
   ]
  },
  {
   "cell_type": "code",
   "execution_count": 14,
   "id": "180a52fd",
   "metadata": {},
   "outputs": [],
   "source": [
    "def update_random_neuron(a, b, x, y, eps=1.0e-6):\n",
    "    if a.shape[1] > 0:\n",
    "        j = np.random.randint(low=0, high=a.shape[1])\n",
    "        b_j = b[j, :]\n",
    "        V = V_grad(a, b, x, y, b_j) - a[0, j] / ALPHA \n",
    "        new_a = ALPHA * soft_thresholding(V, tau=LAMBDA)\n",
    "\n",
    "        if np.abs(new_a) > eps:\n",
    "            # update weight for neuron b_j\n",
    "            a[0, j] = new_a  \n",
    "        else:\n",
    "            # remove a_j and b_j from the list\n",
    "            a = np.column_stack((a[:, :j], a[:, j+1:]))\n",
    "            b = np.row_stack((b[:j, :], b[j+1:, :]))\n",
    "    return a, b  "
   ]
  },
  {
   "cell_type": "markdown",
   "id": "9ad6781a",
   "metadata": {},
   "source": [
    "$$\\text{soft_thresholding}(V, \\tau) = -\\text{sign}(V) \\times \\max\\Big(0,|V| - \\tau \\Big) $$"
   ]
  },
  {
   "cell_type": "code",
   "execution_count": 15,
   "id": "16bf54d5",
   "metadata": {},
   "outputs": [],
   "source": [
    "def soft_thresholding(V, tau):\n",
    "    return - np.sign(V) * np.maximum(0, np.abs(V) - tau)"
   ]
  },
  {
   "cell_type": "code",
   "execution_count": 16,
   "id": "c02c44f0",
   "metadata": {},
   "outputs": [],
   "source": [
    "def V_grad(a, b, x, y, new_b):\n",
    "    y_hat = forward(a, b, x)\n",
    "    return np.mean((y_hat - y) * np.maximum(np.matmul(x, new_b.T), 0))"
   ]
  },
  {
   "cell_type": "code",
   "execution_count": 17,
   "id": "e26da093",
   "metadata": {},
   "outputs": [],
   "source": [
    "def forward_states(a, b, x):\n",
    "    x_1 = np.maximum(np.matmul(x, b.T), 0)\n",
    "    y_hat = np.matmul(x_1, a.T) / a.shape[1]\n",
    "    return x_1, y_hat"
   ]
  },
  {
   "cell_type": "code",
   "execution_count": 18,
   "id": "1ea386bd",
   "metadata": {},
   "outputs": [
    {
     "name": "stderr",
     "output_type": "stream",
     "text": [
      "  2%|▋                                       | 91/5000 [00:00<00:05, 906.74it/s]"
     ]
    },
    {
     "name": "stdout",
     "output_type": "stream",
     "text": [
      "m at step 0 : 1\n",
      "Train loss at step 0 : 0.42803\n",
      "Validation loss at step 0 : 0.37329\n",
      "m at step 100 : 54\n",
      "Train loss at step 100 : 0.42815\n",
      "Validation loss at step 100 : 0.37338\n"
     ]
    },
    {
     "name": "stderr",
     "output_type": "stream",
     "text": [
      "  7%|██▋                                    | 345/5000 [00:00<00:06, 722.39it/s]"
     ]
    },
    {
     "name": "stdout",
     "output_type": "stream",
     "text": [
      "m at step 200 : 115\n",
      "Train loss at step 200 : 0.42815\n",
      "Validation loss at step 200 : 0.37339\n",
      "m at step 300 : 171\n",
      "Train loss at step 300 : 0.42816\n",
      "Validation loss at step 300 : 0.37339\n"
     ]
    },
    {
     "name": "stderr",
     "output_type": "stream",
     "text": [
      " 10%|███▉                                   | 502/5000 [00:00<00:06, 736.79it/s]"
     ]
    },
    {
     "name": "stdout",
     "output_type": "stream",
     "text": [
      "m at step 400 : 222\n",
      "Train loss at step 400 : 0.42816\n",
      "Validation loss at step 400 : 0.37339\n",
      "m at step 500 : 268\n",
      "Train loss at step 500 : 0.42816\n",
      "Validation loss at step 500 : 0.37339\n"
     ]
    },
    {
     "name": "stderr",
     "output_type": "stream",
     "text": [
      " 14%|█████▌                                 | 707/5000 [00:01<00:07, 565.49it/s]"
     ]
    },
    {
     "name": "stdout",
     "output_type": "stream",
     "text": [
      "m at step 600 : 328\n",
      "Train loss at step 600 : 0.42816\n",
      "Validation loss at step 600 : 0.37339\n",
      "m at step 700 : 380\n",
      "Train loss at step 700 : 0.42816\n",
      "Validation loss at step 700 : 0.37339\n"
     ]
    },
    {
     "name": "stderr",
     "output_type": "stream",
     "text": [
      " 17%|██████▊                                | 868/5000 [00:01<00:08, 481.20it/s]"
     ]
    },
    {
     "name": "stdout",
     "output_type": "stream",
     "text": [
      "m at step 800 : 435\n",
      "Train loss at step 800 : 0.42816\n",
      "Validation loss at step 800 : 0.37339\n"
     ]
    },
    {
     "name": "stderr",
     "output_type": "stream",
     "text": [
      "\r",
      " 18%|███████▏                               | 917/5000 [00:01<00:09, 429.98it/s]"
     ]
    },
    {
     "name": "stdout",
     "output_type": "stream",
     "text": [
      "m at step 900 : 478\n",
      "Train loss at step 900 : 0.42816\n",
      "Validation loss at step 900 : 0.37339\n"
     ]
    },
    {
     "name": "stderr",
     "output_type": "stream",
     "text": [
      " 21%|███████▊                              | 1036/5000 [00:02<00:11, 344.84it/s]"
     ]
    },
    {
     "name": "stdout",
     "output_type": "stream",
     "text": [
      "m at step 1,000 : 531\n",
      "Train loss at step 1,000 : 0.42816\n",
      "Validation loss at step 1,000 : 0.37339\n"
     ]
    },
    {
     "name": "stderr",
     "output_type": "stream",
     "text": [
      " 23%|████████▌                             | 1134/5000 [00:02<00:15, 257.36it/s]"
     ]
    },
    {
     "name": "stdout",
     "output_type": "stream",
     "text": [
      "m at step 1,100 : 597\n",
      "Train loss at step 1,100 : 0.42816\n",
      "Validation loss at step 1,100 : 0.37339\n"
     ]
    },
    {
     "name": "stderr",
     "output_type": "stream",
     "text": [
      " 25%|█████████▍                            | 1244/5000 [00:02<00:14, 264.13it/s]"
     ]
    },
    {
     "name": "stdout",
     "output_type": "stream",
     "text": [
      "m at step 1,200 : 649\n",
      "Train loss at step 1,200 : 0.42816\n",
      "Validation loss at step 1,200 : 0.37340\n"
     ]
    },
    {
     "name": "stderr",
     "output_type": "stream",
     "text": [
      " 27%|██████████▎                           | 1349/5000 [00:03<00:14, 248.19it/s]"
     ]
    },
    {
     "name": "stdout",
     "output_type": "stream",
     "text": [
      "m at step 1,300 : 712\n",
      "Train loss at step 1,300 : 0.42816\n",
      "Validation loss at step 1,300 : 0.37339\n"
     ]
    },
    {
     "name": "stderr",
     "output_type": "stream",
     "text": [
      " 28%|██████████▊                           | 1423/5000 [00:03<00:16, 216.50it/s]"
     ]
    },
    {
     "name": "stdout",
     "output_type": "stream",
     "text": [
      "m at step 1,400 : 764\n",
      "Train loss at step 1,400 : 0.42816\n",
      "Validation loss at step 1,400 : 0.37339\n"
     ]
    },
    {
     "name": "stderr",
     "output_type": "stream",
     "text": [
      " 31%|███████████▌                          | 1529/5000 [00:04<00:19, 180.50it/s]"
     ]
    },
    {
     "name": "stdout",
     "output_type": "stream",
     "text": [
      "m at step 1,500 : 812\n",
      "Train loss at step 1,500 : 0.42816\n",
      "Validation loss at step 1,500 : 0.37339\n"
     ]
    },
    {
     "name": "stderr",
     "output_type": "stream",
     "text": [
      " 32%|████████████▎                         | 1622/5000 [00:04<00:19, 176.03it/s]"
     ]
    },
    {
     "name": "stdout",
     "output_type": "stream",
     "text": [
      "m at step 1,600 : 874\n",
      "Train loss at step 1,600 : 0.42816\n",
      "Validation loss at step 1,600 : 0.37339\n"
     ]
    },
    {
     "name": "stderr",
     "output_type": "stream",
     "text": [
      " 35%|█████████████▏                        | 1734/5000 [00:05<00:18, 178.81it/s]"
     ]
    },
    {
     "name": "stdout",
     "output_type": "stream",
     "text": [
      "m at step 1,700 : 931\n",
      "Train loss at step 1,700 : 0.42816\n",
      "Validation loss at step 1,700 : 0.37339\n"
     ]
    },
    {
     "name": "stderr",
     "output_type": "stream",
     "text": [
      " 36%|█████████████▊                        | 1824/5000 [00:06<00:19, 165.04it/s]"
     ]
    },
    {
     "name": "stdout",
     "output_type": "stream",
     "text": [
      "m at step 1,800 : 983\n",
      "Train loss at step 1,800 : 0.42816\n",
      "Validation loss at step 1,800 : 0.37339\n"
     ]
    },
    {
     "name": "stderr",
     "output_type": "stream",
     "text": [
      " 38%|██████████████▌                       | 1922/5000 [00:06<00:20, 151.85it/s]"
     ]
    },
    {
     "name": "stdout",
     "output_type": "stream",
     "text": [
      "m at step 1,900 : 1,027\n",
      "Train loss at step 1,900 : 0.42816\n",
      "Validation loss at step 1,900 : 0.37339\n"
     ]
    },
    {
     "name": "stderr",
     "output_type": "stream",
     "text": [
      " 40%|███████████████▎                      | 2018/5000 [00:07<00:19, 152.01it/s]"
     ]
    },
    {
     "name": "stdout",
     "output_type": "stream",
     "text": [
      "m at step 2,000 : 1,089\n",
      "Train loss at step 2,000 : 0.42816\n",
      "Validation loss at step 2,000 : 0.37339\n"
     ]
    },
    {
     "name": "stderr",
     "output_type": "stream",
     "text": [
      " 42%|████████████████                      | 2113/5000 [00:08<00:26, 108.64it/s]"
     ]
    },
    {
     "name": "stdout",
     "output_type": "stream",
     "text": [
      "m at step 2,100 : 1,143\n",
      "Train loss at step 2,100 : 0.42816\n",
      "Validation loss at step 2,100 : 0.37339\n"
     ]
    },
    {
     "name": "stderr",
     "output_type": "stream",
     "text": [
      " 44%|████████████████▉                     | 2221/5000 [00:09<00:21, 132.04it/s]"
     ]
    },
    {
     "name": "stdout",
     "output_type": "stream",
     "text": [
      "m at step 2,200 : 1,206\n",
      "Train loss at step 2,200 : 0.42816\n",
      "Validation loss at step 2,200 : 0.37339\n"
     ]
    },
    {
     "name": "stderr",
     "output_type": "stream",
     "text": [
      " 46%|█████████████████▌                    | 2318/5000 [00:09<00:22, 121.86it/s]"
     ]
    },
    {
     "name": "stdout",
     "output_type": "stream",
     "text": [
      "m at step 2,300 : 1,258\n",
      "Train loss at step 2,300 : 0.42816\n",
      "Validation loss at step 2,300 : 0.37339\n"
     ]
    },
    {
     "name": "stderr",
     "output_type": "stream",
     "text": [
      " 48%|██████████████████▍                   | 2418/5000 [00:10<00:22, 116.95it/s]"
     ]
    },
    {
     "name": "stdout",
     "output_type": "stream",
     "text": [
      "m at step 2,400 : 1,319\n",
      "Train loss at step 2,400 : 0.42816\n",
      "Validation loss at step 2,400 : 0.37339\n"
     ]
    },
    {
     "name": "stderr",
     "output_type": "stream",
     "text": [
      " 50%|███████████████████                   | 2516/5000 [00:11<00:23, 107.38it/s]"
     ]
    },
    {
     "name": "stdout",
     "output_type": "stream",
     "text": [
      "m at step 2,500 : 1,381\n",
      "Train loss at step 2,500 : 0.42816\n",
      "Validation loss at step 2,500 : 0.37339\n"
     ]
    },
    {
     "name": "stderr",
     "output_type": "stream",
     "text": [
      " 52%|███████████████████▉                  | 2620/5000 [00:12<00:22, 104.58it/s]"
     ]
    },
    {
     "name": "stdout",
     "output_type": "stream",
     "text": [
      "m at step 2,600 : 1,436\n",
      "Train loss at step 2,600 : 0.42816\n",
      "Validation loss at step 2,600 : 0.37339\n"
     ]
    },
    {
     "name": "stderr",
     "output_type": "stream",
     "text": [
      " 54%|████████████████████▋                 | 2714/5000 [00:13<00:20, 109.13it/s]"
     ]
    },
    {
     "name": "stdout",
     "output_type": "stream",
     "text": [
      "m at step 2,700 : 1,489\n",
      "Train loss at step 2,700 : 0.42816\n",
      "Validation loss at step 2,700 : 0.37339\n"
     ]
    },
    {
     "name": "stderr",
     "output_type": "stream",
     "text": [
      " 56%|█████████████████████▍                | 2822/5000 [00:14<00:21, 100.07it/s]"
     ]
    },
    {
     "name": "stdout",
     "output_type": "stream",
     "text": [
      "m at step 2,800 : 1,542\n",
      "Train loss at step 2,800 : 0.42816\n",
      "Validation loss at step 2,800 : 0.37339\n"
     ]
    },
    {
     "name": "stderr",
     "output_type": "stream",
     "text": [
      " 58%|██████████████████████▋                | 2912/5000 [00:15<00:22, 94.81it/s]"
     ]
    },
    {
     "name": "stdout",
     "output_type": "stream",
     "text": [
      "m at step 2,900 : 1,593\n",
      "Train loss at step 2,900 : 0.42816\n",
      "Validation loss at step 2,900 : 0.37339\n"
     ]
    },
    {
     "name": "stderr",
     "output_type": "stream",
     "text": [
      " 60%|███████████████████████▍               | 3012/5000 [00:16<00:21, 90.98it/s]"
     ]
    },
    {
     "name": "stdout",
     "output_type": "stream",
     "text": [
      "m at step 3,000 : 1,645\n",
      "Train loss at step 3,000 : 0.42816\n",
      "Validation loss at step 3,000 : 0.37339\n"
     ]
    },
    {
     "name": "stderr",
     "output_type": "stream",
     "text": [
      " 62%|████████████████████████▎              | 3115/5000 [00:17<00:21, 85.84it/s]"
     ]
    },
    {
     "name": "stdout",
     "output_type": "stream",
     "text": [
      "m at step 3,100 : 1,702\n",
      "Train loss at step 3,100 : 0.42816\n",
      "Validation loss at step 3,100 : 0.37339\n"
     ]
    },
    {
     "name": "stderr",
     "output_type": "stream",
     "text": [
      " 64%|█████████████████████████              | 3213/5000 [00:19<00:18, 94.15it/s]"
     ]
    },
    {
     "name": "stdout",
     "output_type": "stream",
     "text": [
      "m at step 3,200 : 1,757\n",
      "Train loss at step 3,200 : 0.42816\n",
      "Validation loss at step 3,200 : 0.37339\n"
     ]
    },
    {
     "name": "stderr",
     "output_type": "stream",
     "text": [
      " 66%|█████████████████████████▊             | 3311/5000 [00:20<00:19, 84.84it/s]"
     ]
    },
    {
     "name": "stdout",
     "output_type": "stream",
     "text": [
      "m at step 3,300 : 1,810\n",
      "Train loss at step 3,300 : 0.42816\n",
      "Validation loss at step 3,300 : 0.37339\n"
     ]
    },
    {
     "name": "stderr",
     "output_type": "stream",
     "text": [
      " 68%|██████████████████████████▌            | 3413/5000 [00:21<00:17, 88.73it/s]"
     ]
    },
    {
     "name": "stdout",
     "output_type": "stream",
     "text": [
      "m at step 3,400 : 1,866\n",
      "Train loss at step 3,400 : 0.42816\n",
      "Validation loss at step 3,400 : 0.37339\n"
     ]
    },
    {
     "name": "stderr",
     "output_type": "stream",
     "text": [
      " 70%|███████████████████████████▍           | 3510/5000 [00:22<00:19, 76.27it/s]"
     ]
    },
    {
     "name": "stdout",
     "output_type": "stream",
     "text": [
      "m at step 3,500 : 1,923\n",
      "Train loss at step 3,500 : 0.42816\n",
      "Validation loss at step 3,500 : 0.37339\n"
     ]
    },
    {
     "name": "stderr",
     "output_type": "stream",
     "text": [
      " 72%|████████████████████████████▏          | 3611/5000 [00:23<00:17, 77.53it/s]"
     ]
    },
    {
     "name": "stdout",
     "output_type": "stream",
     "text": [
      "m at step 3,600 : 1,972\n",
      "Train loss at step 3,600 : 0.42816\n",
      "Validation loss at step 3,600 : 0.37339\n"
     ]
    },
    {
     "name": "stderr",
     "output_type": "stream",
     "text": [
      " 74%|████████████████████████████▉          | 3715/5000 [00:25<00:15, 81.74it/s]"
     ]
    },
    {
     "name": "stdout",
     "output_type": "stream",
     "text": [
      "m at step 3,700 : 2,023\n",
      "Train loss at step 3,700 : 0.42816\n",
      "Validation loss at step 3,700 : 0.37339\n"
     ]
    },
    {
     "name": "stderr",
     "output_type": "stream",
     "text": [
      " 76%|█████████████████████████████▋         | 3809/5000 [00:26<00:17, 68.80it/s]"
     ]
    },
    {
     "name": "stdout",
     "output_type": "stream",
     "text": [
      "m at step 3,800 : 2,081\n",
      "Train loss at step 3,800 : 0.42816\n",
      "Validation loss at step 3,800 : 0.37339\n"
     ]
    },
    {
     "name": "stderr",
     "output_type": "stream",
     "text": [
      " 78%|██████████████████████████████▍        | 3908/5000 [00:27<00:17, 62.77it/s]"
     ]
    },
    {
     "name": "stdout",
     "output_type": "stream",
     "text": [
      "m at step 3,900 : 2,140\n",
      "Train loss at step 3,900 : 0.42816\n",
      "Validation loss at step 3,900 : 0.37339\n"
     ]
    },
    {
     "name": "stderr",
     "output_type": "stream",
     "text": [
      " 80%|███████████████████████████████▎       | 4012/5000 [00:29<00:12, 76.86it/s]"
     ]
    },
    {
     "name": "stdout",
     "output_type": "stream",
     "text": [
      "m at step 4,000 : 2,191\n",
      "Train loss at step 4,000 : 0.42816\n",
      "Validation loss at step 4,000 : 0.37339\n"
     ]
    },
    {
     "name": "stderr",
     "output_type": "stream",
     "text": [
      " 82%|████████████████████████████████       | 4114/5000 [00:30<00:13, 67.67it/s]"
     ]
    },
    {
     "name": "stdout",
     "output_type": "stream",
     "text": [
      "m at step 4,100 : 2,250\n",
      "Train loss at step 4,100 : 0.42816\n",
      "Validation loss at step 4,100 : 0.37339\n"
     ]
    },
    {
     "name": "stderr",
     "output_type": "stream",
     "text": [
      " 84%|████████████████████████████████▊      | 4208/5000 [00:32<00:11, 68.26it/s]"
     ]
    },
    {
     "name": "stdout",
     "output_type": "stream",
     "text": [
      "m at step 4,200 : 2,304\n",
      "Train loss at step 4,200 : 0.42816\n",
      "Validation loss at step 4,200 : 0.37339\n"
     ]
    },
    {
     "name": "stderr",
     "output_type": "stream",
     "text": [
      " 86%|█████████████████████████████████▌     | 4309/5000 [00:33<00:09, 72.92it/s]"
     ]
    },
    {
     "name": "stdout",
     "output_type": "stream",
     "text": [
      "m at step 4,300 : 2,355\n",
      "Train loss at step 4,300 : 0.42816\n",
      "Validation loss at step 4,300 : 0.37339\n"
     ]
    },
    {
     "name": "stderr",
     "output_type": "stream",
     "text": [
      " 88%|██████████████████████████████████▍    | 4410/5000 [00:35<00:08, 69.75it/s]"
     ]
    },
    {
     "name": "stdout",
     "output_type": "stream",
     "text": [
      "m at step 4,400 : 2,412\n",
      "Train loss at step 4,400 : 0.42816\n",
      "Validation loss at step 4,400 : 0.37339\n"
     ]
    },
    {
     "name": "stderr",
     "output_type": "stream",
     "text": [
      " 90%|███████████████████████████████████▏   | 4512/5000 [00:36<00:07, 68.82it/s]"
     ]
    },
    {
     "name": "stdout",
     "output_type": "stream",
     "text": [
      "m at step 4,500 : 2,475\n",
      "Train loss at step 4,500 : 0.42816\n",
      "Validation loss at step 4,500 : 0.37339\n"
     ]
    },
    {
     "name": "stderr",
     "output_type": "stream",
     "text": [
      " 92%|███████████████████████████████████▉   | 4613/5000 [00:38<00:05, 65.86it/s]"
     ]
    },
    {
     "name": "stdout",
     "output_type": "stream",
     "text": [
      "m at step 4,600 : 2,531\n",
      "Train loss at step 4,600 : 0.42816\n",
      "Validation loss at step 4,600 : 0.37339\n"
     ]
    },
    {
     "name": "stderr",
     "output_type": "stream",
     "text": [
      " 94%|████████████████████████████████████▊  | 4714/5000 [00:39<00:04, 68.56it/s]"
     ]
    },
    {
     "name": "stdout",
     "output_type": "stream",
     "text": [
      "m at step 4,700 : 2,581\n",
      "Train loss at step 4,700 : 0.42816\n",
      "Validation loss at step 4,700 : 0.37339\n"
     ]
    },
    {
     "name": "stderr",
     "output_type": "stream",
     "text": [
      " 96%|█████████████████████████████████████▌ | 4812/5000 [00:41<00:02, 63.35it/s]"
     ]
    },
    {
     "name": "stdout",
     "output_type": "stream",
     "text": [
      "m at step 4,800 : 2,637\n",
      "Train loss at step 4,800 : 0.42816\n",
      "Validation loss at step 4,800 : 0.37339\n"
     ]
    },
    {
     "name": "stderr",
     "output_type": "stream",
     "text": [
      " 98%|██████████████████████████████████████▎| 4910/5000 [00:42<00:01, 62.94it/s]"
     ]
    },
    {
     "name": "stdout",
     "output_type": "stream",
     "text": [
      "m at step 4,900 : 2,701\n",
      "Train loss at step 4,900 : 0.42816\n",
      "Validation loss at step 4,900 : 0.37339\n"
     ]
    },
    {
     "name": "stderr",
     "output_type": "stream",
     "text": [
      "100%|██████████████████████████████████████| 5000/5000 [00:44<00:00, 113.20it/s]\n"
     ]
    }
   ],
   "source": [
    "a, b, ms, train_losses, penalized_train_losses, val_losses, penalized_val_losses = \\\n",
    "        train(N_STEPS, x_train, y_train, x_val, y_val)"
   ]
  },
  {
   "cell_type": "code",
   "execution_count": 19,
   "id": "d800cc7b",
   "metadata": {},
   "outputs": [
    {
     "data": {
      "image/png": "[encoded data removed]",
      "text/plain": [
       "<Figure size 1000x600 with 1 Axes>"
      ]
     },
     "metadata": {},
     "output_type": "display_data"
    }
   ],
   "source": [
    "plt.figure(figsize=(10, 6))\n",
    "marker = None #'o'\n",
    "#plt.xscale('log')\n",
    "#plt.yscale('log')\n",
    "\n",
    "plt.plot(np.arange(2*N_STEPS+1), ms)\n",
    "\n",
    "plt.xlabel('iteration $k$', fontsize=28)\n",
    "plt.ylabel('# neurons $m_k$', fontsize=28)\n",
    "plt.ticklabel_format(style='sci', axis='x', scilimits=(0,0))\n",
    "plt.xticks(fontsize=24)\n",
    "plt.yticks(fontsize=24)\n",
    "#plt.savefig(os.path.join(FIGURES_DIR, 'complexity-ista-1-1.png'), bbox_inches='tight')\n",
    "plt.show()"
   ]
  },
  {
   "cell_type": "code",
   "execution_count": 22,
   "id": "ee606bd8",
   "metadata": {},
   "outputs": [
    {
     "data": {
      "text/plain": [
       "array([0, 1, 1, 2, 2, 3, 3, 4, 4, 4, 4, 4, 4, 5, 5, 6, 6, 7, 7, 8])"
      ]
     },
     "execution_count": 22,
     "metadata": {},
     "output_type": "execute_result"
    }
   ],
   "source": [
    "ms[:20]"
   ]
  },
  {
   "cell_type": "code",
   "execution_count": 23,
   "id": "7c7271d8",
   "metadata": {},
   "outputs": [
    {
     "data": {
      "text/plain": [
       "10001"
      ]
     },
     "execution_count": 23,
     "metadata": {},
     "output_type": "execute_result"
    }
   ],
   "source": [
    "len(ms)"
   ]
  },
  {
   "cell_type": "code",
   "execution_count": 24,
   "id": "fb007963",
   "metadata": {},
   "outputs": [
    {
     "data": {
      "text/plain": [
       "array([31, 32, 32, 32, 32, 32, 32, 32, 32, 33, 33, 34, 34, 35, 35, 36, 36,\n",
       "       37, 37, 37, 37, 38, 38, 39, 39, 40, 40, 41, 41, 41, 41, 41, 41, 42,\n",
       "       42, 43, 43, 43, 43, 43])"
      ]
     },
     "execution_count": 24,
     "metadata": {},
     "output_type": "execute_result"
    }
   ],
   "source": [
    "ms[100:140]"
   ]
  },
  {
   "cell_type": "code",
   "execution_count": 20,
   "id": "82e547f2",
   "metadata": {},
   "outputs": [
    {
     "data": {
      "image/png": "[encoded data removed]",
      "text/plain": [
       "<Figure size 1000x600 with 1 Axes>"
      ]
     },
     "metadata": {},
     "output_type": "display_data"
    }
   ],
   "source": [
    "plt.figure(figsize=(10, 6))\n",
    "marker = None #'o'\n",
    "#plt.xscale('log')\n",
    "#plt.yscale('log')\n",
    "\n",
    "plt.plot(np.arange(len(penalized_train_losses)), penalized_train_losses, label='train')\n",
    "plt.plot([min(VAL_ITER * k, len(penalized_train_losses)) for k in range(len(penalized_val_losses))], \n",
    "         penalized_val_losses, label='val', marker=marker)\n",
    "\n",
    "plt.xlabel('Iteration $k$', fontsize=28)\n",
    "plt.ylabel('Penalized loss', fontsize=28)\n",
    "plt.xticks(fontsize=24)\n",
    "plt.yticks(fontsize=24)\n",
    "plt.legend(fontsize=18)\n",
    "#plt.savefig(os.path.join(FIGURES_DIR, 'losses-ista-10-1.png'), bbox_inches='tight')\n",
    "plt.show()"
   ]
  },
  {
   "cell_type": "code",
   "execution_count": 21,
   "id": "72d008f2",
   "metadata": {},
   "outputs": [
    {
     "data": {
      "image/png": "[encoded data removed]",
      "text/plain": [
       "<Figure size 1000x600 with 1 Axes>"
      ]
     },
     "metadata": {},
     "output_type": "display_data"
    }
   ],
   "source": [
    "plt.figure(figsize=(10, 6))\n",
    "marker = None #'o'\n",
    "#plt.xscale('log')\n",
    "#plt.yscale('log')\n",
    "\n",
    "plt.plot(np.arange(len(train_losses)), train_losses, label='train')\n",
    "plt.plot([min(VAL_ITER * k, len(train_losses)) for k in range(len(val_losses))], val_losses, label='val', \n",
    "         marker=marker)\n",
    "\n",
    "plt.xlabel('Iteration $k$', fontsize=28)\n",
    "plt.ylabel('Loss (not penalized)', fontsize=28)\n",
    "plt.xticks(fontsize=24)\n",
    "plt.yticks(fontsize=24)\n",
    "plt.legend(fontsize=18)\n",
    "#plt.savefig(os.path.join(FIGURES_DIR, 'losses-ista-10-1.png'), bbox_inches='tight')\n",
    "plt.show()"
   ]
  },
  {
   "cell_type": "code",
   "execution_count": null,
   "id": "f571ee3e",
   "metadata": {},
   "outputs": [],
   "source": []
  },
  {
   "cell_type": "code",
   "execution_count": null,
   "id": "07d65d48",
   "metadata": {},
   "outputs": [],
   "source": []
  }
 ],
 "metadata": {
  "kernelspec": {
   "display_name": "Python 3 (ipykernel)",
   "language": "python",
   "name": "python3"
  },
  "language_info": {
   "codemirror_mode": {
    "name": "ipython",
    "version": 3
   },
   "file_extension": ".py",
   "mimetype": "text/x-python",
   "name": "python",
   "nbconvert_exporter": "python",
   "pygments_lexer": "ipython3",
   "version": "3.9.7"
  }
 },
 "nbformat": 4,
 "nbformat_minor": 5
}
