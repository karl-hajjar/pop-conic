{
 "cells": [
  {
   "cell_type": "code",
   "execution_count": 1,
   "id": "dc61dabf",
   "metadata": {},
   "outputs": [],
   "source": [
    "%matplotlib inline\n",
    "%load_ext autoreload\n",
    "%autoreload 2"
   ]
  },
  {
   "cell_type": "code",
   "execution_count": 2,
   "id": "c38725de",
   "metadata": {},
   "outputs": [
    {
     "name": "stderr",
     "output_type": "stream",
     "text": [
      "/usr/local/lib/python3.9/site-packages/tqdm/auto.py:22: TqdmWarning: IProgress not found. Please update jupyter and ipywidgets. See https://ipywidgets.readthedocs.io/en/stable/user_install.html\n",
      "  from .autonotebook import tqdm as notebook_tqdm\n"
     ]
    }
   ],
   "source": [
    "import os\n",
    "import matplotlib.pyplot as plt\n",
    "import seaborn as sns\n",
    "sns.set_style('darkgrid')\n",
    "\n",
    "import numpy\n",
    "import torch\n",
    "from time import time\n",
    "from tqdm import tqdm"
   ]
  },
  {
   "cell_type": "code",
   "execution_count": 3,
   "id": "e93c8b3b",
   "metadata": {},
   "outputs": [],
   "source": [
    "cwd = os.getcwd()\n",
    "NOTEBOOK_DIR = os.path.dirname(cwd+'/')\n",
    "ROOT = os.path.dirname(NOTEBOOK_DIR)\n",
    "\n",
    "import sys\n",
    "sys.path.append(ROOT)"
   ]
  },
  {
   "cell_type": "code",
   "execution_count": 4,
   "id": "8f0251e9",
   "metadata": {},
   "outputs": [],
   "source": [
    "from utils.tools import *"
   ]
  },
  {
   "cell_type": "markdown",
   "id": "fa9e0d9c",
   "metadata": {},
   "source": [
    "# Constants"
   ]
  },
  {
   "cell_type": "code",
   "execution_count": 5,
   "id": "f0839a11",
   "metadata": {},
   "outputs": [],
   "source": [
    "INPUT_DIM = 50\n",
    "BIAS = False\n",
    "\n",
    "SEED = 42\n",
    "N_TRAIN = 256\n",
    "BATCH_SIZE = 64\n",
    "ALPHA = 1e-1\n",
    "BASE_LR = 1.0e-2\n",
    "N_STEPS = int(4e4)\n",
    "N_VAL = 100\n",
    "VAL_ITER = 100\n",
    "N_MAX_NEURONS = 2000\n",
    "\n",
    "EPS = 1.0e-7\n",
    "ETA = 0.5\n",
    "ALPHA = 0.5\n",
    "LAMBDA = 0.02"
   ]
  },
  {
   "cell_type": "code",
   "execution_count": 6,
   "id": "8de4bcd7",
   "metadata": {},
   "outputs": [],
   "source": [
    "FIGURES_DIR = os.path.join(ROOT, 'figures/ista')\n",
    "create_dir(FIGURES_DIR)"
   ]
  },
  {
   "cell_type": "code",
   "execution_count": 7,
   "id": "d50d3a83",
   "metadata": {},
   "outputs": [],
   "source": [
    "set_random_seeds(SEED)"
   ]
  },
  {
   "cell_type": "markdown",
   "id": "a4e20311",
   "metadata": {},
   "source": [
    "# Data"
   ]
  },
  {
   "cell_type": "code",
   "execution_count": 8,
   "id": "b9418113",
   "metadata": {},
   "outputs": [],
   "source": [
    "def forward(a, b, x):\n",
    "    if a.shape[1] == 0:\n",
    "        return 0.\n",
    "    return np.matmul(np.maximum(np.matmul(x, b.T), 0), a.T) #/ a.shape[1]"
   ]
  },
  {
   "cell_type": "code",
   "execution_count": 9,
   "id": "cfdf802c",
   "metadata": {},
   "outputs": [],
   "source": [
    "# Teacher Network\n",
    "m_star = 50 # number of teacher neurons\n",
    "eps = 3e-1\n",
    "\n",
    "a_star = 2 * np.sign(np.random.uniform(size=(1, m_star)) - 0.5) / np.sqrt(m_star)\n",
    "b_star = 2 * np.random.uniform(size=(m_star, INPUT_DIM)) - 1 - eps * np.random.normal(size=(m_star, INPUT_DIM))**2"
   ]
  },
  {
   "cell_type": "code",
   "execution_count": 10,
   "id": "b4d2a08b",
   "metadata": {},
   "outputs": [],
   "source": [
    "# Data\n",
    "x_train = np.random.normal(size=(N_TRAIN, INPUT_DIM))\n",
    "train_norms = np.linalg.norm(x_train, axis=1, ord=2, keepdims=True)\n",
    "x_train = x_train / train_norms\n",
    "y_train = forward(a_star, b_star, x_train)\n",
    "\n",
    "x_val = np.random.normal(size=(N_VAL, INPUT_DIM)) / np.sqrt(INPUT_DIM)\n",
    "val_norms = np.linalg.norm(x_val, axis=1, ord=2, keepdims=True)\n",
    "x_val = x_val / val_norms\n",
    "y_val = forward(a_star, b_star, x_val)"
   ]
  },
  {
   "cell_type": "code",
   "execution_count": 11,
   "id": "730762e4",
   "metadata": {},
   "outputs": [
    {
     "name": "stdout",
     "output_type": "stream",
     "text": [
      "1.0\n",
      "1.0000000000000002\n"
     ]
    }
   ],
   "source": [
    "print(np.max(np.linalg.norm(x_train, axis=1, ord=2)))\n",
    "print(np.max(np.linalg.norm(x_val, axis=1, ord=2)))"
   ]
  },
  {
   "cell_type": "markdown",
   "id": "90753b18",
   "metadata": {},
   "source": [
    "# Algorithm iterations"
   ]
  },
  {
   "cell_type": "code",
   "execution_count": 12,
   "id": "84f479b6",
   "metadata": {},
   "outputs": [],
   "source": [
    "def compute_losses(a, b, x, y, penalized=True):\n",
    "    y_hat = forward(a, b, x)\n",
    "    loss_ = 0.5 * np.mean((y_hat - y)**2)\n",
    "    if penalized:\n",
    "        penalized_loss = loss_ + LAMBDA * np.sum(np.abs(a))\n",
    "    else:\n",
    "        0.\n",
    "    return loss_, penalized_loss"
   ]
  },
  {
   "cell_type": "code",
   "execution_count": 13,
   "id": "63b73fd1",
   "metadata": {},
   "outputs": [],
   "source": [
    "def train(n_steps, x_train, y_train, x_val, y_val, do_val=True):\n",
    "    a = np.array([[]])\n",
    "    b = np.array([[]])\n",
    "    ms = [0]\n",
    "    train_losses = []\n",
    "    penalized_train_losses = []\n",
    "    val_losses = []\n",
    "    penalized_val_losses = []\n",
    "\n",
    "    for k in tqdm(range(N_STEPS)):\n",
    "        # sample and update iteration in 2 stpes\n",
    "        a, b = add_new_neuron(a, b, x_train, y_train, eps=EPS)\n",
    "        ms.append(a.shape[1])\n",
    "        a, b = update_random_neuron(a, b, x_train, y_train, eps=EPS)\n",
    "        ms.append(a.shape[1])\n",
    "        \n",
    "        # compute training loss\n",
    "        train_loss, penalized_train_loss = compute_losses(a, b, x_train, y_train)\n",
    "        train_losses.append(train_loss)\n",
    "        penalized_train_losses.append(penalized_train_loss)\n",
    "        \n",
    "        # validation loop if do_val is True\n",
    "        if do_val:\n",
    "            if k % VAL_ITER == 0:\n",
    "                val_loss, penalized_val_loss = compute_losses(a, b, x_val, y_val)\n",
    "                val_losses.append(val_loss)\n",
    "                penalized_val_losses.append(penalized_val_loss)\n",
    "                print('m at step {:,} : {:,}'.format(k, ms[-1]))\n",
    "                print('Train loss at step {:,} : {:.5f}'.format(k, train_loss))\n",
    "                print('Validation loss at step {:,} : {:.5f}'.format(k, val_loss))\n",
    "                \n",
    "    return a, b, np.array(ms), np.array(train_losses), np.array(penalized_train_losses), np.array(val_losses), \\\n",
    "           np.array(penalized_val_losses) "
   ]
  },
  {
   "cell_type": "code",
   "execution_count": 14,
   "id": "4d0aa8e4",
   "metadata": {},
   "outputs": [],
   "source": [
    "def add_new_neuron(a, b, x, y, eps=1.0e-6):\n",
    "    #neurons_scale = np.sqrt(INPUT_DIM)\n",
    "    new_b = np.random.normal(size=(1, INPUT_DIM))\n",
    "    neurons_scale = np.linalg.norm(new_b, axis=1, ord=2)\n",
    "    # new_b = new_b / np.sqrt(np.sum(new_b**2))\n",
    "    new_b = new_b / neurons_scale\n",
    "    V = V_grad(a, b, x, y, new_b)\n",
    "    new_a = ETA * soft_thresholding(V, tau=LAMBDA)\n",
    "    \n",
    "    if np.abs(new_a) > eps:\n",
    "        if a.shape[1] == 0:\n",
    "            a = np.array([[new_a]])\n",
    "            b = new_b\n",
    "        else:\n",
    "            a = np.column_stack((a, [new_a]))\n",
    "            b = np.row_stack((b, new_b))\n",
    "    \n",
    "    return a, b "
   ]
  },
  {
   "cell_type": "code",
   "execution_count": 15,
   "id": "d3e2cc5a",
   "metadata": {},
   "outputs": [],
   "source": [
    "def update_random_neuron(a, b, x, y, eps=1.0e-6):\n",
    "    if a.shape[1] > 0:\n",
    "        j = np.random.randint(low=0, high=a.shape[1])\n",
    "        b_j = b[j, :]\n",
    "        V = V_grad(a, b, x, y, b_j) - a[0, j] / ALPHA \n",
    "        new_a = ALPHA * soft_thresholding(V, tau=LAMBDA)\n",
    "\n",
    "        if np.abs(new_a) > eps:\n",
    "            # update weight for neuron b_j\n",
    "            a[0, j] = new_a  \n",
    "        else:\n",
    "            # remove a_j and b_j from the list\n",
    "            a = np.column_stack((a[:, :j], a[:, j+1:]))\n",
    "            b = np.row_stack((b[:j, :], b[j+1:, :]))\n",
    "    return a, b  "
   ]
  },
  {
   "cell_type": "markdown",
   "id": "092f87a9",
   "metadata": {},
   "source": [
    "$$\\text{soft_thresholding}(V, \\tau) = -\\text{sign}(V) \\times \\max\\Big(0,|V| - \\tau \\Big) $$"
   ]
  },
  {
   "cell_type": "code",
   "execution_count": 16,
   "id": "25cafd7d",
   "metadata": {},
   "outputs": [],
   "source": [
    "def soft_thresholding(V, tau):\n",
    "    return - np.sign(V) * np.maximum(0, np.abs(V) - tau)"
   ]
  },
  {
   "cell_type": "code",
   "execution_count": 17,
   "id": "b71e02c7",
   "metadata": {},
   "outputs": [],
   "source": [
    "def V_grad(a, b, x, y, new_b):\n",
    "    y_hat = forward(a, b, x)\n",
    "    return np.mean((y_hat - y) * np.maximum(np.matmul(x, new_b.T), 0))"
   ]
  },
  {
   "cell_type": "code",
   "execution_count": 71,
   "id": "03d34f4f",
   "metadata": {},
   "outputs": [],
   "source": [
    "INPUT_DIM = 50\n",
    "ms = [1, 5, 20, 50, 100, 256, 1000, 5000, 10000]\n",
    "n_rep = 100\n",
    "lip_consts = []\n",
    "for m in ms:\n",
    "    for _ in range(n_rep):\n",
    "        a_1 = np.random.normal(size=(1, m))\n",
    "        b_1 = np.random.normal(size=(m, INPUT_DIM))\n",
    "        norms_1 = np.linalg.norm(b_1, axis=1, ord=2, keepdims=True)\n",
    "        b_1 = b_1 / norms_1\n",
    "\n",
    "        a_2 = np.random.normal(size=(1, m))\n",
    "        b_2 = np.random.normal(size=(m, INPUT_DIM))\n",
    "        norms_2 = np.linalg.norm(b_2, axis=1, ord=2, keepdims=True)\n",
    "        b_2 = b_2 / norms_2\n",
    "\n",
    "        b_ = np.random.normal(size=(1, INPUT_DIM))\n",
    "        norm = np.linalg.norm(b_, axis=1, ord=2, keepdims=True)\n",
    "        b_ = b_ / norm\n",
    "\n",
    "        V_1 = V_grad(a_1, b_1, x_train, y_train, b_)\n",
    "        V_2 = V_grad(a_2, b_2, x_train, y_train, b_)\n",
    "\n",
    "        lip_consts.append(np.abs(V_1 - V_2) / (np.sum(np.abs(a_1)))) \n",
    "        \n",
    "lip_consts = np.array(lip_consts)"
   ]
  },
  {
   "cell_type": "code",
   "execution_count": 72,
   "id": "63b74682",
   "metadata": {},
   "outputs": [
    {
     "data": {
      "text/plain": [
       "0.7504042554380439"
      ]
     },
     "execution_count": 72,
     "metadata": {},
     "output_type": "execute_result"
    }
   ],
   "source": [
    "np.max(lip_consts)"
   ]
  },
  {
   "cell_type": "code",
   "execution_count": 73,
   "id": "276eb18b",
   "metadata": {},
   "outputs": [
    {
     "data": {
      "text/plain": [
       "0.0023491291242041462"
      ]
     },
     "execution_count": 73,
     "metadata": {},
     "output_type": "execute_result"
    }
   ],
   "source": [
    "np.mean(lip_consts)"
   ]
  },
  {
   "cell_type": "code",
   "execution_count": 74,
   "id": "cff44fa7",
   "metadata": {},
   "outputs": [
    {
     "data": {
      "text/plain": [
       "0.00029582880990746416"
      ]
     },
     "execution_count": 74,
     "metadata": {},
     "output_type": "execute_result"
    }
   ],
   "source": [
    "np.median(lip_consts)"
   ]
  },
  {
   "cell_type": "code",
   "execution_count": 75,
   "id": "59bfb466",
   "metadata": {},
   "outputs": [
    {
     "data": {
      "text/plain": [
       "0.025937777060158228"
      ]
     },
     "execution_count": 75,
     "metadata": {},
     "output_type": "execute_result"
    }
   ],
   "source": [
    "np.std(lip_consts)"
   ]
  },
  {
   "cell_type": "code",
   "execution_count": 76,
   "id": "2c8e4058",
   "metadata": {},
   "outputs": [
    {
     "data": {
      "text/plain": [
       "0.015400674776549939"
      ]
     },
     "execution_count": 76,
     "metadata": {},
     "output_type": "execute_result"
    }
   ],
   "source": [
    "np.percentile(lip_consts, q=99)"
   ]
  },
  {
   "cell_type": "code",
   "execution_count": null,
   "id": "36bb05b5",
   "metadata": {},
   "outputs": [],
   "source": []
  },
  {
   "cell_type": "code",
   "execution_count": null,
   "id": "cce351ef",
   "metadata": {},
   "outputs": [],
   "source": []
  },
  {
   "cell_type": "code",
   "execution_count": null,
   "id": "595cc781",
   "metadata": {},
   "outputs": [],
   "source": []
  },
  {
   "cell_type": "code",
   "execution_count": null,
   "id": "511df22a",
   "metadata": {},
   "outputs": [],
   "source": []
  },
  {
   "cell_type": "code",
   "execution_count": 18,
   "id": "21b60e85",
   "metadata": {},
   "outputs": [],
   "source": [
    "def forward_states(a, b, x):\n",
    "    x_1 = np.maximum(np.matmul(x, b.T), 0)\n",
    "    y_hat = np.matmul(x_1, a.T) #/ a.shape[1]\n",
    "    return x_1, y_hat"
   ]
  },
  {
   "cell_type": "code",
   "execution_count": 19,
   "id": "060bdf22",
   "metadata": {},
   "outputs": [
    {
     "name": "stderr",
     "output_type": "stream",
     "text": [
      "  1%|▏                                    | 215/40000 [00:00<00:35, 1106.28it/s]"
     ]
    },
    {
     "name": "stdout",
     "output_type": "stream",
     "text": [
      "m at step 0 : 1\n",
      "Train loss at step 0 : 0.40157\n",
      "Validation loss at step 0 : 0.36975\n",
      "m at step 100 : 65\n",
      "Train loss at step 100 : 0.39182\n",
      "Validation loss at step 100 : 0.36041\n",
      "m at step 200 : 118\n",
      "Train loss at step 200 : 0.38585\n",
      "Validation loss at step 200 : 0.35458\n"
     ]
    },
    {
     "name": "stderr",
     "output_type": "stream",
     "text": [
      "  1%|▍                                     | 429/40000 [00:00<00:40, 973.06it/s]"
     ]
    },
    {
     "name": "stdout",
     "output_type": "stream",
     "text": [
      "m at step 300 : 161\n",
      "Train loss at step 300 : 0.38058\n",
      "Validation loss at step 300 : 0.34935\n",
      "m at step 400 : 199\n",
      "Train loss at step 400 : 0.37673\n",
      "Validation loss at step 400 : 0.34573\n"
     ]
    },
    {
     "name": "stderr",
     "output_type": "stream",
     "text": [
      "  2%|▌                                     | 617/40000 [00:00<00:47, 824.83it/s]"
     ]
    },
    {
     "name": "stdout",
     "output_type": "stream",
     "text": [
      "m at step 500 : 227\n",
      "Train loss at step 500 : 0.37314\n",
      "Validation loss at step 500 : 0.34240\n",
      "m at step 600 : 266\n",
      "Train loss at step 600 : 0.36906\n",
      "Validation loss at step 600 : 0.33836\n"
     ]
    },
    {
     "name": "stderr",
     "output_type": "stream",
     "text": [
      "  2%|▋                                     | 778/40000 [00:00<00:55, 708.41it/s]"
     ]
    },
    {
     "name": "stdout",
     "output_type": "stream",
     "text": [
      "m at step 700 : 285\n",
      "Train loss at step 700 : 0.36657\n",
      "Validation loss at step 700 : 0.33640\n",
      "m at step 800 : 312\n",
      "Train loss at step 800 : 0.36586\n",
      "Validation loss at step 800 : 0.33591\n"
     ]
    },
    {
     "name": "stderr",
     "output_type": "stream",
     "text": [
      "  2%|▉                                     | 971/40000 [00:01<01:13, 531.60it/s]"
     ]
    },
    {
     "name": "stdout",
     "output_type": "stream",
     "text": [
      "m at step 900 : 332\n",
      "Train loss at step 900 : 0.36460\n",
      "Validation loss at step 900 : 0.33457\n",
      "m at step 1,000 : 359\n",
      "Train loss at step 1,000 : 0.36339\n",
      "Validation loss at step 1,000 : 0.33344\n"
     ]
    },
    {
     "name": "stderr",
     "output_type": "stream",
     "text": [
      "  3%|█                                    | 1171/40000 [00:01<01:37, 397.26it/s]"
     ]
    },
    {
     "name": "stdout",
     "output_type": "stream",
     "text": [
      "m at step 1,100 : 386\n",
      "Train loss at step 1,100 : 0.36207\n",
      "Validation loss at step 1,100 : 0.33225\n"
     ]
    },
    {
     "name": "stderr",
     "output_type": "stream",
     "text": [
      "  3%|█▏                                   | 1259/40000 [00:02<01:33, 414.10it/s]"
     ]
    },
    {
     "name": "stdout",
     "output_type": "stream",
     "text": [
      "m at step 1,200 : 408\n",
      "Train loss at step 1,200 : 0.36042\n",
      "Validation loss at step 1,200 : 0.33027\n"
     ]
    },
    {
     "name": "stderr",
     "output_type": "stream",
     "text": [
      "  3%|█▏                                   | 1344/40000 [00:02<01:36, 401.19it/s]"
     ]
    },
    {
     "name": "stdout",
     "output_type": "stream",
     "text": [
      "m at step 1,300 : 416\n",
      "Train loss at step 1,300 : 0.35939\n",
      "Validation loss at step 1,300 : 0.32918\n"
     ]
    },
    {
     "name": "stderr",
     "output_type": "stream",
     "text": [
      "  4%|█▎                                   | 1482/40000 [00:02<01:30, 426.43it/s]"
     ]
    },
    {
     "name": "stdout",
     "output_type": "stream",
     "text": [
      "m at step 1,400 : 438\n",
      "Train loss at step 1,400 : 0.35860\n",
      "Validation loss at step 1,400 : 0.32858\n"
     ]
    },
    {
     "name": "stderr",
     "output_type": "stream",
     "text": [
      "  4%|█▍                                   | 1569/40000 [00:02<01:31, 420.48it/s]"
     ]
    },
    {
     "name": "stdout",
     "output_type": "stream",
     "text": [
      "m at step 1,500 : 449\n",
      "Train loss at step 1,500 : 0.35777\n",
      "Validation loss at step 1,500 : 0.32808\n"
     ]
    },
    {
     "name": "stderr",
     "output_type": "stream",
     "text": [
      "  4%|█▌                                   | 1652/40000 [00:03<01:49, 351.27it/s]"
     ]
    },
    {
     "name": "stdout",
     "output_type": "stream",
     "text": [
      "m at step 1,600 : 470\n",
      "Train loss at step 1,600 : 0.35690\n",
      "Validation loss at step 1,600 : 0.32740\n"
     ]
    },
    {
     "name": "stderr",
     "output_type": "stream",
     "text": [
      "  4%|█▋                                   | 1781/40000 [00:03<01:38, 389.90it/s]"
     ]
    },
    {
     "name": "stdout",
     "output_type": "stream",
     "text": [
      "m at step 1,700 : 471\n",
      "Train loss at step 1,700 : 0.35575\n",
      "Validation loss at step 1,700 : 0.32638\n"
     ]
    },
    {
     "name": "stderr",
     "output_type": "stream",
     "text": [
      "  5%|█▋                                   | 1859/40000 [00:03<01:54, 333.20it/s]"
     ]
    },
    {
     "name": "stdout",
     "output_type": "stream",
     "text": [
      "m at step 1,800 : 468\n",
      "Train loss at step 1,800 : 0.35602\n",
      "Validation loss at step 1,800 : 0.32665\n"
     ]
    },
    {
     "name": "stderr",
     "output_type": "stream",
     "text": [
      "  5%|█▊                                   | 1967/40000 [00:04<01:54, 333.15it/s]"
     ]
    },
    {
     "name": "stdout",
     "output_type": "stream",
     "text": [
      "m at step 1,900 : 468\n",
      "Train loss at step 1,900 : 0.35648\n",
      "Validation loss at step 1,900 : 0.32719\n"
     ]
    },
    {
     "name": "stderr",
     "output_type": "stream",
     "text": [
      "  5%|█▉                                   | 2042/40000 [00:04<01:48, 351.27it/s]"
     ]
    },
    {
     "name": "stdout",
     "output_type": "stream",
     "text": [
      "m at step 2,000 : 477\n",
      "Train loss at step 2,000 : 0.35642\n",
      "Validation loss at step 2,000 : 0.32706\n"
     ]
    },
    {
     "name": "stderr",
     "output_type": "stream",
     "text": [
      "  5%|██                                   | 2182/40000 [00:04<01:31, 412.49it/s]"
     ]
    },
    {
     "name": "stdout",
     "output_type": "stream",
     "text": [
      "m at step 2,100 : 477\n",
      "Train loss at step 2,100 : 0.35652\n",
      "Validation loss at step 2,100 : 0.32713\n"
     ]
    },
    {
     "name": "stderr",
     "output_type": "stream",
     "text": [
      "  6%|██                                   | 2270/40000 [00:04<01:34, 399.84it/s]"
     ]
    },
    {
     "name": "stdout",
     "output_type": "stream",
     "text": [
      "m at step 2,200 : 478\n",
      "Train loss at step 2,200 : 0.35656\n",
      "Validation loss at step 2,200 : 0.32758\n"
     ]
    },
    {
     "name": "stderr",
     "output_type": "stream",
     "text": [
      "  6%|██▏                                  | 2360/40000 [00:05<01:32, 406.52it/s]"
     ]
    },
    {
     "name": "stdout",
     "output_type": "stream",
     "text": [
      "m at step 2,300 : 483\n",
      "Train loss at step 2,300 : 0.35638\n",
      "Validation loss at step 2,300 : 0.32742\n"
     ]
    },
    {
     "name": "stderr",
     "output_type": "stream",
     "text": [
      "  6%|██▎                                  | 2443/40000 [00:05<01:41, 369.19it/s]"
     ]
    },
    {
     "name": "stdout",
     "output_type": "stream",
     "text": [
      "m at step 2,400 : 501\n",
      "Train loss at step 2,400 : 0.35573\n",
      "Validation loss at step 2,400 : 0.32687\n"
     ]
    },
    {
     "name": "stderr",
     "output_type": "stream",
     "text": [
      "  6%|██▎                                  | 2561/40000 [00:05<01:51, 336.71it/s]"
     ]
    },
    {
     "name": "stdout",
     "output_type": "stream",
     "text": [
      "m at step 2,500 : 520\n",
      "Train loss at step 2,500 : 0.35532\n",
      "Validation loss at step 2,500 : 0.32624\n"
     ]
    },
    {
     "name": "stderr",
     "output_type": "stream",
     "text": [
      "  7%|██▍                                  | 2671/40000 [00:06<01:51, 335.60it/s]"
     ]
    },
    {
     "name": "stdout",
     "output_type": "stream",
     "text": [
      "m at step 2,600 : 526\n",
      "Train loss at step 2,600 : 0.35447\n",
      "Validation loss at step 2,600 : 0.32555\n"
     ]
    },
    {
     "name": "stderr",
     "output_type": "stream",
     "text": [
      "  7%|██▌                                  | 2754/40000 [00:06<01:39, 373.85it/s]"
     ]
    },
    {
     "name": "stdout",
     "output_type": "stream",
     "text": [
      "m at step 2,700 : 530\n",
      "Train loss at step 2,700 : 0.35463\n",
      "Validation loss at step 2,700 : 0.32595\n"
     ]
    },
    {
     "name": "stderr",
     "output_type": "stream",
     "text": [
      "  7%|██▋                                  | 2879/40000 [00:06<01:32, 401.04it/s]"
     ]
    },
    {
     "name": "stdout",
     "output_type": "stream",
     "text": [
      "m at step 2,800 : 532\n",
      "Train loss at step 2,800 : 0.35512\n",
      "Validation loss at step 2,800 : 0.32600\n"
     ]
    },
    {
     "name": "stderr",
     "output_type": "stream",
     "text": [
      "  7%|██▋                                  | 2960/40000 [00:06<01:35, 387.52it/s]"
     ]
    },
    {
     "name": "stdout",
     "output_type": "stream",
     "text": [
      "m at step 2,900 : 543\n",
      "Train loss at step 2,900 : 0.35456\n",
      "Validation loss at step 2,900 : 0.32541\n"
     ]
    },
    {
     "name": "stderr",
     "output_type": "stream",
     "text": [
      "  8%|██▊                                  | 3081/40000 [00:07<01:37, 380.49it/s]"
     ]
    },
    {
     "name": "stdout",
     "output_type": "stream",
     "text": [
      "m at step 3,000 : 552\n",
      "Train loss at step 3,000 : 0.35436\n",
      "Validation loss at step 3,000 : 0.32530\n"
     ]
    },
    {
     "name": "stderr",
     "output_type": "stream",
     "text": [
      "  8%|██▉                                  | 3158/40000 [00:07<01:47, 344.16it/s]"
     ]
    },
    {
     "name": "stdout",
     "output_type": "stream",
     "text": [
      "m at step 3,100 : 551\n",
      "Train loss at step 3,100 : 0.35477\n",
      "Validation loss at step 3,100 : 0.32575\n"
     ]
    },
    {
     "name": "stderr",
     "output_type": "stream",
     "text": [
      "  8%|██▉                                  | 3236/40000 [00:07<01:40, 365.27it/s]"
     ]
    },
    {
     "name": "stdout",
     "output_type": "stream",
     "text": [
      "m at step 3,200 : 550\n",
      "Train loss at step 3,200 : 0.35507\n",
      "Validation loss at step 3,200 : 0.32634\n"
     ]
    },
    {
     "name": "stderr",
     "output_type": "stream",
     "text": [
      "  8%|███                                  | 3341/40000 [00:07<02:01, 301.56it/s]"
     ]
    },
    {
     "name": "stdout",
     "output_type": "stream",
     "text": [
      "m at step 3,300 : 555\n",
      "Train loss at step 3,300 : 0.35481\n",
      "Validation loss at step 3,300 : 0.32626\n"
     ]
    },
    {
     "name": "stderr",
     "output_type": "stream",
     "text": [
      "  9%|███▏                                 | 3452/40000 [00:08<01:44, 348.74it/s]"
     ]
    },
    {
     "name": "stdout",
     "output_type": "stream",
     "text": [
      "m at step 3,400 : 558\n",
      "Train loss at step 3,400 : 0.35524\n",
      "Validation loss at step 3,400 : 0.32664\n"
     ]
    },
    {
     "name": "stderr",
     "output_type": "stream",
     "text": [
      "  9%|███▎                                 | 3569/40000 [00:08<01:36, 376.85it/s]"
     ]
    },
    {
     "name": "stdout",
     "output_type": "stream",
     "text": [
      "m at step 3,500 : 559\n",
      "Train loss at step 3,500 : 0.35509\n",
      "Validation loss at step 3,500 : 0.32674\n"
     ]
    },
    {
     "name": "stderr",
     "output_type": "stream",
     "text": [
      "  9%|███▎                                 | 3645/40000 [00:08<01:37, 372.88it/s]"
     ]
    },
    {
     "name": "stdout",
     "output_type": "stream",
     "text": [
      "m at step 3,600 : 563\n",
      "Train loss at step 3,600 : 0.35443\n",
      "Validation loss at step 3,600 : 0.32599\n"
     ]
    },
    {
     "name": "stderr",
     "output_type": "stream",
     "text": [
      "  9%|███▍                                 | 3765/40000 [00:09<01:33, 389.54it/s]"
     ]
    },
    {
     "name": "stdout",
     "output_type": "stream",
     "text": [
      "m at step 3,700 : 560\n",
      "Train loss at step 3,700 : 0.35392\n",
      "Validation loss at step 3,700 : 0.32576\n"
     ]
    },
    {
     "name": "stderr",
     "output_type": "stream",
     "text": [
      " 10%|███▌                                 | 3840/40000 [00:09<01:49, 330.99it/s]"
     ]
    },
    {
     "name": "stdout",
     "output_type": "stream",
     "text": [
      "m at step 3,800 : 557\n",
      "Train loss at step 3,800 : 0.35333\n",
      "Validation loss at step 3,800 : 0.32516\n"
     ]
    },
    {
     "name": "stderr",
     "output_type": "stream",
     "text": [
      " 10%|███▌                                 | 3918/40000 [00:09<01:41, 356.48it/s]"
     ]
    },
    {
     "name": "stdout",
     "output_type": "stream",
     "text": [
      "m at step 3,900 : 558\n",
      "Train loss at step 3,900 : 0.35315\n",
      "Validation loss at step 3,900 : 0.32525\n"
     ]
    },
    {
     "name": "stderr",
     "output_type": "stream",
     "text": [
      " 10%|███▋                                 | 4053/40000 [00:10<02:05, 285.84it/s]"
     ]
    },
    {
     "name": "stdout",
     "output_type": "stream",
     "text": [
      "m at step 4,000 : 568\n",
      "Train loss at step 4,000 : 0.35237\n",
      "Validation loss at step 4,000 : 0.32441\n"
     ]
    },
    {
     "name": "stderr",
     "output_type": "stream",
     "text": [
      " 10%|███▊                                 | 4172/40000 [00:10<01:40, 355.86it/s]"
     ]
    },
    {
     "name": "stdout",
     "output_type": "stream",
     "text": [
      "m at step 4,100 : 568\n",
      "Train loss at step 4,100 : 0.35206\n",
      "Validation loss at step 4,100 : 0.32372\n"
     ]
    },
    {
     "name": "stderr",
     "output_type": "stream",
     "text": [
      " 11%|███▉                                 | 4251/40000 [00:10<01:35, 374.69it/s]"
     ]
    },
    {
     "name": "stdout",
     "output_type": "stream",
     "text": [
      "m at step 4,200 : 563\n",
      "Train loss at step 4,200 : 0.35226\n",
      "Validation loss at step 4,200 : 0.32410\n"
     ]
    },
    {
     "name": "stderr",
     "output_type": "stream",
     "text": [
      " 11%|████                                 | 4366/40000 [00:10<01:38, 361.93it/s]"
     ]
    },
    {
     "name": "stdout",
     "output_type": "stream",
     "text": [
      "m at step 4,300 : 569\n",
      "Train loss at step 4,300 : 0.35243\n",
      "Validation loss at step 4,300 : 0.32437\n"
     ]
    },
    {
     "name": "stderr",
     "output_type": "stream",
     "text": [
      " 11%|████                                 | 4441/40000 [00:11<01:47, 330.63it/s]"
     ]
    },
    {
     "name": "stdout",
     "output_type": "stream",
     "text": [
      "m at step 4,400 : 573\n",
      "Train loss at step 4,400 : 0.35201\n",
      "Validation loss at step 4,400 : 0.32393\n"
     ]
    },
    {
     "name": "stderr",
     "output_type": "stream",
     "text": [
      " 11%|████▏                                | 4556/40000 [00:11<01:41, 350.38it/s]"
     ]
    },
    {
     "name": "stdout",
     "output_type": "stream",
     "text": [
      "m at step 4,500 : 562\n",
      "Train loss at step 4,500 : 0.35273\n",
      "Validation loss at step 4,500 : 0.32464\n"
     ]
    },
    {
     "name": "stderr",
     "output_type": "stream",
     "text": [
      " 12%|████▎                                | 4658/40000 [00:11<01:57, 301.59it/s]"
     ]
    },
    {
     "name": "stdout",
     "output_type": "stream",
     "text": [
      "m at step 4,600 : 564\n",
      "Train loss at step 4,600 : 0.35271\n",
      "Validation loss at step 4,600 : 0.32449\n"
     ]
    },
    {
     "name": "stderr",
     "output_type": "stream",
     "text": [
      " 12%|████▍                                | 4770/40000 [00:12<01:42, 342.72it/s]"
     ]
    },
    {
     "name": "stdout",
     "output_type": "stream",
     "text": [
      "m at step 4,700 : 577\n",
      "Train loss at step 4,700 : 0.35260\n",
      "Validation loss at step 4,700 : 0.32450\n"
     ]
    },
    {
     "name": "stderr",
     "output_type": "stream",
     "text": [
      " 12%|████▍                                | 4843/40000 [00:12<01:43, 338.92it/s]"
     ]
    },
    {
     "name": "stdout",
     "output_type": "stream",
     "text": [
      "m at step 4,800 : 571\n",
      "Train loss at step 4,800 : 0.35267\n",
      "Validation loss at step 4,800 : 0.32480\n"
     ]
    },
    {
     "name": "stderr",
     "output_type": "stream",
     "text": [
      " 12%|████▌                                | 4953/40000 [00:12<01:43, 339.45it/s]"
     ]
    },
    {
     "name": "stdout",
     "output_type": "stream",
     "text": [
      "m at step 4,900 : 563\n",
      "Train loss at step 4,900 : 0.35306\n",
      "Validation loss at step 4,900 : 0.32550\n"
     ]
    },
    {
     "name": "stderr",
     "output_type": "stream",
     "text": [
      " 13%|████▋                                | 5069/40000 [00:13<01:34, 369.10it/s]"
     ]
    },
    {
     "name": "stdout",
     "output_type": "stream",
     "text": [
      "m at step 5,000 : 566\n",
      "Train loss at step 5,000 : 0.35262\n",
      "Validation loss at step 5,000 : 0.32517\n"
     ]
    },
    {
     "name": "stderr",
     "output_type": "stream",
     "text": [
      " 13%|████▊                                | 5141/40000 [00:13<01:50, 314.72it/s]"
     ]
    },
    {
     "name": "stdout",
     "output_type": "stream",
     "text": [
      "m at step 5,100 : 561\n",
      "Train loss at step 5,100 : 0.35243\n",
      "Validation loss at step 5,100 : 0.32514\n"
     ]
    },
    {
     "name": "stderr",
     "output_type": "stream",
     "text": [
      " 13%|████▊                                | 5250/40000 [00:13<01:50, 315.42it/s]"
     ]
    },
    {
     "name": "stdout",
     "output_type": "stream",
     "text": [
      "m at step 5,200 : 571\n",
      "Train loss at step 5,200 : 0.35253\n",
      "Validation loss at step 5,200 : 0.32535\n"
     ]
    },
    {
     "name": "stderr",
     "output_type": "stream",
     "text": [
      " 13%|████▉                                | 5345/40000 [00:13<02:01, 284.96it/s]"
     ]
    },
    {
     "name": "stdout",
     "output_type": "stream",
     "text": [
      "m at step 5,300 : 567\n",
      "Train loss at step 5,300 : 0.35333\n",
      "Validation loss at step 5,300 : 0.32613\n"
     ]
    },
    {
     "name": "stderr",
     "output_type": "stream",
     "text": [
      " 14%|█████                                | 5453/40000 [00:14<01:47, 320.82it/s]"
     ]
    },
    {
     "name": "stdout",
     "output_type": "stream",
     "text": [
      "m at step 5,400 : 575\n",
      "Train loss at step 5,400 : 0.35252\n",
      "Validation loss at step 5,400 : 0.32533\n"
     ]
    },
    {
     "name": "stderr",
     "output_type": "stream",
     "text": [
      " 14%|█████▏                               | 5570/40000 [00:14<01:34, 363.47it/s]"
     ]
    },
    {
     "name": "stdout",
     "output_type": "stream",
     "text": [
      "m at step 5,500 : 585\n",
      "Train loss at step 5,500 : 0.35213\n",
      "Validation loss at step 5,500 : 0.32480\n"
     ]
    },
    {
     "name": "stderr",
     "output_type": "stream",
     "text": [
      " 14%|█████▏                               | 5646/40000 [00:14<01:35, 360.06it/s]"
     ]
    },
    {
     "name": "stdout",
     "output_type": "stream",
     "text": [
      "m at step 5,600 : 599\n",
      "Train loss at step 5,600 : 0.35128\n",
      "Validation loss at step 5,600 : 0.32391\n"
     ]
    },
    {
     "name": "stderr",
     "output_type": "stream",
     "text": [
      " 14%|█████▎                               | 5758/40000 [00:15<01:46, 321.14it/s]"
     ]
    },
    {
     "name": "stdout",
     "output_type": "stream",
     "text": [
      "m at step 5,700 : 600\n",
      "Train loss at step 5,700 : 0.35144\n",
      "Validation loss at step 5,700 : 0.32417\n"
     ]
    },
    {
     "name": "stderr",
     "output_type": "stream",
     "text": [
      " 15%|█████▍                               | 5865/40000 [00:15<01:41, 336.95it/s]"
     ]
    },
    {
     "name": "stdout",
     "output_type": "stream",
     "text": [
      "m at step 5,800 : 599\n",
      "Train loss at step 5,800 : 0.35182\n",
      "Validation loss at step 5,800 : 0.32483\n"
     ]
    },
    {
     "name": "stderr",
     "output_type": "stream",
     "text": [
      " 15%|█████▍                               | 5932/40000 [00:15<01:58, 288.14it/s]"
     ]
    },
    {
     "name": "stdout",
     "output_type": "stream",
     "text": [
      "m at step 5,900 : 586\n",
      "Train loss at step 5,900 : 0.35261\n",
      "Validation loss at step 5,900 : 0.32552\n"
     ]
    },
    {
     "name": "stderr",
     "output_type": "stream",
     "text": [
      " 15%|█████▌                               | 6069/40000 [00:16<01:42, 330.27it/s]"
     ]
    },
    {
     "name": "stdout",
     "output_type": "stream",
     "text": [
      "m at step 6,000 : 581\n",
      "Train loss at step 6,000 : 0.35294\n",
      "Validation loss at step 6,000 : 0.32607\n"
     ]
    },
    {
     "name": "stderr",
     "output_type": "stream",
     "text": [
      " 15%|█████▋                               | 6145/40000 [00:16<01:36, 352.01it/s]"
     ]
    },
    {
     "name": "stdout",
     "output_type": "stream",
     "text": [
      "m at step 6,100 : 578\n",
      "Train loss at step 6,100 : 0.35185\n",
      "Validation loss at step 6,100 : 0.32506\n"
     ]
    },
    {
     "name": "stderr",
     "output_type": "stream",
     "text": [
      " 16%|█████▊                               | 6267/40000 [00:16<01:28, 379.86it/s]"
     ]
    },
    {
     "name": "stdout",
     "output_type": "stream",
     "text": [
      "m at step 6,200 : 576\n",
      "Train loss at step 6,200 : 0.35188\n",
      "Validation loss at step 6,200 : 0.32505\n"
     ]
    },
    {
     "name": "stderr",
     "output_type": "stream",
     "text": [
      " 16%|█████▊                               | 6343/40000 [00:16<01:40, 333.51it/s]"
     ]
    },
    {
     "name": "stdout",
     "output_type": "stream",
     "text": [
      "m at step 6,300 : 582\n",
      "Train loss at step 6,300 : 0.35148\n",
      "Validation loss at step 6,300 : 0.32472\n"
     ]
    },
    {
     "name": "stderr",
     "output_type": "stream",
     "text": [
      " 16%|█████▉                               | 6445/40000 [00:17<01:50, 304.85it/s]"
     ]
    },
    {
     "name": "stdout",
     "output_type": "stream",
     "text": [
      "m at step 6,400 : 580\n",
      "Train loss at step 6,400 : 0.35186\n",
      "Validation loss at step 6,400 : 0.32502\n"
     ]
    },
    {
     "name": "stderr",
     "output_type": "stream",
     "text": [
      " 16%|██████                               | 6550/40000 [00:17<01:50, 302.33it/s]"
     ]
    },
    {
     "name": "stdout",
     "output_type": "stream",
     "text": [
      "m at step 6,500 : 582\n",
      "Train loss at step 6,500 : 0.35218\n",
      "Validation loss at step 6,500 : 0.32555\n"
     ]
    },
    {
     "name": "stderr",
     "output_type": "stream",
     "text": [
      " 17%|██████▏                              | 6645/40000 [00:18<01:54, 292.28it/s]"
     ]
    },
    {
     "name": "stdout",
     "output_type": "stream",
     "text": [
      "m at step 6,600 : 587\n",
      "Train loss at step 6,600 : 0.35198\n",
      "Validation loss at step 6,600 : 0.32530\n"
     ]
    },
    {
     "name": "stderr",
     "output_type": "stream",
     "text": [
      " 17%|██████▏                              | 6753/40000 [00:18<01:40, 330.98it/s]"
     ]
    },
    {
     "name": "stdout",
     "output_type": "stream",
     "text": [
      "m at step 6,700 : 586\n",
      "Train loss at step 6,700 : 0.35134\n",
      "Validation loss at step 6,700 : 0.32463\n"
     ]
    },
    {
     "name": "stderr",
     "output_type": "stream",
     "text": [
      " 17%|██████▎                              | 6875/40000 [00:18<01:27, 379.52it/s]"
     ]
    },
    {
     "name": "stdout",
     "output_type": "stream",
     "text": [
      "m at step 6,800 : 586\n",
      "Train loss at step 6,800 : 0.35197\n",
      "Validation loss at step 6,800 : 0.32541\n"
     ]
    },
    {
     "name": "stderr",
     "output_type": "stream",
     "text": [
      " 17%|██████▍                              | 6958/40000 [00:18<01:24, 390.18it/s]"
     ]
    },
    {
     "name": "stdout",
     "output_type": "stream",
     "text": [
      "m at step 6,900 : 578\n",
      "Train loss at step 6,900 : 0.35251\n",
      "Validation loss at step 6,900 : 0.32587\n"
     ]
    },
    {
     "name": "stderr",
     "output_type": "stream",
     "text": [
      " 18%|██████▌                              | 7038/40000 [00:19<01:24, 390.20it/s]"
     ]
    },
    {
     "name": "stdout",
     "output_type": "stream",
     "text": [
      "m at step 7,000 : 569\n",
      "Train loss at step 7,000 : 0.35291\n",
      "Validation loss at step 7,000 : 0.32641\n"
     ]
    },
    {
     "name": "stderr",
     "output_type": "stream",
     "text": [
      " 18%|██████▌                              | 7160/40000 [00:19<01:28, 370.46it/s]"
     ]
    },
    {
     "name": "stdout",
     "output_type": "stream",
     "text": [
      "m at step 7,100 : 565\n",
      "Train loss at step 7,100 : 0.35283\n",
      "Validation loss at step 7,100 : 0.32654\n"
     ]
    },
    {
     "name": "stderr",
     "output_type": "stream",
     "text": [
      " 18%|██████▋                              | 7234/40000 [00:19<01:48, 302.45it/s]"
     ]
    },
    {
     "name": "stdout",
     "output_type": "stream",
     "text": [
      "m at step 7,200 : 559\n",
      "Train loss at step 7,200 : 0.35261\n",
      "Validation loss at step 7,200 : 0.32647\n"
     ]
    },
    {
     "name": "stderr",
     "output_type": "stream",
     "text": [
      " 18%|██████▊                              | 7380/40000 [00:20<01:35, 342.36it/s]"
     ]
    },
    {
     "name": "stdout",
     "output_type": "stream",
     "text": [
      "m at step 7,300 : 561\n",
      "Train loss at step 7,300 : 0.35203\n",
      "Validation loss at step 7,300 : 0.32594\n"
     ]
    },
    {
     "name": "stderr",
     "output_type": "stream",
     "text": [
      " 19%|██████▉                              | 7458/40000 [00:20<01:29, 362.82it/s]"
     ]
    },
    {
     "name": "stdout",
     "output_type": "stream",
     "text": [
      "m at step 7,400 : 558\n",
      "Train loss at step 7,400 : 0.35176\n",
      "Validation loss at step 7,400 : 0.32608\n"
     ]
    },
    {
     "name": "stderr",
     "output_type": "stream",
     "text": [
      " 19%|███████                              | 7583/40000 [00:20<01:21, 395.84it/s]"
     ]
    },
    {
     "name": "stdout",
     "output_type": "stream",
     "text": [
      "m at step 7,500 : 559\n",
      "Train loss at step 7,500 : 0.35218\n",
      "Validation loss at step 7,500 : 0.32630\n"
     ]
    },
    {
     "name": "stderr",
     "output_type": "stream",
     "text": [
      " 19%|███████                              | 7666/40000 [00:20<01:20, 400.61it/s]"
     ]
    },
    {
     "name": "stdout",
     "output_type": "stream",
     "text": [
      "m at step 7,600 : 558\n",
      "Train loss at step 7,600 : 0.35252\n",
      "Validation loss at step 7,600 : 0.32652\n"
     ]
    },
    {
     "name": "stderr",
     "output_type": "stream",
     "text": [
      " 19%|███████▏                             | 7747/40000 [00:21<01:29, 359.60it/s]"
     ]
    },
    {
     "name": "stdout",
     "output_type": "stream",
     "text": [
      "m at step 7,700 : 563\n",
      "Train loss at step 7,700 : 0.35207\n",
      "Validation loss at step 7,700 : 0.32582\n"
     ]
    },
    {
     "name": "stderr",
     "output_type": "stream",
     "text": [
      " 20%|███████▎                             | 7863/40000 [00:21<01:30, 355.11it/s]"
     ]
    },
    {
     "name": "stdout",
     "output_type": "stream",
     "text": [
      "m at step 7,800 : 562\n",
      "Train loss at step 7,800 : 0.35219\n",
      "Validation loss at step 7,800 : 0.32577\n"
     ]
    },
    {
     "name": "stderr",
     "output_type": "stream",
     "text": [
      " 20%|███████▎                             | 7936/40000 [00:21<01:40, 319.73it/s]"
     ]
    },
    {
     "name": "stdout",
     "output_type": "stream",
     "text": [
      "m at step 7,900 : 565\n",
      "Train loss at step 7,900 : 0.35203\n",
      "Validation loss at step 7,900 : 0.32563\n"
     ]
    },
    {
     "name": "stderr",
     "output_type": "stream",
     "text": [
      " 20%|███████▍                             | 8042/40000 [00:22<01:38, 324.63it/s]"
     ]
    },
    {
     "name": "stdout",
     "output_type": "stream",
     "text": [
      "m at step 8,000 : 559\n",
      "Train loss at step 8,000 : 0.35237\n",
      "Validation loss at step 8,000 : 0.32590\n"
     ]
    },
    {
     "name": "stderr",
     "output_type": "stream",
     "text": [
      " 20%|███████▌                             | 8166/40000 [00:22<01:24, 377.97it/s]"
     ]
    },
    {
     "name": "stdout",
     "output_type": "stream",
     "text": [
      "m at step 8,100 : 559\n",
      "Train loss at step 8,100 : 0.35282\n",
      "Validation loss at step 8,100 : 0.32659\n"
     ]
    },
    {
     "name": "stderr",
     "output_type": "stream",
     "text": [
      " 21%|███████▋                             | 8250/40000 [00:22<01:19, 397.97it/s]"
     ]
    },
    {
     "name": "stdout",
     "output_type": "stream",
     "text": [
      "m at step 8,200 : 561\n",
      "Train loss at step 8,200 : 0.35306\n",
      "Validation loss at step 8,200 : 0.32640\n"
     ]
    },
    {
     "name": "stderr",
     "output_type": "stream",
     "text": [
      " 21%|███████▋                             | 8373/40000 [00:22<01:19, 398.36it/s]"
     ]
    },
    {
     "name": "stdout",
     "output_type": "stream",
     "text": [
      "m at step 8,300 : 565\n",
      "Train loss at step 8,300 : 0.35290\n",
      "Validation loss at step 8,300 : 0.32627\n"
     ]
    },
    {
     "name": "stderr",
     "output_type": "stream",
     "text": [
      " 21%|███████▊                             | 8453/40000 [00:23<01:21, 386.97it/s]"
     ]
    },
    {
     "name": "stdout",
     "output_type": "stream",
     "text": [
      "m at step 8,400 : 577\n",
      "Train loss at step 8,400 : 0.35308\n",
      "Validation loss at step 8,400 : 0.32637\n"
     ]
    },
    {
     "name": "stderr",
     "output_type": "stream",
     "text": [
      " 21%|███████▉                             | 8573/40000 [00:23<01:25, 366.34it/s]"
     ]
    },
    {
     "name": "stdout",
     "output_type": "stream",
     "text": [
      "m at step 8,500 : 571\n",
      "Train loss at step 8,500 : 0.35375\n",
      "Validation loss at step 8,500 : 0.32688\n"
     ]
    },
    {
     "name": "stderr",
     "output_type": "stream",
     "text": [
      " 22%|████████                             | 8649/40000 [00:23<01:33, 334.09it/s]"
     ]
    },
    {
     "name": "stdout",
     "output_type": "stream",
     "text": [
      "m at step 8,600 : 572\n",
      "Train loss at step 8,600 : 0.35324\n",
      "Validation loss at step 8,600 : 0.32634\n"
     ]
    },
    {
     "name": "stderr",
     "output_type": "stream",
     "text": [
      " 22%|████████                             | 8752/40000 [00:24<01:39, 313.02it/s]"
     ]
    },
    {
     "name": "stdout",
     "output_type": "stream",
     "text": [
      "m at step 8,700 : 578\n",
      "Train loss at step 8,700 : 0.35270\n",
      "Validation loss at step 8,700 : 0.32580\n"
     ]
    },
    {
     "name": "stderr",
     "output_type": "stream",
     "text": [
      " 22%|████████▏                            | 8869/40000 [00:24<01:25, 362.12it/s]"
     ]
    },
    {
     "name": "stdout",
     "output_type": "stream",
     "text": [
      "m at step 8,800 : 583\n",
      "Train loss at step 8,800 : 0.35266\n",
      "Validation loss at step 8,800 : 0.32542\n"
     ]
    },
    {
     "name": "stderr",
     "output_type": "stream",
     "text": [
      " 22%|████████▎                            | 8948/40000 [00:24<01:22, 378.41it/s]"
     ]
    },
    {
     "name": "stdout",
     "output_type": "stream",
     "text": [
      "m at step 8,900 : 568\n",
      "Train loss at step 8,900 : 0.35301\n",
      "Validation loss at step 8,900 : 0.32570\n"
     ]
    },
    {
     "name": "stderr",
     "output_type": "stream",
     "text": [
      " 23%|████████▍                            | 9068/40000 [00:24<01:20, 386.03it/s]"
     ]
    },
    {
     "name": "stdout",
     "output_type": "stream",
     "text": [
      "m at step 9,000 : 580\n",
      "Train loss at step 9,000 : 0.35220\n",
      "Validation loss at step 9,000 : 0.32514\n"
     ]
    },
    {
     "name": "stderr",
     "output_type": "stream",
     "text": [
      " 23%|████████▍                            | 9146/40000 [00:25<01:21, 379.85it/s]"
     ]
    },
    {
     "name": "stdout",
     "output_type": "stream",
     "text": [
      "m at step 9,100 : 577\n",
      "Train loss at step 9,100 : 0.35259\n",
      "Validation loss at step 9,100 : 0.32565\n"
     ]
    },
    {
     "name": "stderr",
     "output_type": "stream",
     "text": [
      " 23%|████████▌                            | 9263/40000 [00:25<01:25, 358.51it/s]"
     ]
    },
    {
     "name": "stdout",
     "output_type": "stream",
     "text": [
      "m at step 9,200 : 573\n",
      "Train loss at step 9,200 : 0.35219\n",
      "Validation loss at step 9,200 : 0.32511\n"
     ]
    },
    {
     "name": "stderr",
     "output_type": "stream",
     "text": [
      " 23%|████████▋                            | 9337/40000 [00:25<01:31, 335.61it/s]"
     ]
    },
    {
     "name": "stdout",
     "output_type": "stream",
     "text": [
      "m at step 9,300 : 577\n",
      "Train loss at step 9,300 : 0.35191\n",
      "Validation loss at step 9,300 : 0.32489\n"
     ]
    },
    {
     "name": "stderr",
     "output_type": "stream",
     "text": [
      " 24%|████████▋                            | 9436/40000 [00:25<01:42, 298.95it/s]"
     ]
    },
    {
     "name": "stdout",
     "output_type": "stream",
     "text": [
      "m at step 9,400 : 565\n",
      "Train loss at step 9,400 : 0.35213\n",
      "Validation loss at step 9,400 : 0.32530\n"
     ]
    },
    {
     "name": "stderr",
     "output_type": "stream",
     "text": [
      " 24%|████████▊                            | 9559/40000 [00:26<01:22, 367.11it/s]"
     ]
    },
    {
     "name": "stdout",
     "output_type": "stream",
     "text": [
      "m at step 9,500 : 562\n",
      "Train loss at step 9,500 : 0.35177\n",
      "Validation loss at step 9,500 : 0.32504\n"
     ]
    },
    {
     "name": "stderr",
     "output_type": "stream",
     "text": [
      " 24%|████████▉                            | 9686/40000 [00:26<01:14, 404.48it/s]"
     ]
    },
    {
     "name": "stdout",
     "output_type": "stream",
     "text": [
      "m at step 9,600 : 565\n",
      "Train loss at step 9,600 : 0.35188\n",
      "Validation loss at step 9,600 : 0.32521\n"
     ]
    },
    {
     "name": "stderr",
     "output_type": "stream",
     "text": [
      " 24%|█████████                            | 9771/40000 [00:26<01:14, 407.77it/s]"
     ]
    },
    {
     "name": "stdout",
     "output_type": "stream",
     "text": [
      "m at step 9,700 : 560\n",
      "Train loss at step 9,700 : 0.35213\n",
      "Validation loss at step 9,700 : 0.32557\n"
     ]
    },
    {
     "name": "stderr",
     "output_type": "stream",
     "text": [
      " 25%|█████████                            | 9855/40000 [00:27<01:13, 410.69it/s]"
     ]
    },
    {
     "name": "stdout",
     "output_type": "stream",
     "text": [
      "m at step 9,800 : 557\n",
      "Train loss at step 9,800 : 0.35222\n",
      "Validation loss at step 9,800 : 0.32554\n"
     ]
    },
    {
     "name": "stderr",
     "output_type": "stream",
     "text": [
      " 25%|█████████▏                           | 9975/40000 [00:27<01:23, 359.22it/s]"
     ]
    },
    {
     "name": "stdout",
     "output_type": "stream",
     "text": [
      "m at step 9,900 : 560\n",
      "Train loss at step 9,900 : 0.35123\n",
      "Validation loss at step 9,900 : 0.32458\n"
     ]
    },
    {
     "name": "stderr",
     "output_type": "stream",
     "text": [
      " 25%|█████████                           | 10053/40000 [00:27<01:24, 354.37it/s]"
     ]
    },
    {
     "name": "stdout",
     "output_type": "stream",
     "text": [
      "m at step 10,000 : 561\n",
      "Train loss at step 10,000 : 0.35194\n",
      "Validation loss at step 10,000 : 0.32522\n"
     ]
    },
    {
     "name": "stderr",
     "output_type": "stream",
     "text": [
      " 25%|█████████▏                          | 10156/40000 [00:27<01:37, 307.44it/s]"
     ]
    },
    {
     "name": "stdout",
     "output_type": "stream",
     "text": [
      "m at step 10,100 : 551\n",
      "Train loss at step 10,100 : 0.35236\n",
      "Validation loss at step 10,100 : 0.32576\n"
     ]
    },
    {
     "name": "stderr",
     "output_type": "stream",
     "text": [
      " 26%|█████████▎                          | 10282/40000 [00:28<01:18, 377.99it/s]"
     ]
    },
    {
     "name": "stdout",
     "output_type": "stream",
     "text": [
      "m at step 10,200 : 550\n",
      "Train loss at step 10,200 : 0.35253\n",
      "Validation loss at step 10,200 : 0.32626\n"
     ]
    },
    {
     "name": "stderr",
     "output_type": "stream",
     "text": [
      " 26%|█████████▎                          | 10367/40000 [00:28<01:13, 401.31it/s]"
     ]
    },
    {
     "name": "stdout",
     "output_type": "stream",
     "text": [
      "m at step 10,300 : 547\n",
      "Train loss at step 10,300 : 0.35216\n",
      "Validation loss at step 10,300 : 0.32604\n"
     ]
    },
    {
     "name": "stderr",
     "output_type": "stream",
     "text": [
      " 26%|█████████▍                          | 10450/40000 [00:28<01:12, 405.19it/s]"
     ]
    },
    {
     "name": "stdout",
     "output_type": "stream",
     "text": [
      "m at step 10,400 : 535\n",
      "Train loss at step 10,400 : 0.35296\n",
      "Validation loss at step 10,400 : 0.32668\n"
     ]
    },
    {
     "name": "stderr",
     "output_type": "stream",
     "text": [
      " 26%|█████████▌                          | 10584/40000 [00:28<01:08, 431.84it/s]"
     ]
    },
    {
     "name": "stdout",
     "output_type": "stream",
     "text": [
      "m at step 10,500 : 540\n",
      "Train loss at step 10,500 : 0.35304\n",
      "Validation loss at step 10,500 : 0.32681\n"
     ]
    },
    {
     "name": "stderr",
     "output_type": "stream",
     "text": [
      "\r",
      " 27%|█████████▌                          | 10628/40000 [00:29<01:15, 391.36it/s]"
     ]
    },
    {
     "name": "stdout",
     "output_type": "stream",
     "text": [
      "m at step 10,600 : 531\n",
      "Train loss at step 10,600 : 0.35367\n",
      "Validation loss at step 10,600 : 0.32765\n"
     ]
    },
    {
     "name": "stderr",
     "output_type": "stream",
     "text": [
      " 27%|█████████▋                          | 10760/40000 [00:29<01:12, 404.03it/s]"
     ]
    },
    {
     "name": "stdout",
     "output_type": "stream",
     "text": [
      "m at step 10,700 : 524\n",
      "Train loss at step 10,700 : 0.35404\n",
      "Validation loss at step 10,700 : 0.32787\n"
     ]
    },
    {
     "name": "stderr",
     "output_type": "stream",
     "text": [
      " 27%|█████████▊                          | 10841/40000 [00:29<01:24, 343.66it/s]"
     ]
    },
    {
     "name": "stdout",
     "output_type": "stream",
     "text": [
      "m at step 10,800 : 525\n",
      "Train loss at step 10,800 : 0.35316\n",
      "Validation loss at step 10,800 : 0.32706\n"
     ]
    },
    {
     "name": "stderr",
     "output_type": "stream",
     "text": [
      " 27%|█████████▊                          | 10954/40000 [00:30<01:23, 345.82it/s]"
     ]
    },
    {
     "name": "stdout",
     "output_type": "stream",
     "text": [
      "m at step 10,900 : 530\n",
      "Train loss at step 10,900 : 0.35319\n",
      "Validation loss at step 10,900 : 0.32693\n"
     ]
    },
    {
     "name": "stderr",
     "output_type": "stream",
     "text": [
      " 28%|█████████▉                          | 11085/40000 [00:30<01:11, 402.42it/s]"
     ]
    },
    {
     "name": "stdout",
     "output_type": "stream",
     "text": [
      "m at step 11,000 : 534\n",
      "Train loss at step 11,000 : 0.35308\n",
      "Validation loss at step 11,000 : 0.32683\n"
     ]
    },
    {
     "name": "stderr",
     "output_type": "stream",
     "text": [
      " 28%|██████████                          | 11169/40000 [00:30<01:10, 406.88it/s]"
     ]
    },
    {
     "name": "stdout",
     "output_type": "stream",
     "text": [
      "m at step 11,100 : 521\n",
      "Train loss at step 11,100 : 0.35339\n",
      "Validation loss at step 11,100 : 0.32658\n"
     ]
    },
    {
     "name": "stderr",
     "output_type": "stream",
     "text": [
      " 28%|██████████▏                         | 11257/40000 [00:30<01:08, 417.41it/s]"
     ]
    },
    {
     "name": "stdout",
     "output_type": "stream",
     "text": [
      "m at step 11,200 : 534\n",
      "Train loss at step 11,200 : 0.35277\n",
      "Validation loss at step 11,200 : 0.32564\n"
     ]
    },
    {
     "name": "stderr",
     "output_type": "stream",
     "text": [
      " 28%|██████████▏                         | 11344/40000 [00:30<01:07, 424.94it/s]"
     ]
    },
    {
     "name": "stdout",
     "output_type": "stream",
     "text": [
      "m at step 11,300 : 542\n",
      "Train loss at step 11,300 : 0.35252\n",
      "Validation loss at step 11,300 : 0.32529\n"
     ]
    },
    {
     "name": "stderr",
     "output_type": "stream",
     "text": [
      " 29%|██████████▎                         | 11472/40000 [00:31<01:17, 368.83it/s]"
     ]
    },
    {
     "name": "stdout",
     "output_type": "stream",
     "text": [
      "m at step 11,400 : 536\n",
      "Train loss at step 11,400 : 0.35194\n",
      "Validation loss at step 11,400 : 0.32476\n"
     ]
    },
    {
     "name": "stderr",
     "output_type": "stream",
     "text": [
      " 29%|██████████▍                         | 11551/40000 [00:31<01:18, 360.39it/s]"
     ]
    },
    {
     "name": "stdout",
     "output_type": "stream",
     "text": [
      "m at step 11,500 : 526\n",
      "Train loss at step 11,500 : 0.35244\n",
      "Validation loss at step 11,500 : 0.32513\n"
     ]
    },
    {
     "name": "stderr",
     "output_type": "stream",
     "text": [
      " 29%|██████████▍                         | 11655/40000 [00:31<01:29, 316.22it/s]"
     ]
    },
    {
     "name": "stdout",
     "output_type": "stream",
     "text": [
      "m at step 11,600 : 535\n",
      "Train loss at step 11,600 : 0.35162\n",
      "Validation loss at step 11,600 : 0.32451\n"
     ]
    },
    {
     "name": "stderr",
     "output_type": "stream",
     "text": [
      " 29%|██████████▌                         | 11780/40000 [00:32<01:15, 373.78it/s]"
     ]
    },
    {
     "name": "stdout",
     "output_type": "stream",
     "text": [
      "m at step 11,700 : 547\n",
      "Train loss at step 11,700 : 0.35172\n",
      "Validation loss at step 11,700 : 0.32481\n"
     ]
    },
    {
     "name": "stderr",
     "output_type": "stream",
     "text": [
      " 30%|██████████▋                         | 11869/40000 [00:32<01:08, 408.25it/s]"
     ]
    },
    {
     "name": "stdout",
     "output_type": "stream",
     "text": [
      "m at step 11,800 : 534\n",
      "Train loss at step 11,800 : 0.35181\n",
      "Validation loss at step 11,800 : 0.32501\n"
     ]
    },
    {
     "name": "stderr",
     "output_type": "stream",
     "text": [
      " 30%|██████████▊                         | 11953/40000 [00:32<01:08, 409.91it/s]"
     ]
    },
    {
     "name": "stdout",
     "output_type": "stream",
     "text": [
      "m at step 11,900 : 523\n",
      "Train loss at step 11,900 : 0.35241\n",
      "Validation loss at step 11,900 : 0.32574\n"
     ]
    },
    {
     "name": "stderr",
     "output_type": "stream",
     "text": [
      " 30%|██████████▉                         | 12087/40000 [00:32<01:04, 433.33it/s]"
     ]
    },
    {
     "name": "stdout",
     "output_type": "stream",
     "text": [
      "m at step 12,000 : 521\n",
      "Train loss at step 12,000 : 0.35153\n",
      "Validation loss at step 12,000 : 0.32481\n"
     ]
    },
    {
     "name": "stderr",
     "output_type": "stream",
     "text": [
      "\r",
      " 30%|██████████▉                         | 12131/40000 [00:33<01:10, 392.63it/s]"
     ]
    },
    {
     "name": "stdout",
     "output_type": "stream",
     "text": [
      "m at step 12,100 : 519\n",
      "Train loss at step 12,100 : 0.35172\n",
      "Validation loss at step 12,100 : 0.32525\n"
     ]
    },
    {
     "name": "stderr",
     "output_type": "stream",
     "text": [
      " 31%|███████████                         | 12263/40000 [00:33<01:08, 405.13it/s]"
     ]
    },
    {
     "name": "stdout",
     "output_type": "stream",
     "text": [
      "m at step 12,200 : 522\n",
      "Train loss at step 12,200 : 0.35206\n",
      "Validation loss at step 12,200 : 0.32570\n"
     ]
    },
    {
     "name": "stderr",
     "output_type": "stream",
     "text": [
      " 31%|███████████                         | 12345/40000 [00:33<01:18, 350.08it/s]"
     ]
    },
    {
     "name": "stdout",
     "output_type": "stream",
     "text": [
      "m at step 12,300 : 524\n",
      "Train loss at step 12,300 : 0.35164\n",
      "Validation loss at step 12,300 : 0.32535\n"
     ]
    },
    {
     "name": "stderr",
     "output_type": "stream",
     "text": [
      " 31%|███████████▏                        | 12460/40000 [00:34<01:18, 352.18it/s]"
     ]
    },
    {
     "name": "stdout",
     "output_type": "stream",
     "text": [
      "m at step 12,400 : 529\n",
      "Train loss at step 12,400 : 0.35186\n",
      "Validation loss at step 12,400 : 0.32558\n"
     ]
    },
    {
     "name": "stderr",
     "output_type": "stream",
     "text": [
      " 31%|███████████▎                        | 12546/40000 [00:34<01:10, 389.17it/s]"
     ]
    },
    {
     "name": "stdout",
     "output_type": "stream",
     "text": [
      "m at step 12,500 : 540\n",
      "Train loss at step 12,500 : 0.35245\n",
      "Validation loss at step 12,500 : 0.32603\n"
     ]
    },
    {
     "name": "stderr",
     "output_type": "stream",
     "text": [
      " 32%|███████████▍                        | 12674/40000 [00:34<01:08, 397.76it/s]"
     ]
    },
    {
     "name": "stdout",
     "output_type": "stream",
     "text": [
      "m at step 12,600 : 544\n",
      "Train loss at step 12,600 : 0.35232\n",
      "Validation loss at step 12,600 : 0.32580\n"
     ]
    },
    {
     "name": "stderr",
     "output_type": "stream",
     "text": [
      " 32%|███████████▍                        | 12760/40000 [00:34<01:07, 401.21it/s]"
     ]
    },
    {
     "name": "stdout",
     "output_type": "stream",
     "text": [
      "m at step 12,700 : 556\n",
      "Train loss at step 12,700 : 0.35158\n",
      "Validation loss at step 12,700 : 0.32515\n"
     ]
    },
    {
     "name": "stderr",
     "output_type": "stream",
     "text": [
      " 32%|███████████▌                        | 12844/40000 [00:34<01:06, 407.03it/s]"
     ]
    },
    {
     "name": "stdout",
     "output_type": "stream",
     "text": [
      "m at step 12,800 : 553\n",
      "Train loss at step 12,800 : 0.35177\n",
      "Validation loss at step 12,800 : 0.32528\n"
     ]
    },
    {
     "name": "stderr",
     "output_type": "stream",
     "text": [
      " 32%|███████████▋                        | 12967/40000 [00:35<01:13, 370.21it/s]"
     ]
    },
    {
     "name": "stdout",
     "output_type": "stream",
     "text": [
      "m at step 12,900 : 543\n",
      "Train loss at step 12,900 : 0.35257\n",
      "Validation loss at step 12,900 : 0.32569\n"
     ]
    },
    {
     "name": "stderr",
     "output_type": "stream",
     "text": [
      " 33%|███████████▋                        | 13047/40000 [00:35<01:10, 382.35it/s]"
     ]
    },
    {
     "name": "stdout",
     "output_type": "stream",
     "text": [
      "m at step 13,000 : 540\n",
      "Train loss at step 13,000 : 0.35234\n",
      "Validation loss at step 13,000 : 0.32535\n"
     ]
    },
    {
     "name": "stderr",
     "output_type": "stream",
     "text": [
      " 33%|███████████▊                        | 13155/40000 [00:35<01:24, 318.62it/s]"
     ]
    },
    {
     "name": "stdout",
     "output_type": "stream",
     "text": [
      "m at step 13,100 : 540\n",
      "Train loss at step 13,100 : 0.35261\n",
      "Validation loss at step 13,100 : 0.32577\n"
     ]
    },
    {
     "name": "stderr",
     "output_type": "stream",
     "text": [
      " 33%|███████████▉                        | 13283/40000 [00:36<01:08, 389.82it/s]"
     ]
    },
    {
     "name": "stdout",
     "output_type": "stream",
     "text": [
      "m at step 13,200 : 531\n",
      "Train loss at step 13,200 : 0.35281\n",
      "Validation loss at step 13,200 : 0.32607\n"
     ]
    },
    {
     "name": "stderr",
     "output_type": "stream",
     "text": [
      " 33%|████████████                        | 13370/40000 [00:36<01:04, 413.25it/s]"
     ]
    },
    {
     "name": "stdout",
     "output_type": "stream",
     "text": [
      "m at step 13,300 : 525\n",
      "Train loss at step 13,300 : 0.35252\n",
      "Validation loss at step 13,300 : 0.32561\n"
     ]
    },
    {
     "name": "stderr",
     "output_type": "stream",
     "text": [
      " 34%|████████████                        | 13458/40000 [00:36<01:02, 422.40it/s]"
     ]
    },
    {
     "name": "stdout",
     "output_type": "stream",
     "text": [
      "m at step 13,400 : 514\n",
      "Train loss at step 13,400 : 0.35210\n",
      "Validation loss at step 13,400 : 0.32516\n"
     ]
    },
    {
     "name": "stderr",
     "output_type": "stream",
     "text": [
      " 34%|████████████▏                       | 13549/40000 [00:36<01:00, 439.57it/s]"
     ]
    },
    {
     "name": "stdout",
     "output_type": "stream",
     "text": [
      "m at step 13,500 : 505\n",
      "Train loss at step 13,500 : 0.35269\n",
      "Validation loss at step 13,500 : 0.32553\n"
     ]
    },
    {
     "name": "stderr",
     "output_type": "stream",
     "text": [
      " 34%|████████████▎                       | 13646/40000 [00:37<01:00, 438.57it/s]"
     ]
    },
    {
     "name": "stdout",
     "output_type": "stream",
     "text": [
      "m at step 13,600 : 500\n",
      "Train loss at step 13,600 : 0.35264\n",
      "Validation loss at step 13,600 : 0.32558\n"
     ]
    },
    {
     "name": "stderr",
     "output_type": "stream",
     "text": [
      " 34%|████████████▍                       | 13788/40000 [00:37<01:01, 427.85it/s]"
     ]
    },
    {
     "name": "stdout",
     "output_type": "stream",
     "text": [
      "m at step 13,700 : 493\n",
      "Train loss at step 13,700 : 0.35253\n",
      "Validation loss at step 13,700 : 0.32554\n"
     ]
    },
    {
     "name": "stderr",
     "output_type": "stream",
     "text": [
      "\r",
      " 35%|████████████▍                       | 13832/40000 [00:37<01:02, 422.03it/s]"
     ]
    },
    {
     "name": "stdout",
     "output_type": "stream",
     "text": [
      "m at step 13,800 : 492\n",
      "Train loss at step 13,800 : 0.35281\n",
      "Validation loss at step 13,800 : 0.32583\n"
     ]
    },
    {
     "name": "stderr",
     "output_type": "stream",
     "text": [
      " 35%|████████████▌                       | 13953/40000 [00:37<01:14, 351.69it/s]"
     ]
    },
    {
     "name": "stdout",
     "output_type": "stream",
     "text": [
      "m at step 13,900 : 489\n",
      "Train loss at step 13,900 : 0.35267\n",
      "Validation loss at step 13,900 : 0.32547\n"
     ]
    },
    {
     "name": "stderr",
     "output_type": "stream",
     "text": [
      " 35%|████████████▋                       | 14087/40000 [00:38<01:02, 414.60it/s]"
     ]
    },
    {
     "name": "stdout",
     "output_type": "stream",
     "text": [
      "m at step 14,000 : 492\n",
      "Train loss at step 14,000 : 0.35247\n",
      "Validation loss at step 14,000 : 0.32509\n"
     ]
    },
    {
     "name": "stderr",
     "output_type": "stream",
     "text": [
      " 35%|████████████▊                       | 14180/40000 [00:38<01:01, 422.27it/s]"
     ]
    },
    {
     "name": "stdout",
     "output_type": "stream",
     "text": [
      "m at step 14,100 : 491\n",
      "Train loss at step 14,100 : 0.35236\n",
      "Validation loss at step 14,100 : 0.32516\n"
     ]
    },
    {
     "name": "stderr",
     "output_type": "stream",
     "text": [
      " 36%|████████████▊                       | 14275/40000 [00:38<00:57, 447.98it/s]"
     ]
    },
    {
     "name": "stdout",
     "output_type": "stream",
     "text": [
      "m at step 14,200 : 484\n",
      "Train loss at step 14,200 : 0.35248\n",
      "Validation loss at step 14,200 : 0.32528\n"
     ]
    },
    {
     "name": "stderr",
     "output_type": "stream",
     "text": [
      " 36%|████████████▉                       | 14371/40000 [00:38<00:55, 458.22it/s]"
     ]
    },
    {
     "name": "stdout",
     "output_type": "stream",
     "text": [
      "m at step 14,300 : 488\n",
      "Train loss at step 14,300 : 0.35219\n",
      "Validation loss at step 14,300 : 0.32514\n"
     ]
    },
    {
     "name": "stderr",
     "output_type": "stream",
     "text": [
      " 36%|█████████████                       | 14464/40000 [00:39<00:58, 435.49it/s]"
     ]
    },
    {
     "name": "stdout",
     "output_type": "stream",
     "text": [
      "m at step 14,400 : 491\n",
      "Train loss at step 14,400 : 0.35166\n",
      "Validation loss at step 14,400 : 0.32463\n"
     ]
    },
    {
     "name": "stderr",
     "output_type": "stream",
     "text": [
      " 36%|█████████████                       | 14556/40000 [00:39<01:03, 398.86it/s]"
     ]
    },
    {
     "name": "stdout",
     "output_type": "stream",
     "text": [
      "m at step 14,500 : 491\n",
      "Train loss at step 14,500 : 0.35155\n",
      "Validation loss at step 14,500 : 0.32471\n"
     ]
    },
    {
     "name": "stderr",
     "output_type": "stream",
     "text": [
      " 37%|█████████████▏                      | 14650/40000 [00:39<00:59, 428.76it/s]"
     ]
    },
    {
     "name": "stdout",
     "output_type": "stream",
     "text": [
      "m at step 14,600 : 476\n",
      "Train loss at step 14,600 : 0.35265\n",
      "Validation loss at step 14,600 : 0.32570\n"
     ]
    },
    {
     "name": "stderr",
     "output_type": "stream",
     "text": [
      " 37%|█████████████▎                      | 14733/40000 [00:39<01:10, 359.55it/s]"
     ]
    },
    {
     "name": "stdout",
     "output_type": "stream",
     "text": [
      "m at step 14,700 : 474\n",
      "Train loss at step 14,700 : 0.35297\n",
      "Validation loss at step 14,700 : 0.32605\n"
     ]
    },
    {
     "name": "stderr",
     "output_type": "stream",
     "text": [
      " 37%|█████████████▎                      | 14859/40000 [00:40<01:07, 372.99it/s]"
     ]
    },
    {
     "name": "stdout",
     "output_type": "stream",
     "text": [
      "m at step 14,800 : 481\n",
      "Train loss at step 14,800 : 0.35233\n",
      "Validation loss at step 14,800 : 0.32562\n"
     ]
    },
    {
     "name": "stderr",
     "output_type": "stream",
     "text": [
      " 37%|█████████████▍                      | 14998/40000 [00:40<00:57, 434.23it/s]"
     ]
    },
    {
     "name": "stdout",
     "output_type": "stream",
     "text": [
      "m at step 14,900 : 489\n",
      "Train loss at step 14,900 : 0.35267\n",
      "Validation loss at step 14,900 : 0.32612\n"
     ]
    },
    {
     "name": "stderr",
     "output_type": "stream",
     "text": [
      " 38%|█████████████▌                      | 15089/40000 [00:40<00:56, 440.13it/s]"
     ]
    },
    {
     "name": "stdout",
     "output_type": "stream",
     "text": [
      "m at step 15,000 : 489\n",
      "Train loss at step 15,000 : 0.35212\n",
      "Validation loss at step 15,000 : 0.32574\n"
     ]
    },
    {
     "name": "stderr",
     "output_type": "stream",
     "text": [
      " 38%|█████████████▋                      | 15186/40000 [00:40<00:53, 464.75it/s]"
     ]
    },
    {
     "name": "stdout",
     "output_type": "stream",
     "text": [
      "m at step 15,100 : 469\n",
      "Train loss at step 15,100 : 0.35261\n",
      "Validation loss at step 15,100 : 0.32612\n",
      "m at step 15,200 : 474\n",
      "Train loss at step 15,200 : 0.35233\n",
      "Validation loss at step 15,200 : 0.32605\n"
     ]
    },
    {
     "name": "stderr",
     "output_type": "stream",
     "text": [
      " 38%|█████████████▊                      | 15373/40000 [00:41<00:58, 424.33it/s]"
     ]
    },
    {
     "name": "stdout",
     "output_type": "stream",
     "text": [
      "m at step 15,300 : 472\n",
      "Train loss at step 15,300 : 0.35236\n",
      "Validation loss at step 15,300 : 0.32578\n"
     ]
    },
    {
     "name": "stderr",
     "output_type": "stream",
     "text": [
      " 39%|█████████████▉                      | 15465/40000 [00:41<00:55, 439.58it/s]"
     ]
    },
    {
     "name": "stdout",
     "output_type": "stream",
     "text": [
      "m at step 15,400 : 474\n",
      "Train loss at step 15,400 : 0.35283\n",
      "Validation loss at step 15,400 : 0.32640\n"
     ]
    },
    {
     "name": "stderr",
     "output_type": "stream",
     "text": [
      " 39%|█████████████▉                      | 15550/40000 [00:41<01:04, 377.49it/s]"
     ]
    },
    {
     "name": "stdout",
     "output_type": "stream",
     "text": [
      "m at step 15,500 : 473\n",
      "Train loss at step 15,500 : 0.35338\n",
      "Validation loss at step 15,500 : 0.32678\n"
     ]
    },
    {
     "name": "stderr",
     "output_type": "stream",
     "text": [
      " 39%|██████████████                      | 15691/40000 [00:42<00:57, 422.84it/s]"
     ]
    },
    {
     "name": "stdout",
     "output_type": "stream",
     "text": [
      "m at step 15,600 : 462\n",
      "Train loss at step 15,600 : 0.35368\n",
      "Validation loss at step 15,600 : 0.32740\n",
      "m at step 15,700 : 461\n",
      "Train loss at step 15,700 : 0.35301\n",
      "Validation loss at step 15,700 : 0.32684\n"
     ]
    },
    {
     "name": "stderr",
     "output_type": "stream",
     "text": [
      " 40%|██████████████▎                     | 15891/40000 [00:42<00:49, 485.47it/s]"
     ]
    },
    {
     "name": "stdout",
     "output_type": "stream",
     "text": [
      "m at step 15,800 : 478\n",
      "Train loss at step 15,800 : 0.35210\n",
      "Validation loss at step 15,800 : 0.32573\n",
      "m at step 15,900 : 472\n",
      "Train loss at step 15,900 : 0.35247\n",
      "Validation loss at step 15,900 : 0.32587\n"
     ]
    },
    {
     "name": "stderr",
     "output_type": "stream",
     "text": [
      " 40%|██████████████▍                     | 16101/40000 [00:42<00:46, 510.78it/s]"
     ]
    },
    {
     "name": "stdout",
     "output_type": "stream",
     "text": [
      "m at step 16,000 : 459\n",
      "Train loss at step 16,000 : 0.35244\n",
      "Validation loss at step 16,000 : 0.32595\n",
      "m at step 16,100 : 455\n",
      "Train loss at step 16,100 : 0.35271\n",
      "Validation loss at step 16,100 : 0.32614\n"
     ]
    },
    {
     "name": "stderr",
     "output_type": "stream",
     "text": [
      " 41%|██████████████▋                     | 16251/40000 [00:43<00:53, 442.41it/s]"
     ]
    },
    {
     "name": "stdout",
     "output_type": "stream",
     "text": [
      "m at step 16,200 : 460\n",
      "Train loss at step 16,200 : 0.35218\n",
      "Validation loss at step 16,200 : 0.32571\n",
      "m at step 16,300 : 459\n",
      "Train loss at step 16,300 : 0.35267\n",
      "Validation loss at step 16,300 : 0.32628\n"
     ]
    },
    {
     "name": "stderr",
     "output_type": "stream",
     "text": [
      " 41%|██████████████▊                     | 16446/40000 [00:43<00:59, 396.88it/s]"
     ]
    },
    {
     "name": "stdout",
     "output_type": "stream",
     "text": [
      "m at step 16,400 : 454\n",
      "Train loss at step 16,400 : 0.35257\n",
      "Validation loss at step 16,400 : 0.32599\n"
     ]
    },
    {
     "name": "stderr",
     "output_type": "stream",
     "text": [
      " 41%|██████████████▉                     | 16587/40000 [00:44<00:55, 423.54it/s]"
     ]
    },
    {
     "name": "stdout",
     "output_type": "stream",
     "text": [
      "m at step 16,500 : 443\n",
      "Train loss at step 16,500 : 0.35298\n",
      "Validation loss at step 16,500 : 0.32632\n",
      "m at step 16,600 : 458\n",
      "Train loss at step 16,600 : 0.35295\n",
      "Validation loss at step 16,600 : 0.32621\n"
     ]
    },
    {
     "name": "stderr",
     "output_type": "stream",
     "text": [
      " 42%|███████████████                     | 16786/40000 [00:44<00:48, 483.00it/s]"
     ]
    },
    {
     "name": "stdout",
     "output_type": "stream",
     "text": [
      "m at step 16,700 : 471\n",
      "Train loss at step 16,700 : 0.35239\n",
      "Validation loss at step 16,700 : 0.32589\n",
      "m at step 16,800 : 469\n",
      "Train loss at step 16,800 : 0.35281\n",
      "Validation loss at step 16,800 : 0.32641\n"
     ]
    },
    {
     "name": "stderr",
     "output_type": "stream",
     "text": [
      " 42%|███████████████▎                    | 16990/40000 [00:45<00:49, 463.72it/s]"
     ]
    },
    {
     "name": "stdout",
     "output_type": "stream",
     "text": [
      "m at step 16,900 : 458\n",
      "Train loss at step 16,900 : 0.35332\n",
      "Validation loss at step 16,900 : 0.32704\n"
     ]
    },
    {
     "name": "stderr",
     "output_type": "stream",
     "text": [
      "\r",
      " 43%|███████████████▎                    | 17038/40000 [00:45<00:57, 396.75it/s]"
     ]
    },
    {
     "name": "stdout",
     "output_type": "stream",
     "text": [
      "m at step 17,000 : 457\n",
      "Train loss at step 17,000 : 0.35308\n",
      "Validation loss at step 17,000 : 0.32692\n"
     ]
    },
    {
     "name": "stderr",
     "output_type": "stream",
     "text": [
      " 43%|███████████████▍                    | 17178/40000 [00:45<00:53, 428.61it/s]"
     ]
    },
    {
     "name": "stdout",
     "output_type": "stream",
     "text": [
      "m at step 17,100 : 460\n",
      "Train loss at step 17,100 : 0.35270\n",
      "Validation loss at step 17,100 : 0.32646\n"
     ]
    },
    {
     "name": "stderr",
     "output_type": "stream",
     "text": [
      " 43%|███████████████▌                    | 17264/40000 [00:45<00:59, 383.88it/s]"
     ]
    },
    {
     "name": "stdout",
     "output_type": "stream",
     "text": [
      "m at step 17,200 : 457\n",
      "Train loss at step 17,200 : 0.35241\n",
      "Validation loss at step 17,200 : 0.32601\n"
     ]
    },
    {
     "name": "stderr",
     "output_type": "stream",
     "text": [
      " 43%|███████████████▌                    | 17341/40000 [00:45<01:03, 354.83it/s]"
     ]
    },
    {
     "name": "stdout",
     "output_type": "stream",
     "text": [
      "m at step 17,300 : 456\n",
      "Train loss at step 17,300 : 0.35259\n",
      "Validation loss at step 17,300 : 0.32641\n"
     ]
    },
    {
     "name": "stderr",
     "output_type": "stream",
     "text": [
      " 44%|███████████████▋                    | 17489/40000 [00:46<00:51, 438.31it/s]"
     ]
    },
    {
     "name": "stdout",
     "output_type": "stream",
     "text": [
      "m at step 17,400 : 453\n",
      "Train loss at step 17,400 : 0.35254\n",
      "Validation loss at step 17,400 : 0.32606\n"
     ]
    },
    {
     "name": "stderr",
     "output_type": "stream",
     "text": [
      " 44%|███████████████▊                    | 17588/40000 [00:46<00:48, 466.37it/s]"
     ]
    },
    {
     "name": "stdout",
     "output_type": "stream",
     "text": [
      "m at step 17,500 : 448\n",
      "Train loss at step 17,500 : 0.35299\n",
      "Validation loss at step 17,500 : 0.32643\n",
      "m at step 17,600 : 449\n",
      "Train loss at step 17,600 : 0.35252\n",
      "Validation loss at step 17,600 : 0.32616\n"
     ]
    },
    {
     "name": "stderr",
     "output_type": "stream",
     "text": [
      " 44%|████████████████                    | 17795/40000 [00:46<00:43, 510.67it/s]"
     ]
    },
    {
     "name": "stdout",
     "output_type": "stream",
     "text": [
      "m at step 17,700 : 448\n",
      "Train loss at step 17,700 : 0.35232\n",
      "Validation loss at step 17,700 : 0.32605\n",
      "m at step 17,800 : 446\n",
      "Train loss at step 17,800 : 0.35231\n",
      "Validation loss at step 17,800 : 0.32587\n"
     ]
    },
    {
     "name": "stderr",
     "output_type": "stream",
     "text": [
      " 45%|████████████████▏                   | 17999/40000 [00:47<00:49, 448.42it/s]"
     ]
    },
    {
     "name": "stdout",
     "output_type": "stream",
     "text": [
      "m at step 17,900 : 435\n",
      "Train loss at step 17,900 : 0.35254\n",
      "Validation loss at step 17,900 : 0.32626\n",
      "m at step 18,000 : 427\n",
      "Train loss at step 18,000 : 0.35238\n",
      "Validation loss at step 18,000 : 0.32605\n"
     ]
    },
    {
     "name": "stderr",
     "output_type": "stream",
     "text": [
      " 45%|████████████████▎                   | 18138/40000 [00:47<00:54, 404.77it/s]"
     ]
    },
    {
     "name": "stdout",
     "output_type": "stream",
     "text": [
      "m at step 18,100 : 432\n",
      "Train loss at step 18,100 : 0.35305\n",
      "Validation loss at step 18,100 : 0.32669\n"
     ]
    },
    {
     "name": "stderr",
     "output_type": "stream",
     "text": [
      " 46%|████████████████▍                   | 18273/40000 [00:48<00:51, 421.30it/s]"
     ]
    },
    {
     "name": "stdout",
     "output_type": "stream",
     "text": [
      "m at step 18,200 : 434\n",
      "Train loss at step 18,200 : 0.35305\n",
      "Validation loss at step 18,200 : 0.32664\n",
      "m at step 18,300 : 440\n",
      "Train loss at step 18,300 : 0.35287\n",
      "Validation loss at step 18,300 : 0.32661\n"
     ]
    },
    {
     "name": "stderr",
     "output_type": "stream",
     "text": [
      " 46%|████████████████▋                   | 18479/40000 [00:48<00:43, 495.33it/s]"
     ]
    },
    {
     "name": "stdout",
     "output_type": "stream",
     "text": [
      "m at step 18,400 : 428\n",
      "Train loss at step 18,400 : 0.35230\n",
      "Validation loss at step 18,400 : 0.32596\n",
      "m at step 18,500 : 428\n",
      "Train loss at step 18,500 : 0.35219\n",
      "Validation loss at step 18,500 : 0.32564\n"
     ]
    },
    {
     "name": "stderr",
     "output_type": "stream",
     "text": [
      " 47%|████████████████▊                   | 18694/40000 [00:48<00:40, 531.66it/s]"
     ]
    },
    {
     "name": "stdout",
     "output_type": "stream",
     "text": [
      "m at step 18,600 : 422\n",
      "Train loss at step 18,600 : 0.35246\n",
      "Validation loss at step 18,600 : 0.32585\n",
      "m at step 18,700 : 416\n",
      "Train loss at step 18,700 : 0.35298\n",
      "Validation loss at step 18,700 : 0.32646\n"
     ]
    },
    {
     "name": "stderr",
     "output_type": "stream",
     "text": [
      " 47%|█████████████████                   | 18904/40000 [00:49<00:44, 476.09it/s]"
     ]
    },
    {
     "name": "stdout",
     "output_type": "stream",
     "text": [
      "m at step 18,800 : 418\n",
      "Train loss at step 18,800 : 0.35295\n",
      "Validation loss at step 18,800 : 0.32655\n",
      "m at step 18,900 : 409\n",
      "Train loss at step 18,900 : 0.35367\n",
      "Validation loss at step 18,900 : 0.32704\n"
     ]
    },
    {
     "name": "stderr",
     "output_type": "stream",
     "text": [
      " 48%|█████████████████▏                  | 19051/40000 [00:49<00:49, 421.96it/s]"
     ]
    },
    {
     "name": "stdout",
     "output_type": "stream",
     "text": [
      "m at step 19,000 : 420\n",
      "Train loss at step 19,000 : 0.35372\n",
      "Validation loss at step 19,000 : 0.32720\n"
     ]
    },
    {
     "name": "stderr",
     "output_type": "stream",
     "text": [
      " 48%|█████████████████▎                  | 19188/40000 [00:50<00:49, 423.32it/s]"
     ]
    },
    {
     "name": "stdout",
     "output_type": "stream",
     "text": [
      "m at step 19,100 : 413\n",
      "Train loss at step 19,100 : 0.35405\n",
      "Validation loss at step 19,100 : 0.32749\n"
     ]
    },
    {
     "name": "stderr",
     "output_type": "stream",
     "text": [
      " 48%|█████████████████▎                  | 19292/40000 [00:50<00:44, 469.85it/s]"
     ]
    },
    {
     "name": "stdout",
     "output_type": "stream",
     "text": [
      "m at step 19,200 : 411\n",
      "Train loss at step 19,200 : 0.35417\n",
      "Validation loss at step 19,200 : 0.32765\n",
      "m at step 19,300 : 406\n",
      "Train loss at step 19,300 : 0.35412\n",
      "Validation loss at step 19,300 : 0.32734\n"
     ]
    },
    {
     "name": "stderr",
     "output_type": "stream",
     "text": [
      " 49%|█████████████████▌                  | 19510/40000 [00:50<00:38, 526.55it/s]"
     ]
    },
    {
     "name": "stdout",
     "output_type": "stream",
     "text": [
      "m at step 19,400 : 404\n",
      "Train loss at step 19,400 : 0.35409\n",
      "Validation loss at step 19,400 : 0.32732\n",
      "m at step 19,500 : 401\n",
      "Train loss at step 19,500 : 0.35450\n",
      "Validation loss at step 19,500 : 0.32788\n"
     ]
    },
    {
     "name": "stderr",
     "output_type": "stream",
     "text": [
      " 49%|█████████████████▋                  | 19679/40000 [00:50<00:36, 551.42it/s]"
     ]
    },
    {
     "name": "stdout",
     "output_type": "stream",
     "text": [
      "m at step 19,600 : 405\n",
      "Train loss at step 19,600 : 0.35434\n",
      "Validation loss at step 19,600 : 0.32782\n",
      "m at step 19,700 : 401\n",
      "Train loss at step 19,700 : 0.35292\n",
      "Validation loss at step 19,700 : 0.32667\n"
     ]
    },
    {
     "name": "stderr",
     "output_type": "stream",
     "text": [
      " 50%|█████████████████▉                  | 19898/40000 [00:51<00:39, 505.70it/s]"
     ]
    },
    {
     "name": "stdout",
     "output_type": "stream",
     "text": [
      "m at step 19,800 : 411\n",
      "Train loss at step 19,800 : 0.35237\n",
      "Validation loss at step 19,800 : 0.32608\n",
      "m at step 19,900 : 401\n",
      "Train loss at step 19,900 : 0.35310\n",
      "Validation loss at step 19,900 : 0.32679\n"
     ]
    },
    {
     "name": "stderr",
     "output_type": "stream",
     "text": [
      " 50%|██████████████████                  | 20043/40000 [00:51<00:48, 413.87it/s]"
     ]
    },
    {
     "name": "stdout",
     "output_type": "stream",
     "text": [
      "m at step 20,000 : 398\n",
      "Train loss at step 20,000 : 0.35343\n",
      "Validation loss at step 20,000 : 0.32711\n"
     ]
    },
    {
     "name": "stderr",
     "output_type": "stream",
     "text": [
      " 51%|██████████████████▏                 | 20202/40000 [00:52<00:40, 485.65it/s]"
     ]
    },
    {
     "name": "stdout",
     "output_type": "stream",
     "text": [
      "m at step 20,100 : 398\n",
      "Train loss at step 20,100 : 0.35278\n",
      "Validation loss at step 20,100 : 0.32632\n",
      "m at step 20,200 : 389\n",
      "Train loss at step 20,200 : 0.35297\n",
      "Validation loss at step 20,200 : 0.32633\n"
     ]
    },
    {
     "name": "stderr",
     "output_type": "stream",
     "text": [
      " 51%|██████████████████▎                 | 20372/40000 [00:52<00:36, 541.07it/s]"
     ]
    },
    {
     "name": "stdout",
     "output_type": "stream",
     "text": [
      "m at step 20,300 : 384\n",
      "Train loss at step 20,300 : 0.35365\n",
      "Validation loss at step 20,300 : 0.32734\n",
      "m at step 20,400 : 377\n",
      "Train loss at step 20,400 : 0.35397\n",
      "Validation loss at step 20,400 : 0.32778\n"
     ]
    },
    {
     "name": "stderr",
     "output_type": "stream",
     "text": [
      " 52%|██████████████████▌                 | 20609/40000 [00:52<00:33, 582.63it/s]"
     ]
    },
    {
     "name": "stdout",
     "output_type": "stream",
     "text": [
      "m at step 20,500 : 377\n",
      "Train loss at step 20,500 : 0.35343\n",
      "Validation loss at step 20,500 : 0.32732\n",
      "m at step 20,600 : 376\n",
      "Train loss at step 20,600 : 0.35383\n",
      "Validation loss at step 20,600 : 0.32769\n"
     ]
    },
    {
     "name": "stderr",
     "output_type": "stream",
     "text": [
      " 52%|██████████████████▋                 | 20779/40000 [00:53<00:38, 495.70it/s]"
     ]
    },
    {
     "name": "stdout",
     "output_type": "stream",
     "text": [
      "m at step 20,700 : 365\n",
      "Train loss at step 20,700 : 0.35408\n",
      "Validation loss at step 20,700 : 0.32812\n"
     ]
    },
    {
     "name": "stderr",
     "output_type": "stream",
     "text": [
      " 52%|██████████████████▊                 | 20898/40000 [00:53<00:34, 546.11it/s]"
     ]
    },
    {
     "name": "stdout",
     "output_type": "stream",
     "text": [
      "m at step 20,800 : 363\n",
      "Train loss at step 20,800 : 0.35395\n",
      "Validation loss at step 20,800 : 0.32825\n",
      "m at step 20,900 : 349\n",
      "Train loss at step 20,900 : 0.35399\n",
      "Validation loss at step 20,900 : 0.32827\n"
     ]
    },
    {
     "name": "stderr",
     "output_type": "stream",
     "text": [
      " 53%|██████████████████▉                 | 21055/40000 [00:53<00:41, 460.53it/s]"
     ]
    },
    {
     "name": "stdout",
     "output_type": "stream",
     "text": [
      "m at step 21,000 : 356\n",
      "Train loss at step 21,000 : 0.35411\n",
      "Validation loss at step 21,000 : 0.32826\n"
     ]
    },
    {
     "name": "stderr",
     "output_type": "stream",
     "text": [
      " 53%|███████████████████                 | 21162/40000 [00:54<00:39, 473.35it/s]"
     ]
    },
    {
     "name": "stdout",
     "output_type": "stream",
     "text": [
      "m at step 21,100 : 352\n",
      "Train loss at step 21,100 : 0.35413\n",
      "Validation loss at step 21,100 : 0.32821\n",
      "m at step 21,200 : 347\n",
      "Train loss at step 21,200 : 0.35415\n",
      "Validation loss at step 21,200 : 0.32818\n"
     ]
    },
    {
     "name": "stderr",
     "output_type": "stream",
     "text": [
      " 54%|███████████████████▎                | 21418/40000 [00:54<00:31, 596.16it/s]"
     ]
    },
    {
     "name": "stdout",
     "output_type": "stream",
     "text": [
      "m at step 21,300 : 348\n",
      "Train loss at step 21,300 : 0.35412\n",
      "Validation loss at step 21,300 : 0.32808\n",
      "m at step 21,400 : 357\n",
      "Train loss at step 21,400 : 0.35359\n",
      "Validation loss at step 21,400 : 0.32754\n"
     ]
    },
    {
     "name": "stderr",
     "output_type": "stream",
     "text": [
      " 54%|███████████████████▍                | 21604/40000 [00:54<00:33, 552.94it/s]"
     ]
    },
    {
     "name": "stdout",
     "output_type": "stream",
     "text": [
      "m at step 21,500 : 361\n",
      "Train loss at step 21,500 : 0.35280\n",
      "Validation loss at step 21,500 : 0.32724\n",
      "m at step 21,600 : 358\n",
      "Train loss at step 21,600 : 0.35322\n",
      "Validation loss at step 21,600 : 0.32768\n"
     ]
    },
    {
     "name": "stderr",
     "output_type": "stream",
     "text": [
      " 54%|███████████████████▌                | 21718/40000 [00:55<00:36, 504.53it/s]"
     ]
    },
    {
     "name": "stdout",
     "output_type": "stream",
     "text": [
      "m at step 21,700 : 355\n",
      "Train loss at step 21,700 : 0.35433\n",
      "Validation loss at step 21,700 : 0.32878\n"
     ]
    },
    {
     "name": "stderr",
     "output_type": "stream",
     "text": [
      " 55%|███████████████████▋                | 21881/40000 [00:55<00:40, 444.54it/s]"
     ]
    },
    {
     "name": "stdout",
     "output_type": "stream",
     "text": [
      "m at step 21,800 : 343\n",
      "Train loss at step 21,800 : 0.35461\n",
      "Validation loss at step 21,800 : 0.32876\n",
      "m at step 21,900 : 342\n",
      "Train loss at step 21,900 : 0.35487\n",
      "Validation loss at step 21,900 : 0.32908\n"
     ]
    },
    {
     "name": "stderr",
     "output_type": "stream",
     "text": [
      " 55%|███████████████████▊                | 22067/40000 [00:55<00:42, 418.37it/s]"
     ]
    },
    {
     "name": "stdout",
     "output_type": "stream",
     "text": [
      "m at step 22,000 : 351\n",
      "Train loss at step 22,000 : 0.35451\n",
      "Validation loss at step 22,000 : 0.32883\n"
     ]
    },
    {
     "name": "stderr",
     "output_type": "stream",
     "text": [
      " 55%|███████████████████▉                | 22186/40000 [00:56<00:35, 507.55it/s]"
     ]
    },
    {
     "name": "stdout",
     "output_type": "stream",
     "text": [
      "m at step 22,100 : 340\n",
      "Train loss at step 22,100 : 0.35485\n",
      "Validation loss at step 22,100 : 0.32937\n",
      "m at step 22,200 : 337\n",
      "Train loss at step 22,200 : 0.35529\n",
      "Validation loss at step 22,200 : 0.32975\n"
     ]
    },
    {
     "name": "stderr",
     "output_type": "stream",
     "text": [
      " 56%|████████████████████▏               | 22371/40000 [00:56<00:30, 579.72it/s]"
     ]
    },
    {
     "name": "stdout",
     "output_type": "stream",
     "text": [
      "m at step 22,300 : 343\n",
      "Train loss at step 22,300 : 0.35491\n",
      "Validation loss at step 22,300 : 0.32916\n",
      "m at step 22,400 : 339\n",
      "Train loss at step 22,400 : 0.35484\n",
      "Validation loss at step 22,400 : 0.32903\n"
     ]
    },
    {
     "name": "stderr",
     "output_type": "stream",
     "text": [
      " 57%|████████████████████▎               | 22627/40000 [00:56<00:28, 618.91it/s]"
     ]
    },
    {
     "name": "stdout",
     "output_type": "stream",
     "text": [
      "m at step 22,500 : 345\n",
      "Train loss at step 22,500 : 0.35441\n",
      "Validation loss at step 22,500 : 0.32856\n",
      "m at step 22,600 : 332\n",
      "Train loss at step 22,600 : 0.35441\n",
      "Validation loss at step 22,600 : 0.32888\n"
     ]
    },
    {
     "name": "stderr",
     "output_type": "stream",
     "text": [
      " 57%|████████████████████▍               | 22752/40000 [00:57<00:31, 540.03it/s]"
     ]
    },
    {
     "name": "stdout",
     "output_type": "stream",
     "text": [
      "m at step 22,700 : 337\n",
      "Train loss at step 22,700 : 0.35388\n",
      "Validation loss at step 22,700 : 0.32828\n"
     ]
    },
    {
     "name": "stderr",
     "output_type": "stream",
     "text": [
      " 57%|████████████████████▌               | 22874/40000 [00:57<00:31, 547.79it/s]"
     ]
    },
    {
     "name": "stdout",
     "output_type": "stream",
     "text": [
      "m at step 22,800 : 337\n",
      "Train loss at step 22,800 : 0.35358\n",
      "Validation loss at step 22,800 : 0.32799\n",
      "m at step 22,900 : 345\n",
      "Train loss at step 22,900 : 0.35407\n",
      "Validation loss at step 22,900 : 0.32841\n"
     ]
    },
    {
     "name": "stderr",
     "output_type": "stream",
     "text": [
      " 58%|████████████████████▊               | 23067/40000 [00:57<00:28, 601.74it/s]"
     ]
    },
    {
     "name": "stdout",
     "output_type": "stream",
     "text": [
      "m at step 23,000 : 348\n",
      "Train loss at step 23,000 : 0.35389\n",
      "Validation loss at step 23,000 : 0.32831\n",
      "m at step 23,100 : 349\n",
      "Train loss at step 23,100 : 0.35253\n",
      "Validation loss at step 23,100 : 0.32682\n"
     ]
    },
    {
     "name": "stderr",
     "output_type": "stream",
     "text": [
      " 58%|████████████████████▉               | 23271/40000 [00:57<00:25, 645.88it/s]"
     ]
    },
    {
     "name": "stdout",
     "output_type": "stream",
     "text": [
      "m at step 23,200 : 338\n",
      "Train loss at step 23,200 : 0.35329\n",
      "Validation loss at step 23,200 : 0.32756\n",
      "m at step 23,300 : 342\n",
      "Train loss at step 23,300 : 0.35290\n",
      "Validation loss at step 23,300 : 0.32720\n"
     ]
    },
    {
     "name": "stderr",
     "output_type": "stream",
     "text": [
      " 59%|█████████████████████▏              | 23473/40000 [00:58<00:25, 653.22it/s]"
     ]
    },
    {
     "name": "stdout",
     "output_type": "stream",
     "text": [
      "m at step 23,400 : 332\n",
      "Train loss at step 23,400 : 0.35349\n",
      "Validation loss at step 23,400 : 0.32803\n",
      "m at step 23,500 : 330\n",
      "Train loss at step 23,500 : 0.35412\n",
      "Validation loss at step 23,500 : 0.32860\n"
     ]
    },
    {
     "name": "stderr",
     "output_type": "stream",
     "text": [
      " 59%|█████████████████████▎              | 23682/40000 [00:58<00:24, 668.82it/s]"
     ]
    },
    {
     "name": "stdout",
     "output_type": "stream",
     "text": [
      "m at step 23,600 : 324\n",
      "Train loss at step 23,600 : 0.35411\n",
      "Validation loss at step 23,600 : 0.32880\n",
      "m at step 23,700 : 315\n",
      "Train loss at step 23,700 : 0.35477\n",
      "Validation loss at step 23,700 : 0.32937\n"
     ]
    },
    {
     "name": "stderr",
     "output_type": "stream",
     "text": [
      " 60%|█████████████████████▌              | 23893/40000 [00:58<00:23, 691.40it/s]"
     ]
    },
    {
     "name": "stdout",
     "output_type": "stream",
     "text": [
      "m at step 23,800 : 317\n",
      "Train loss at step 23,800 : 0.35394\n",
      "Validation loss at step 23,800 : 0.32862\n",
      "m at step 23,900 : 308\n",
      "Train loss at step 23,900 : 0.35449\n",
      "Validation loss at step 23,900 : 0.32926\n"
     ]
    },
    {
     "name": "stderr",
     "output_type": "stream",
     "text": [
      " 60%|█████████████████████▋              | 24112/40000 [00:59<00:22, 710.85it/s]"
     ]
    },
    {
     "name": "stdout",
     "output_type": "stream",
     "text": [
      "m at step 24,000 : 301\n",
      "Train loss at step 24,000 : 0.35469\n",
      "Validation loss at step 24,000 : 0.32917\n",
      "m at step 24,100 : 306\n",
      "Train loss at step 24,100 : 0.35398\n",
      "Validation loss at step 24,100 : 0.32863\n"
     ]
    },
    {
     "name": "stderr",
     "output_type": "stream",
     "text": [
      " 61%|█████████████████████▉              | 24331/40000 [00:59<00:21, 712.86it/s]"
     ]
    },
    {
     "name": "stdout",
     "output_type": "stream",
     "text": [
      "m at step 24,200 : 312\n",
      "Train loss at step 24,200 : 0.35377\n",
      "Validation loss at step 24,200 : 0.32852\n",
      "m at step 24,300 : 307\n",
      "Train loss at step 24,300 : 0.35343\n",
      "Validation loss at step 24,300 : 0.32835\n"
     ]
    },
    {
     "name": "stderr",
     "output_type": "stream",
     "text": [
      " 61%|██████████████████████              | 24477/40000 [00:59<00:22, 702.79it/s]"
     ]
    },
    {
     "name": "stdout",
     "output_type": "stream",
     "text": [
      "m at step 24,400 : 300\n",
      "Train loss at step 24,400 : 0.35289\n",
      "Validation loss at step 24,400 : 0.32775\n",
      "m at step 24,500 : 298\n",
      "Train loss at step 24,500 : 0.35336\n",
      "Validation loss at step 24,500 : 0.32810\n"
     ]
    },
    {
     "name": "stderr",
     "output_type": "stream",
     "text": [
      " 62%|██████████████████████▏             | 24704/40000 [01:00<00:20, 733.22it/s]"
     ]
    },
    {
     "name": "stdout",
     "output_type": "stream",
     "text": [
      "m at step 24,600 : 292\n",
      "Train loss at step 24,600 : 0.35405\n",
      "Validation loss at step 24,600 : 0.32881\n",
      "m at step 24,700 : 294\n",
      "Train loss at step 24,700 : 0.35449\n",
      "Validation loss at step 24,700 : 0.32921\n"
     ]
    },
    {
     "name": "stderr",
     "output_type": "stream",
     "text": [
      " 62%|██████████████████████▍             | 24929/40000 [01:00<00:20, 734.57it/s]"
     ]
    },
    {
     "name": "stdout",
     "output_type": "stream",
     "text": [
      "m at step 24,800 : 294\n",
      "Train loss at step 24,800 : 0.35500\n",
      "Validation loss at step 24,800 : 0.32970\n",
      "m at step 24,900 : 288\n",
      "Train loss at step 24,900 : 0.35520\n",
      "Validation loss at step 24,900 : 0.32997\n"
     ]
    },
    {
     "name": "stderr",
     "output_type": "stream",
     "text": [
      " 63%|██████████████████████▌             | 25081/40000 [01:00<00:20, 731.61it/s]"
     ]
    },
    {
     "name": "stdout",
     "output_type": "stream",
     "text": [
      "m at step 25,000 : 283\n",
      "Train loss at step 25,000 : 0.35503\n",
      "Validation loss at step 25,000 : 0.33006\n",
      "m at step 25,100 : 290\n",
      "Train loss at step 25,100 : 0.35449\n",
      "Validation loss at step 25,100 : 0.32944\n"
     ]
    },
    {
     "name": "stderr",
     "output_type": "stream",
     "text": [
      " 63%|██████████████████████▊             | 25304/40000 [01:00<00:20, 716.72it/s]"
     ]
    },
    {
     "name": "stdout",
     "output_type": "stream",
     "text": [
      "m at step 25,200 : 288\n",
      "Train loss at step 25,200 : 0.35483\n",
      "Validation loss at step 25,200 : 0.32984\n",
      "m at step 25,300 : 284\n",
      "Train loss at step 25,300 : 0.35493\n",
      "Validation loss at step 25,300 : 0.32968\n"
     ]
    },
    {
     "name": "stderr",
     "output_type": "stream",
     "text": [
      " 64%|██████████████████████▉             | 25530/40000 [01:01<00:19, 743.54it/s]"
     ]
    },
    {
     "name": "stdout",
     "output_type": "stream",
     "text": [
      "m at step 25,400 : 286\n",
      "Train loss at step 25,400 : 0.35503\n",
      "Validation loss at step 25,400 : 0.32968\n",
      "m at step 25,500 : 281\n",
      "Train loss at step 25,500 : 0.35494\n",
      "Validation loss at step 25,500 : 0.32963\n"
     ]
    },
    {
     "name": "stderr",
     "output_type": "stream",
     "text": [
      " 64%|███████████████████████             | 25684/40000 [01:01<00:19, 747.13it/s]"
     ]
    },
    {
     "name": "stdout",
     "output_type": "stream",
     "text": [
      "m at step 25,600 : 273\n",
      "Train loss at step 25,600 : 0.35466\n",
      "Validation loss at step 25,600 : 0.32924\n",
      "m at step 25,700 : 271\n",
      "Train loss at step 25,700 : 0.35415\n",
      "Validation loss at step 25,700 : 0.32882\n"
     ]
    },
    {
     "name": "stderr",
     "output_type": "stream",
     "text": [
      " 65%|███████████████████████▎            | 25918/40000 [01:01<00:18, 767.11it/s]"
     ]
    },
    {
     "name": "stdout",
     "output_type": "stream",
     "text": [
      "m at step 25,800 : 270\n",
      "Train loss at step 25,800 : 0.35354\n",
      "Validation loss at step 25,800 : 0.32836\n",
      "m at step 25,900 : 274\n",
      "Train loss at step 25,900 : 0.35284\n",
      "Validation loss at step 25,900 : 0.32762\n"
     ]
    },
    {
     "name": "stderr",
     "output_type": "stream",
     "text": [
      " 65%|███████████████████████▌            | 26151/40000 [01:02<00:18, 758.69it/s]"
     ]
    },
    {
     "name": "stdout",
     "output_type": "stream",
     "text": [
      "m at step 26,000 : 284\n",
      "Train loss at step 26,000 : 0.35230\n",
      "Validation loss at step 26,000 : 0.32714\n",
      "m at step 26,100 : 283\n",
      "Train loss at step 26,100 : 0.35200\n",
      "Validation loss at step 26,100 : 0.32695\n"
     ]
    },
    {
     "name": "stderr",
     "output_type": "stream",
     "text": [
      " 66%|███████████████████████▋            | 26308/40000 [01:02<00:18, 757.02it/s]"
     ]
    },
    {
     "name": "stdout",
     "output_type": "stream",
     "text": [
      "m at step 26,200 : 287\n",
      "Train loss at step 26,200 : 0.35296\n",
      "Validation loss at step 26,200 : 0.32788\n",
      "m at step 26,300 : 286\n",
      "Train loss at step 26,300 : 0.35272\n",
      "Validation loss at step 26,300 : 0.32761\n"
     ]
    },
    {
     "name": "stderr",
     "output_type": "stream",
     "text": [
      " 66%|███████████████████████▉            | 26536/40000 [01:02<00:18, 743.82it/s]"
     ]
    },
    {
     "name": "stdout",
     "output_type": "stream",
     "text": [
      "m at step 26,400 : 289\n",
      "Train loss at step 26,400 : 0.35289\n",
      "Validation loss at step 26,400 : 0.32748\n",
      "m at step 26,500 : 280\n",
      "Train loss at step 26,500 : 0.35321\n",
      "Validation loss at step 26,500 : 0.32757\n"
     ]
    },
    {
     "name": "stderr",
     "output_type": "stream",
     "text": [
      " 67%|████████████████████████            | 26690/40000 [01:02<00:17, 741.42it/s]"
     ]
    },
    {
     "name": "stdout",
     "output_type": "stream",
     "text": [
      "m at step 26,600 : 280\n",
      "Train loss at step 26,600 : 0.35336\n",
      "Validation loss at step 26,600 : 0.32769\n",
      "m at step 26,700 : 281\n",
      "Train loss at step 26,700 : 0.35352\n",
      "Validation loss at step 26,700 : 0.32782\n"
     ]
    },
    {
     "name": "stderr",
     "output_type": "stream",
     "text": [
      " 67%|████████████████████████▏           | 26923/40000 [01:03<00:17, 765.75it/s]"
     ]
    },
    {
     "name": "stdout",
     "output_type": "stream",
     "text": [
      "m at step 26,800 : 283\n",
      "Train loss at step 26,800 : 0.35394\n",
      "Validation loss at step 26,800 : 0.32835\n",
      "m at step 26,900 : 285\n",
      "Train loss at step 26,900 : 0.35427\n",
      "Validation loss at step 26,900 : 0.32878\n"
     ]
    },
    {
     "name": "stderr",
     "output_type": "stream",
     "text": [
      " 68%|████████████████████████▍           | 27161/40000 [01:03<00:16, 774.05it/s]"
     ]
    },
    {
     "name": "stdout",
     "output_type": "stream",
     "text": [
      "m at step 27,000 : 282\n",
      "Train loss at step 27,000 : 0.35400\n",
      "Validation loss at step 27,000 : 0.32832\n",
      "m at step 27,100 : 272\n",
      "Train loss at step 27,100 : 0.35447\n",
      "Validation loss at step 27,100 : 0.32875\n"
     ]
    },
    {
     "name": "stderr",
     "output_type": "stream",
     "text": [
      " 68%|████████████████████████▌           | 27320/40000 [01:03<00:16, 776.42it/s]"
     ]
    },
    {
     "name": "stdout",
     "output_type": "stream",
     "text": [
      "m at step 27,200 : 278\n",
      "Train loss at step 27,200 : 0.35420\n",
      "Validation loss at step 27,200 : 0.32849\n",
      "m at step 27,300 : 269\n",
      "Train loss at step 27,300 : 0.35462\n",
      "Validation loss at step 27,300 : 0.32902\n"
     ]
    },
    {
     "name": "stderr",
     "output_type": "stream",
     "text": [
      " 69%|████████████████████████▊           | 27568/40000 [01:03<00:15, 807.61it/s]"
     ]
    },
    {
     "name": "stdout",
     "output_type": "stream",
     "text": [
      "m at step 27,400 : 262\n",
      "Train loss at step 27,400 : 0.35470\n",
      "Validation loss at step 27,400 : 0.32906\n",
      "m at step 27,500 : 261\n",
      "Train loss at step 27,500 : 0.35490\n",
      "Validation loss at step 27,500 : 0.32937\n"
     ]
    },
    {
     "name": "stderr",
     "output_type": "stream",
     "text": [
      " 69%|████████████████████████▉           | 27742/40000 [01:04<00:14, 841.41it/s]"
     ]
    },
    {
     "name": "stdout",
     "output_type": "stream",
     "text": [
      "m at step 27,600 : 255\n",
      "Train loss at step 27,600 : 0.35513\n",
      "Validation loss at step 27,600 : 0.32936\n",
      "m at step 27,700 : 247\n",
      "Train loss at step 27,700 : 0.35534\n",
      "Validation loss at step 27,700 : 0.32957\n"
     ]
    },
    {
     "name": "stderr",
     "output_type": "stream",
     "text": [
      " 70%|█████████████████████████▏          | 27918/40000 [01:04<00:14, 854.69it/s]"
     ]
    },
    {
     "name": "stdout",
     "output_type": "stream",
     "text": [
      "m at step 27,800 : 248\n",
      "Train loss at step 27,800 : 0.35523\n",
      "Validation loss at step 27,800 : 0.32951\n",
      "m at step 27,900 : 253\n",
      "Train loss at step 27,900 : 0.35541\n",
      "Validation loss at step 27,900 : 0.32976\n"
     ]
    },
    {
     "name": "stderr",
     "output_type": "stream",
     "text": [
      " 70%|█████████████████████████▎          | 28095/40000 [01:04<00:13, 859.11it/s]"
     ]
    },
    {
     "name": "stdout",
     "output_type": "stream",
     "text": [
      "m at step 28,000 : 251\n",
      "Train loss at step 28,000 : 0.35475\n",
      "Validation loss at step 28,000 : 0.32918\n",
      "m at step 28,100 : 252\n",
      "Train loss at step 28,100 : 0.35477\n",
      "Validation loss at step 28,100 : 0.32929\n"
     ]
    },
    {
     "name": "stderr",
     "output_type": "stream",
     "text": [
      " 71%|█████████████████████████▌          | 28366/40000 [01:04<00:13, 881.02it/s]"
     ]
    },
    {
     "name": "stdout",
     "output_type": "stream",
     "text": [
      "m at step 28,200 : 249\n",
      "Train loss at step 28,200 : 0.35429\n",
      "Validation loss at step 28,200 : 0.32910\n",
      "m at step 28,300 : 246\n",
      "Train loss at step 28,300 : 0.35413\n",
      "Validation loss at step 28,300 : 0.32891\n"
     ]
    },
    {
     "name": "stderr",
     "output_type": "stream",
     "text": [
      " 71%|█████████████████████████▋          | 28552/40000 [01:04<00:12, 892.78it/s]"
     ]
    },
    {
     "name": "stdout",
     "output_type": "stream",
     "text": [
      "m at step 28,400 : 232\n",
      "Train loss at step 28,400 : 0.35452\n",
      "Validation loss at step 28,400 : 0.32932\n",
      "m at step 28,500 : 237\n",
      "Train loss at step 28,500 : 0.35463\n",
      "Validation loss at step 28,500 : 0.32925\n"
     ]
    },
    {
     "name": "stderr",
     "output_type": "stream",
     "text": [
      " 72%|█████████████████████████▊          | 28731/40000 [01:05<00:13, 850.31it/s]"
     ]
    },
    {
     "name": "stdout",
     "output_type": "stream",
     "text": [
      "m at step 28,600 : 227\n",
      "Train loss at step 28,600 : 0.35571\n",
      "Validation loss at step 28,600 : 0.33027\n",
      "m at step 28,700 : 226\n",
      "Train loss at step 28,700 : 0.35571\n",
      "Validation loss at step 28,700 : 0.32999\n"
     ]
    },
    {
     "name": "stderr",
     "output_type": "stream",
     "text": [
      " 72%|██████████████████████████          | 28917/40000 [01:05<00:12, 893.42it/s]"
     ]
    },
    {
     "name": "stdout",
     "output_type": "stream",
     "text": [
      "m at step 28,800 : 219\n",
      "Train loss at step 28,800 : 0.35539\n",
      "Validation loss at step 28,800 : 0.33013\n",
      "m at step 28,900 : 210\n",
      "Train loss at step 28,900 : 0.35487\n",
      "Validation loss at step 28,900 : 0.32970\n"
     ]
    },
    {
     "name": "stderr",
     "output_type": "stream",
     "text": [
      " 73%|██████████████████████████▏         | 29105/40000 [01:05<00:11, 913.14it/s]"
     ]
    },
    {
     "name": "stdout",
     "output_type": "stream",
     "text": [
      "m at step 29,000 : 214\n",
      "Train loss at step 29,000 : 0.35475\n",
      "Validation loss at step 29,000 : 0.32973\n",
      "m at step 29,100 : 212\n",
      "Train loss at step 29,100 : 0.35466\n",
      "Validation loss at step 29,100 : 0.32981\n"
     ]
    },
    {
     "name": "stderr",
     "output_type": "stream",
     "text": [
      " 73%|██████████████████████████▍         | 29397/40000 [01:05<00:11, 950.31it/s]"
     ]
    },
    {
     "name": "stdout",
     "output_type": "stream",
     "text": [
      "m at step 29,200 : 206\n",
      "Train loss at step 29,200 : 0.35546\n",
      "Validation loss at step 29,200 : 0.33047\n",
      "m at step 29,300 : 200\n",
      "Train loss at step 29,300 : 0.35549\n",
      "Validation loss at step 29,300 : 0.33041\n",
      "m at step 29,400 : 204\n",
      "Train loss at step 29,400 : 0.35514\n",
      "Validation loss at step 29,400 : 0.33025\n"
     ]
    },
    {
     "name": "stderr",
     "output_type": "stream",
     "text": [
      " 74%|██████████████████████████▋         | 29701/40000 [01:06<00:10, 985.59it/s]"
     ]
    },
    {
     "name": "stdout",
     "output_type": "stream",
     "text": [
      "m at step 29,500 : 209\n",
      "Train loss at step 29,500 : 0.35514\n",
      "Validation loss at step 29,500 : 0.33019\n",
      "m at step 29,600 : 208\n",
      "Train loss at step 29,600 : 0.35492\n",
      "Validation loss at step 29,600 : 0.32992\n",
      "m at step 29,700 : 215\n",
      "Train loss at step 29,700 : 0.35428\n",
      "Validation loss at step 29,700 : 0.32919\n"
     ]
    },
    {
     "name": "stderr",
     "output_type": "stream",
     "text": [
      " 75%|██████████████████████████▎        | 30011/40000 [01:06<00:09, 1008.57it/s]"
     ]
    },
    {
     "name": "stdout",
     "output_type": "stream",
     "text": [
      "m at step 29,800 : 209\n",
      "Train loss at step 29,800 : 0.35438\n",
      "Validation loss at step 29,800 : 0.32945\n",
      "m at step 29,900 : 211\n",
      "Train loss at step 29,900 : 0.35424\n",
      "Validation loss at step 29,900 : 0.32932\n",
      "m at step 30,000 : 199\n",
      "Train loss at step 30,000 : 0.35474\n",
      "Validation loss at step 30,000 : 0.32981\n"
     ]
    },
    {
     "name": "stderr",
     "output_type": "stream",
     "text": [
      " 76%|██████████████████████████▍        | 30219/40000 [01:06<00:09, 1011.62it/s]"
     ]
    },
    {
     "name": "stdout",
     "output_type": "stream",
     "text": [
      "m at step 30,100 : 203\n",
      "Train loss at step 30,100 : 0.35432\n",
      "Validation loss at step 30,100 : 0.32942\n",
      "m at step 30,200 : 196\n",
      "Train loss at step 30,200 : 0.35397\n",
      "Validation loss at step 30,200 : 0.32908\n",
      "m at step 30,300 : 204\n",
      "Train loss at step 30,300 : 0.35400\n",
      "Validation loss at step 30,300 : 0.32888\n"
     ]
    },
    {
     "name": "stderr",
     "output_type": "stream",
     "text": [
      " 76%|██████████████████████████▋        | 30530/40000 [01:07<00:09, 1015.66it/s]"
     ]
    },
    {
     "name": "stdout",
     "output_type": "stream",
     "text": [
      "m at step 30,400 : 208\n",
      "Train loss at step 30,400 : 0.35411\n",
      "Validation loss at step 30,400 : 0.32892\n",
      "m at step 30,500 : 195\n",
      "Train loss at step 30,500 : 0.35520\n",
      "Validation loss at step 30,500 : 0.32985\n",
      "m at step 30,600 : 190\n",
      "Train loss at step 30,600 : 0.35433\n",
      "Validation loss at step 30,600 : 0.32915\n"
     ]
    },
    {
     "name": "stderr",
     "output_type": "stream",
     "text": [
      " 77%|██████████████████████████▉        | 30851/40000 [01:07<00:08, 1052.87it/s]"
     ]
    },
    {
     "name": "stdout",
     "output_type": "stream",
     "text": [
      "m at step 30,700 : 185\n",
      "Train loss at step 30,700 : 0.35530\n",
      "Validation loss at step 30,700 : 0.33009\n",
      "m at step 30,800 : 184\n",
      "Train loss at step 30,800 : 0.35588\n",
      "Validation loss at step 30,800 : 0.33059\n",
      "m at step 30,900 : 185\n",
      "Train loss at step 30,900 : 0.35608\n",
      "Validation loss at step 30,900 : 0.33084\n"
     ]
    },
    {
     "name": "stderr",
     "output_type": "stream",
     "text": [
      " 78%|███████████████████████████▉        | 31061/40000 [01:07<00:09, 949.02it/s]"
     ]
    },
    {
     "name": "stdout",
     "output_type": "stream",
     "text": [
      "m at step 31,000 : 183\n",
      "Train loss at step 31,000 : 0.35634\n",
      "Validation loss at step 31,000 : 0.33082\n",
      "m at step 31,100 : 175\n",
      "Train loss at step 31,100 : 0.35569\n",
      "Validation loss at step 31,100 : 0.33038\n"
     ]
    },
    {
     "name": "stderr",
     "output_type": "stream",
     "text": [
      " 78%|████████████████████████████▏       | 31327/40000 [01:08<00:12, 714.40it/s]"
     ]
    },
    {
     "name": "stdout",
     "output_type": "stream",
     "text": [
      "m at step 31,200 : 168\n",
      "Train loss at step 31,200 : 0.35620\n",
      "Validation loss at step 31,200 : 0.33085\n",
      "m at step 31,300 : 170\n",
      "Train loss at step 31,300 : 0.35605\n",
      "Validation loss at step 31,300 : 0.33106\n"
     ]
    },
    {
     "name": "stderr",
     "output_type": "stream",
     "text": [
      " 79%|████████████████████████████▍       | 31549/40000 [01:08<00:09, 891.35it/s]"
     ]
    },
    {
     "name": "stdout",
     "output_type": "stream",
     "text": [
      "m at step 31,400 : 162\n",
      "Train loss at step 31,400 : 0.35620\n",
      "Validation loss at step 31,400 : 0.33109\n",
      "m at step 31,500 : 164\n",
      "Train loss at step 31,500 : 0.35566\n",
      "Validation loss at step 31,500 : 0.33093\n",
      "m at step 31,600 : 159\n",
      "Train loss at step 31,600 : 0.35621\n",
      "Validation loss at step 31,600 : 0.33136\n"
     ]
    },
    {
     "name": "stderr",
     "output_type": "stream",
     "text": [
      " 80%|████████████████████████████▋       | 31869/40000 [01:08<00:08, 998.92it/s]"
     ]
    },
    {
     "name": "stdout",
     "output_type": "stream",
     "text": [
      "m at step 31,700 : 149\n",
      "Train loss at step 31,700 : 0.35630\n",
      "Validation loss at step 31,700 : 0.33147\n",
      "m at step 31,800 : 156\n",
      "Train loss at step 31,800 : 0.35660\n",
      "Validation loss at step 31,800 : 0.33191\n",
      "m at step 31,900 : 155\n",
      "Train loss at step 31,900 : 0.35621\n",
      "Validation loss at step 31,900 : 0.33162\n"
     ]
    },
    {
     "name": "stderr",
     "output_type": "stream",
     "text": [
      " 81%|████████████████████████████▏      | 32216/40000 [01:08<00:07, 1108.74it/s]"
     ]
    },
    {
     "name": "stdout",
     "output_type": "stream",
     "text": [
      "m at step 32,000 : 158\n",
      "Train loss at step 32,000 : 0.35573\n",
      "Validation loss at step 32,000 : 0.33112\n",
      "m at step 32,100 : 151\n",
      "Train loss at step 32,100 : 0.35564\n",
      "Validation loss at step 32,100 : 0.33086\n",
      "m at step 32,200 : 152\n",
      "Train loss at step 32,200 : 0.35580\n",
      "Validation loss at step 32,200 : 0.33106\n"
     ]
    },
    {
     "name": "stderr",
     "output_type": "stream",
     "text": [
      " 81%|████████████████████████████▍      | 32449/40000 [01:09<00:06, 1128.87it/s]"
     ]
    },
    {
     "name": "stdout",
     "output_type": "stream",
     "text": [
      "m at step 32,300 : 156\n",
      "Train loss at step 32,300 : 0.35589\n",
      "Validation loss at step 32,300 : 0.33116\n",
      "m at step 32,400 : 157\n",
      "Train loss at step 32,400 : 0.35567\n",
      "Validation loss at step 32,400 : 0.33083\n",
      "m at step 32,500 : 150\n",
      "Train loss at step 32,500 : 0.35526\n",
      "Validation loss at step 32,500 : 0.33062\n"
     ]
    },
    {
     "name": "stderr",
     "output_type": "stream",
     "text": [
      " 82%|████████████████████████████▋      | 32807/40000 [01:09<00:06, 1165.32it/s]"
     ]
    },
    {
     "name": "stdout",
     "output_type": "stream",
     "text": [
      "m at step 32,600 : 150\n",
      "Train loss at step 32,600 : 0.35565\n",
      "Validation loss at step 32,600 : 0.33083\n",
      "m at step 32,700 : 149\n",
      "Train loss at step 32,700 : 0.35601\n",
      "Validation loss at step 32,700 : 0.33120\n",
      "m at step 32,800 : 150\n",
      "Train loss at step 32,800 : 0.35508\n",
      "Validation loss at step 32,800 : 0.33016\n"
     ]
    },
    {
     "name": "stderr",
     "output_type": "stream",
     "text": [
      " 83%|████████████████████████████▉      | 33040/40000 [01:09<00:06, 1148.89it/s]"
     ]
    },
    {
     "name": "stdout",
     "output_type": "stream",
     "text": [
      "m at step 32,900 : 150\n",
      "Train loss at step 32,900 : 0.35576\n",
      "Validation loss at step 32,900 : 0.33080\n",
      "m at step 33,000 : 144\n",
      "Train loss at step 33,000 : 0.35540\n",
      "Validation loss at step 33,000 : 0.33081\n",
      "m at step 33,100 : 141\n",
      "Train loss at step 33,100 : 0.35590\n",
      "Validation loss at step 33,100 : 0.33140\n"
     ]
    },
    {
     "name": "stderr",
     "output_type": "stream",
     "text": [
      " 84%|█████████████████████████████▏     | 33411/40000 [01:09<00:05, 1211.16it/s]"
     ]
    },
    {
     "name": "stdout",
     "output_type": "stream",
     "text": [
      "m at step 33,200 : 139\n",
      "Train loss at step 33,200 : 0.35578\n",
      "Validation loss at step 33,200 : 0.33120\n",
      "m at step 33,300 : 126\n",
      "Train loss at step 33,300 : 0.35591\n",
      "Validation loss at step 33,300 : 0.33148\n",
      "m at step 33,400 : 118\n",
      "Train loss at step 33,400 : 0.35586\n",
      "Validation loss at step 33,400 : 0.33172\n"
     ]
    },
    {
     "name": "stderr",
     "output_type": "stream",
     "text": [
      " 84%|█████████████████████████████▍     | 33659/40000 [01:10<00:05, 1224.13it/s]"
     ]
    },
    {
     "name": "stdout",
     "output_type": "stream",
     "text": [
      "m at step 33,500 : 121\n",
      "Train loss at step 33,500 : 0.35497\n",
      "Validation loss at step 33,500 : 0.33069\n",
      "m at step 33,600 : 118\n",
      "Train loss at step 33,600 : 0.35565\n",
      "Validation loss at step 33,600 : 0.33132\n",
      "m at step 33,700 : 127\n",
      "Train loss at step 33,700 : 0.35459\n",
      "Validation loss at step 33,700 : 0.33011\n"
     ]
    },
    {
     "name": "stderr",
     "output_type": "stream",
     "text": [
      " 85%|█████████████████████████████▊     | 34039/40000 [01:10<00:04, 1254.71it/s]"
     ]
    },
    {
     "name": "stdout",
     "output_type": "stream",
     "text": [
      "m at step 33,800 : 127\n",
      "Train loss at step 33,800 : 0.35516\n",
      "Validation loss at step 33,800 : 0.33050\n",
      "m at step 33,900 : 127\n",
      "Train loss at step 33,900 : 0.35545\n",
      "Validation loss at step 33,900 : 0.33080\n",
      "m at step 34,000 : 124\n",
      "Train loss at step 34,000 : 0.35573\n",
      "Validation loss at step 34,000 : 0.33114\n"
     ]
    },
    {
     "name": "stderr",
     "output_type": "stream",
     "text": [
      " 86%|██████████████████████████████     | 34290/40000 [01:10<00:04, 1233.16it/s]"
     ]
    },
    {
     "name": "stdout",
     "output_type": "stream",
     "text": [
      "m at step 34,100 : 124\n",
      "Train loss at step 34,100 : 0.35521\n",
      "Validation loss at step 34,100 : 0.33044\n",
      "m at step 34,200 : 117\n",
      "Train loss at step 34,200 : 0.35533\n",
      "Validation loss at step 34,200 : 0.33077\n",
      "m at step 34,300 : 127\n",
      "Train loss at step 34,300 : 0.35526\n",
      "Validation loss at step 34,300 : 0.33072\n"
     ]
    },
    {
     "name": "stderr",
     "output_type": "stream",
     "text": [
      " 86%|██████████████████████████████▏    | 34542/40000 [01:10<00:04, 1218.95it/s]"
     ]
    },
    {
     "name": "stdout",
     "output_type": "stream",
     "text": [
      "m at step 34,400 : 119\n",
      "Train loss at step 34,400 : 0.35543\n",
      "Validation loss at step 34,400 : 0.33123\n",
      "m at step 34,500 : 120\n",
      "Train loss at step 34,500 : 0.35526\n",
      "Validation loss at step 34,500 : 0.33095\n",
      "m at step 34,600 : 120\n",
      "Train loss at step 34,600 : 0.35513\n",
      "Validation loss at step 34,600 : 0.33057\n"
     ]
    },
    {
     "name": "stderr",
     "output_type": "stream",
     "text": [
      " 87%|██████████████████████████████▌    | 34938/40000 [01:11<00:03, 1287.62it/s]"
     ]
    },
    {
     "name": "stdout",
     "output_type": "stream",
     "text": [
      "m at step 34,700 : 115\n",
      "Train loss at step 34,700 : 0.35554\n",
      "Validation loss at step 34,700 : 0.33095\n",
      "m at step 34,800 : 110\n",
      "Train loss at step 34,800 : 0.35602\n",
      "Validation loss at step 34,800 : 0.33144\n",
      "m at step 34,900 : 102\n",
      "Train loss at step 34,900 : 0.35623\n",
      "Validation loss at step 34,900 : 0.33189\n"
     ]
    },
    {
     "name": "stderr",
     "output_type": "stream",
     "text": [
      " 88%|██████████████████████████████▊    | 35204/40000 [01:11<00:03, 1296.53it/s]"
     ]
    },
    {
     "name": "stdout",
     "output_type": "stream",
     "text": [
      "m at step 35,000 : 108\n",
      "Train loss at step 35,000 : 0.35562\n",
      "Validation loss at step 35,000 : 0.33137\n",
      "m at step 35,100 : 103\n",
      "Train loss at step 35,100 : 0.35513\n",
      "Validation loss at step 35,100 : 0.33100\n",
      "m at step 35,200 : 106\n",
      "Train loss at step 35,200 : 0.35585\n",
      "Validation loss at step 35,200 : 0.33155\n"
     ]
    },
    {
     "name": "stderr",
     "output_type": "stream",
     "text": [
      " 89%|███████████████████████████████    | 35470/40000 [01:11<00:03, 1300.57it/s]"
     ]
    },
    {
     "name": "stdout",
     "output_type": "stream",
     "text": [
      "m at step 35,300 : 114\n",
      "Train loss at step 35,300 : 0.35546\n",
      "Validation loss at step 35,300 : 0.33105\n",
      "m at step 35,400 : 111\n",
      "Train loss at step 35,400 : 0.35579\n",
      "Validation loss at step 35,400 : 0.33142\n",
      "m at step 35,500 : 112\n",
      "Train loss at step 35,500 : 0.35578\n",
      "Validation loss at step 35,500 : 0.33151\n"
     ]
    },
    {
     "name": "stderr",
     "output_type": "stream",
     "text": [
      " 89%|███████████████████████████████▎   | 35743/40000 [01:11<00:03, 1317.31it/s]"
     ]
    },
    {
     "name": "stdout",
     "output_type": "stream",
     "text": [
      "m at step 35,600 : 113\n",
      "Train loss at step 35,600 : 0.35537\n",
      "Validation loss at step 35,600 : 0.33113\n",
      "m at step 35,700 : 100\n",
      "Train loss at step 35,700 : 0.35516\n",
      "Validation loss at step 35,700 : 0.33081\n",
      "m at step 35,800 : 108\n",
      "Train loss at step 35,800 : 0.35490\n",
      "Validation loss at step 35,800 : 0.33054\n"
     ]
    },
    {
     "name": "stderr",
     "output_type": "stream",
     "text": [
      " 90%|███████████████████████████████▋   | 36165/40000 [01:12<00:02, 1348.48it/s]"
     ]
    },
    {
     "name": "stdout",
     "output_type": "stream",
     "text": [
      "m at step 35,900 : 107\n",
      "Train loss at step 35,900 : 0.35546\n",
      "Validation loss at step 35,900 : 0.33110\n",
      "m at step 36,000 : 108\n",
      "Train loss at step 36,000 : 0.35572\n",
      "Validation loss at step 36,000 : 0.33115\n",
      "m at step 36,100 : 103\n",
      "Train loss at step 36,100 : 0.35540\n",
      "Validation loss at step 36,100 : 0.33070\n"
     ]
    },
    {
     "name": "stderr",
     "output_type": "stream",
     "text": [
      " 91%|███████████████████████████████▉   | 36454/40000 [01:12<00:02, 1375.23it/s]"
     ]
    },
    {
     "name": "stdout",
     "output_type": "stream",
     "text": [
      "m at step 36,200 : 102\n",
      "Train loss at step 36,200 : 0.35525\n",
      "Validation loss at step 36,200 : 0.33052\n",
      "m at step 36,300 : 98\n",
      "Train loss at step 36,300 : 0.35576\n",
      "Validation loss at step 36,300 : 0.33105\n",
      "m at step 36,400 : 89\n",
      "Train loss at step 36,400 : 0.35569\n",
      "Validation loss at step 36,400 : 0.33121\n"
     ]
    },
    {
     "name": "stderr",
     "output_type": "stream",
     "text": [
      " 92%|████████████████████████████████▏  | 36735/40000 [01:12<00:02, 1372.46it/s]"
     ]
    },
    {
     "name": "stdout",
     "output_type": "stream",
     "text": [
      "m at step 36,500 : 98\n",
      "Train loss at step 36,500 : 0.35447\n",
      "Validation loss at step 36,500 : 0.33040\n",
      "m at step 36,600 : 102\n",
      "Train loss at step 36,600 : 0.35490\n",
      "Validation loss at step 36,600 : 0.33075\n",
      "m at step 36,700 : 101\n",
      "Train loss at step 36,700 : 0.35519\n",
      "Validation loss at step 36,700 : 0.33096\n"
     ]
    },
    {
     "name": "stderr",
     "output_type": "stream",
     "text": [
      " 93%|████████████████████████████████▍  | 37024/40000 [01:12<00:02, 1397.65it/s]"
     ]
    },
    {
     "name": "stdout",
     "output_type": "stream",
     "text": [
      "m at step 36,800 : 94\n",
      "Train loss at step 36,800 : 0.35529\n",
      "Validation loss at step 36,800 : 0.33104\n",
      "m at step 36,900 : 96\n",
      "Train loss at step 36,900 : 0.35553\n",
      "Validation loss at step 36,900 : 0.33101\n",
      "m at step 37,000 : 85\n",
      "Train loss at step 37,000 : 0.35627\n",
      "Validation loss at step 37,000 : 0.33178\n"
     ]
    },
    {
     "name": "stderr",
     "output_type": "stream",
     "text": [
      " 93%|████████████████████████████████▋  | 37321/40000 [01:12<00:01, 1447.63it/s]"
     ]
    },
    {
     "name": "stdout",
     "output_type": "stream",
     "text": [
      "m at step 37,100 : 86\n",
      "Train loss at step 37,100 : 0.35592\n",
      "Validation loss at step 37,100 : 0.33135\n",
      "m at step 37,200 : 78\n",
      "Train loss at step 37,200 : 0.35600\n",
      "Validation loss at step 37,200 : 0.33171\n",
      "m at step 37,300 : 82\n",
      "Train loss at step 37,300 : 0.35565\n",
      "Validation loss at step 37,300 : 0.33127\n",
      "m at step 37,400 : 80\n",
      "Train loss at step 37,400 : 0.35500\n",
      "Validation loss at step 37,400 : 0.33059\n"
     ]
    },
    {
     "name": "stderr",
     "output_type": "stream",
     "text": [
      " 94%|█████████████████████████████████  | 37773/40000 [01:13<00:01, 1483.24it/s]"
     ]
    },
    {
     "name": "stdout",
     "output_type": "stream",
     "text": [
      "m at step 37,500 : 81\n",
      "Train loss at step 37,500 : 0.35587\n",
      "Validation loss at step 37,500 : 0.33151\n",
      "m at step 37,600 : 85\n",
      "Train loss at step 37,600 : 0.35594\n",
      "Validation loss at step 37,600 : 0.33136\n",
      "m at step 37,700 : 96\n",
      "Train loss at step 37,700 : 0.35584\n",
      "Validation loss at step 37,700 : 0.33125\n",
      "m at step 37,800 : 85\n",
      "Train loss at step 37,800 : 0.35611\n",
      "Validation loss at step 37,800 : 0.33153\n"
     ]
    },
    {
     "name": "stderr",
     "output_type": "stream",
     "text": [
      " 95%|█████████████████████████████████▎ | 38077/40000 [01:13<00:01, 1487.53it/s]"
     ]
    },
    {
     "name": "stdout",
     "output_type": "stream",
     "text": [
      "m at step 37,900 : 77\n",
      "Train loss at step 37,900 : 0.35617\n",
      "Validation loss at step 37,900 : 0.33166\n",
      "m at step 38,000 : 72\n",
      "Train loss at step 38,000 : 0.35595\n",
      "Validation loss at step 38,000 : 0.33134\n",
      "m at step 38,100 : 78\n",
      "Train loss at step 38,100 : 0.35581\n",
      "Validation loss at step 38,100 : 0.33121\n",
      "m at step 38,200 : 80\n",
      "Train loss at step 38,200 : 0.35562\n",
      "Validation loss at step 38,200 : 0.33109\n"
     ]
    },
    {
     "name": "stderr",
     "output_type": "stream",
     "text": [
      " 96%|█████████████████████████████████▋ | 38532/40000 [01:13<00:00, 1505.74it/s]"
     ]
    },
    {
     "name": "stdout",
     "output_type": "stream",
     "text": [
      "m at step 38,300 : 79\n",
      "Train loss at step 38,300 : 0.35606\n",
      "Validation loss at step 38,300 : 0.33149\n",
      "m at step 38,400 : 71\n",
      "Train loss at step 38,400 : 0.35611\n",
      "Validation loss at step 38,400 : 0.33143\n",
      "m at step 38,500 : 71\n",
      "Train loss at step 38,500 : 0.35599\n",
      "Validation loss at step 38,500 : 0.33140\n",
      "m at step 38,600 : 82\n",
      "Train loss at step 38,600 : 0.35519\n",
      "Validation loss at step 38,600 : 0.33044\n"
     ]
    },
    {
     "name": "stderr",
     "output_type": "stream",
     "text": [
      " 97%|██████████████████████████████████ | 38996/40000 [01:14<00:00, 1513.20it/s]"
     ]
    },
    {
     "name": "stdout",
     "output_type": "stream",
     "text": [
      "m at step 38,700 : 81\n",
      "Train loss at step 38,700 : 0.35494\n",
      "Validation loss at step 38,700 : 0.33010\n",
      "m at step 38,800 : 79\n",
      "Train loss at step 38,800 : 0.35505\n",
      "Validation loss at step 38,800 : 0.33054\n",
      "m at step 38,900 : 81\n",
      "Train loss at step 38,900 : 0.35486\n",
      "Validation loss at step 38,900 : 0.33028\n",
      "m at step 39,000 : 79\n",
      "Train loss at step 39,000 : 0.35552\n",
      "Validation loss at step 39,000 : 0.33114\n"
     ]
    },
    {
     "name": "stderr",
     "output_type": "stream",
     "text": [
      " 98%|██████████████████████████████████▍| 39303/40000 [01:14<00:00, 1494.00it/s]"
     ]
    },
    {
     "name": "stdout",
     "output_type": "stream",
     "text": [
      "m at step 39,100 : 80\n",
      "Train loss at step 39,100 : 0.35506\n",
      "Validation loss at step 39,100 : 0.33065\n",
      "m at step 39,200 : 83\n",
      "Train loss at step 39,200 : 0.35509\n",
      "Validation loss at step 39,200 : 0.33070\n",
      "m at step 39,300 : 79\n",
      "Train loss at step 39,300 : 0.35547\n",
      "Validation loss at step 39,300 : 0.33078\n",
      "m at step 39,400 : 71\n",
      "Train loss at step 39,400 : 0.35608\n",
      "Validation loss at step 39,400 : 0.33141\n"
     ]
    },
    {
     "name": "stderr",
     "output_type": "stream",
     "text": [
      " 99%|██████████████████████████████████▊| 39774/40000 [01:14<00:00, 1543.77it/s]"
     ]
    },
    {
     "name": "stdout",
     "output_type": "stream",
     "text": [
      "m at step 39,500 : 75\n",
      "Train loss at step 39,500 : 0.35569\n",
      "Validation loss at step 39,500 : 0.33096\n",
      "m at step 39,600 : 74\n",
      "Train loss at step 39,600 : 0.35567\n",
      "Validation loss at step 39,600 : 0.33084\n",
      "m at step 39,700 : 71\n",
      "Train loss at step 39,700 : 0.35549\n",
      "Validation loss at step 39,700 : 0.33060\n",
      "m at step 39,800 : 74\n",
      "Train loss at step 39,800 : 0.35568\n",
      "Validation loss at step 39,800 : 0.33054\n"
     ]
    },
    {
     "name": "stderr",
     "output_type": "stream",
     "text": [
      "100%|████████████████████████████████████| 40000/40000 [01:14<00:00, 535.64it/s]"
     ]
    },
    {
     "name": "stdout",
     "output_type": "stream",
     "text": [
      "m at step 39,900 : 69\n",
      "Train loss at step 39,900 : 0.35541\n",
      "Validation loss at step 39,900 : 0.33042\n"
     ]
    },
    {
     "name": "stderr",
     "output_type": "stream",
     "text": [
      "\n"
     ]
    }
   ],
   "source": [
    "a, b, ms, train_losses, penalized_train_losses, val_losses, penalized_val_losses = \\\n",
    "        train(N_STEPS, x_train, y_train, x_val, y_val)"
   ]
  },
  {
   "cell_type": "code",
   "execution_count": 20,
   "id": "9ee851e1",
   "metadata": {},
   "outputs": [
    {
     "data": {
      "image/png": "[encoded data removed]",
      "text/plain": [
       "<Figure size 1000x600 with 1 Axes>"
      ]
     },
     "metadata": {},
     "output_type": "display_data"
    }
   ],
   "source": [
    "plt.figure(figsize=(10, 6))\n",
    "marker = None #'o'\n",
    "#plt.xscale('log')\n",
    "#plt.yscale('log')\n",
    "\n",
    "plt.plot(np.arange(2*N_STEPS+1), ms)\n",
    "\n",
    "plt.xlabel('iteration $k$', fontsize=28)\n",
    "plt.ylabel('# neurons $m_k$', fontsize=28)\n",
    "plt.ticklabel_format(style='sci', axis='x', scilimits=(0,0))\n",
    "plt.xticks(fontsize=24)\n",
    "plt.yticks(fontsize=24)\n",
    "#plt.savefig(os.path.join(FIGURES_DIR, 'complexity-ista-1-1.png'), bbox_inches='tight')\n",
    "plt.show()"
   ]
  },
  {
   "cell_type": "code",
   "execution_count": 21,
   "id": "df08f924",
   "metadata": {},
   "outputs": [
    {
     "data": {
      "image/png": "[encoded data removed]",
      "text/plain": [
       "<Figure size 1000x600 with 1 Axes>"
      ]
     },
     "metadata": {},
     "output_type": "display_data"
    }
   ],
   "source": [
    "plt.figure(figsize=(10, 6))\n",
    "marker = None #'o'\n",
    "#plt.xscale('log')\n",
    "#plt.yscale('log')\n",
    "\n",
    "train_penalties = penalized_train_losses - train_losses\n",
    "\n",
    "plt.plot(np.arange(len(train_penalties)), train_penalties, label='train')\n",
    "\n",
    "plt.xlabel('Iteration $k$', fontsize=28)\n",
    "plt.ylabel('Penalties', fontsize=28)\n",
    "plt.ticklabel_format(style='sci', axis='x', scilimits=(0,0))\n",
    "plt.xticks(fontsize=24)\n",
    "plt.yticks(fontsize=24)\n",
    "#plt.legend(fontsize=18)\n",
    "#plt.savefig(os.path.join(FIGURES_DIR, 'losses-ista-10-1.png'), bbox_inches='tight')\n",
    "plt.show()"
   ]
  },
  {
   "cell_type": "code",
   "execution_count": 22,
   "id": "a1ba7192",
   "metadata": {},
   "outputs": [
    {
     "data": {
      "image/png": "[encoded data removed]",
      "text/plain": [
       "<Figure size 1000x600 with 1 Axes>"
      ]
     },
     "metadata": {},
     "output_type": "display_data"
    }
   ],
   "source": [
    "plt.figure(figsize=(10, 6))\n",
    "marker = None #'o'\n",
    "#plt.xscale('log')\n",
    "#plt.yscale('log')\n",
    "\n",
    "plt.plot(np.arange(len(penalized_train_losses)), penalized_train_losses, label='train')\n",
    "plt.plot([min(VAL_ITER * k, len(penalized_train_losses)) for k in range(len(penalized_val_losses))], \n",
    "         penalized_val_losses, label='val', marker=marker)\n",
    "\n",
    "plt.xlabel('Iteration $k$', fontsize=28)\n",
    "plt.ylabel('Penalized loss', fontsize=28)\n",
    "plt.ticklabel_format(style='sci', axis='x', scilimits=(0,0))\n",
    "plt.xticks(fontsize=24)\n",
    "plt.yticks(fontsize=24)\n",
    "plt.legend(fontsize=18)\n",
    "#plt.savefig(os.path.join(FIGURES_DIR, 'losses-ista-10-1.png'), bbox_inches='tight')\n",
    "plt.show()"
   ]
  },
  {
   "cell_type": "code",
   "execution_count": 23,
   "id": "628c955e",
   "metadata": {},
   "outputs": [
    {
     "data": {
      "image/png": "[encoded data removed]",
      "text/plain": [
       "<Figure size 1000x600 with 1 Axes>"
      ]
     },
     "metadata": {},
     "output_type": "display_data"
    }
   ],
   "source": [
    "plt.figure(figsize=(10, 6))\n",
    "marker = None #'o'\n",
    "#plt.xscale('log')\n",
    "#plt.yscale('log')\n",
    "\n",
    "plt.plot(np.arange(len(train_losses)), train_losses, label='train')\n",
    "plt.plot([min(VAL_ITER * k, len(train_losses)) for k in range(len(val_losses))], val_losses, label='val', \n",
    "         marker=marker)\n",
    "\n",
    "plt.xlabel('Iteration $k$', fontsize=28)\n",
    "plt.ylabel('Loss (not penalized)', fontsize=28)\n",
    "plt.ticklabel_format(style='sci', axis='x', scilimits=(0,0))\n",
    "plt.xticks(fontsize=24)\n",
    "plt.yticks(fontsize=24)\n",
    "plt.legend(fontsize=18)\n",
    "#plt.savefig(os.path.join(FIGURES_DIR, 'losses-ista-10-1.png'), bbox_inches='tight')\n",
    "plt.show()"
   ]
  },
  {
   "cell_type": "code",
   "execution_count": null,
   "id": "f571ee3e",
   "metadata": {},
   "outputs": [],
   "source": []
  },
  {
   "cell_type": "code",
   "execution_count": null,
   "id": "07d65d48",
   "metadata": {},
   "outputs": [],
   "source": []
  }
 ],
 "metadata": {
  "kernelspec": {
   "display_name": "Python 3 (ipykernel)",
   "language": "python",
   "name": "python3"
  },
  "language_info": {
   "codemirror_mode": {
    "name": "ipython",
    "version": 3
   },
   "file_extension": ".py",
   "mimetype": "text/x-python",
   "name": "python",
   "nbconvert_exporter": "python",
   "pygments_lexer": "ipython3",
   "version": "3.9.7"
  }
 },
 "nbformat": 4,
 "nbformat_minor": 5
}
