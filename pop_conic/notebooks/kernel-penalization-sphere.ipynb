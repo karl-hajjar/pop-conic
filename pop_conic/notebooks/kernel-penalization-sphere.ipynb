{
 "cells": [
  {
   "cell_type": "code",
   "execution_count": 1,
   "id": "dc61dabf",
   "metadata": {},
   "outputs": [],
   "source": [
    "%matplotlib inline\n",
    "%load_ext autoreload\n",
    "%autoreload 2"
   ]
  },
  {
   "cell_type": "code",
   "execution_count": 2,
   "id": "c38725de",
   "metadata": {},
   "outputs": [
    {
     "name": "stderr",
     "output_type": "stream",
     "text": [
      "/usr/local/lib/python3.9/site-packages/tqdm/auto.py:22: TqdmWarning: IProgress not found. Please update jupyter and ipywidgets. See https://ipywidgets.readthedocs.io/en/stable/user_install.html\n",
      "  from .autonotebook import tqdm as notebook_tqdm\n"
     ]
    }
   ],
   "source": [
    "import os\n",
    "import matplotlib.pyplot as plt\n",
    "import seaborn as sns\n",
    "sns.set_style('darkgrid')\n",
    "\n",
    "import numpy\n",
    "import torch\n",
    "from time import time\n",
    "from tqdm import tqdm"
   ]
  },
  {
   "cell_type": "code",
   "execution_count": 3,
   "id": "e93c8b3b",
   "metadata": {},
   "outputs": [],
   "source": [
    "cwd = os.getcwd()\n",
    "NOTEBOOK_DIR = os.path.dirname(cwd+'/')\n",
    "ROOT = os.path.dirname(NOTEBOOK_DIR)\n",
    "\n",
    "import sys\n",
    "sys.path.append(ROOT)"
   ]
  },
  {
   "cell_type": "code",
   "execution_count": 4,
   "id": "8f0251e9",
   "metadata": {},
   "outputs": [],
   "source": [
    "from utils.tools import *"
   ]
  },
  {
   "cell_type": "markdown",
   "id": "fa9e0d9c",
   "metadata": {},
   "source": [
    "# Constants"
   ]
  },
  {
   "cell_type": "code",
   "execution_count": 5,
   "id": "f0839a11",
   "metadata": {},
   "outputs": [],
   "source": [
    "INPUT_DIM = 10 #50\n",
    "BIAS = False\n",
    "\n",
    "SEED = 42\n",
    "N_TRAIN = 256\n",
    "BATCH_SIZE = 64\n",
    "ALPHA = 1e-1\n",
    "BASE_LR = 1.0e-2\n",
    "N_STEPS = int(1.5e3)\n",
    "N_VAL = 100\n",
    "VAL_ITER = 100\n",
    "N_MAX_NEURONS = 2000\n",
    "\n",
    "EPS = 1.0e-7\n",
    "ALPHA = 1.0\n",
    "BETA = 1.0\n",
    "LAMBDA = 0.02"
   ]
  },
  {
   "cell_type": "code",
   "execution_count": 6,
   "id": "8de4bcd7",
   "metadata": {},
   "outputs": [],
   "source": [
    "FIGURES_DIR = os.path.join(ROOT, 'figures/kernel_penalty_sphere/')\n",
    "create_dir(FIGURES_DIR)"
   ]
  },
  {
   "cell_type": "code",
   "execution_count": 7,
   "id": "d50d3a83",
   "metadata": {},
   "outputs": [],
   "source": [
    "set_random_seeds(SEED)"
   ]
  },
  {
   "cell_type": "markdown",
   "id": "a5073e61",
   "metadata": {},
   "source": [
    "## Common functions"
   ]
  },
  {
   "cell_type": "code",
   "execution_count": 8,
   "id": "8062c332",
   "metadata": {},
   "outputs": [],
   "source": [
    "def H(a, b, sigma=1.0):\n",
    "    deltas = b.reshape(m, 1, INPUT_DIM) - b\n",
    "    K = np.exp(-np.sum(deltas**2, axis=-1) / (2 * sigma**2))\n",
    "    return 0.5 * np.matmul(a.T, np.matmul(K, a))"
   ]
  },
  {
   "cell_type": "code",
   "execution_count": 9,
   "id": "2748ed23",
   "metadata": {},
   "outputs": [],
   "source": [
    "def K_mat(b, sigma=1.0):\n",
    "    deltas = b.reshape(m, 1, INPUT_DIM) - b\n",
    "    return np.exp(-np.sum(deltas**2, axis=-1) / (2 * sigma**2))"
   ]
  },
  {
   "cell_type": "code",
   "execution_count": 10,
   "id": "1072c95d",
   "metadata": {},
   "outputs": [],
   "source": [
    "def proj_tangential(u, x, eps=1e-5):\n",
    "    assert np.abs(np.sum(u**2) - 1.0) < eps\n",
    "    return x - np.inner(x, u)*u"
   ]
  },
  {
   "cell_type": "code",
   "execution_count": 11,
   "id": "4a2480b9",
   "metadata": {},
   "outputs": [],
   "source": [
    "def proj_tangential_mat(u, eps=1e-3):\n",
    "    #assert (np.abs(np.sum(u**2, axis=1) - 1.0) < eps).all()\n",
    "    return np.identity(u.shape[0]) - np.matmul(u, u.T)"
   ]
  },
  {
   "cell_type": "code",
   "execution_count": 12,
   "id": "b46bc664",
   "metadata": {},
   "outputs": [],
   "source": [
    "def proj_tangential_tensor(u, eps=1e-3):\n",
    "    m, d = u.shape\n",
    "    T = np.zeros((m, d, d))\n",
    "\n",
    "    T[:, np.arange(d), np.arange(d)] = 1  # Set diagonal elements to 1\n",
    "\n",
    "    u_outer = np.einsum('ij,ik->ijk', u, u)  # Compute outer product of u with itself\n",
    "    T -= u_outer\n",
    "    \n",
    "    return T"
   ]
  },
  {
   "cell_type": "code",
   "execution_count": 310,
   "id": "56b3ff8c",
   "metadata": {},
   "outputs": [
    {
     "data": {
      "text/plain": [
       "(2, 2, 2)"
      ]
     },
     "execution_count": 310,
     "metadata": {},
     "output_type": "execute_result"
    }
   ],
   "source": [
    "T.shape"
   ]
  },
  {
   "cell_type": "code",
   "execution_count": 315,
   "id": "0b00691a",
   "metadata": {},
   "outputs": [
    {
     "name": "stdout",
     "output_type": "stream",
     "text": [
      "0.09679746678080947\n",
      "-0.5415064877801247\n",
      "-0.7759246522782267\n",
      "-0.465198244893795\n",
      "-0.7759246522782267\n",
      "0.18462415724771408\n",
      "0.3334174297903807\n",
      "1.0396949350156943\n",
      "-1.3221980561097353\n",
      "-1.7891351925410843\n",
      "-0.6522891230721022\n",
      "0.0469374035921285\n",
      "-0.6522891230721022\n",
      "2.2940756736359558\n",
      "0.816776566943235\n",
      "0.6443897433640462\n"
     ]
    }
   ],
   "source": [
    "for i in range(m):\n",
    "    for j in range(m):\n",
    "        for k in range(m):\n",
    "            print(T[i, j, k])\n",
    "            print(u[j, k] - np.inner(u[i, :], u[j, :]) * u[i, k])"
   ]
  },
  {
   "cell_type": "code",
   "execution_count": 314,
   "id": "357ba7ef",
   "metadata": {},
   "outputs": [],
   "source": [
    "u = np.random.normal(size=(m, INPUT_DIM))\n",
    "u / np.linalg.norm(u, axis=1, ord=2, keepdims=True)\n",
    "\n",
    "T = proj_tangential_tensor(u)\n",
    "np.matmul(T, u.T)\n",
    "\n",
    "i = np.random.randint(low=0, high=m)\n"
   ]
  },
  {
   "cell_type": "code",
   "execution_count": null,
   "id": "a50db385",
   "metadata": {},
   "outputs": [],
   "source": []
  },
  {
   "cell_type": "code",
   "execution_count": 13,
   "id": "af6df74b",
   "metadata": {},
   "outputs": [],
   "source": [
    "def grad_a_H(a, b, sigma=1.0):\n",
    "    signs = np.sign(a)\n",
    "    K = K_mat(a, b, sigma)\n",
    "    \n",
    "    deltas = b.reshape(m, 1, INPUT_DIM) - b\n",
    "    K = np.exp(-np.sum(deltas**2, axis=-1) / (2 * sigma**2))\n",
    "    return np.matmul(K, a)"
   ]
  },
  {
   "cell_type": "code",
   "execution_count": 14,
   "id": "d18dc467",
   "metadata": {},
   "outputs": [],
   "source": [
    "def grad_b_H(a, b, sigma=1.0):\n",
    "    deltas = b.reshape(m, 1, INPUT_DIM) - b\n",
    "    outer = np.matmul(a, a.T).reshape(m, m, 1)\n",
    "    K = np.exp(-np.sum(deltas**2, axis=-1) / (2 * sigma**2))\n",
    "    return np.sum(outer * deltas * K.reshape(m, m, 1), axis=0) / sigma**2"
   ]
  },
  {
   "cell_type": "code",
   "execution_count": 15,
   "id": "be6f0daf",
   "metadata": {},
   "outputs": [],
   "source": [
    "import numpy as np\n",
    "\n",
    "def compute_matrix_G(a, b, s, P):\n",
    "    m, d = b.shape\n",
    "\n",
    "    norm_b = np.linalg.norm(b, axis=1)  # Norm of each row in matrix b\n",
    "\n",
    "    diff = b[:, np.newaxis, :] - b  # Shape: (m, m, d)\n",
    "    norm_diff = np.linalg.norm(diff, axis=2)  # Shape: (m, m)\n",
    "    exp_term = np.exp(-norm_diff**2 / 2)  # Shape: (m, m)\n",
    "\n",
    "    P_diff = np.einsum('ijk,ik->ijk', P, diff)  # Element-wise multiplication of P and diff\n",
    "    G = -s * np.sum(a * exp_term[:, :, np.newaxis] * P_diff, axis=1)\n",
    "\n",
    "    return G"
   ]
  },
  {
   "cell_type": "code",
   "execution_count": 293,
   "id": "d3dbf3ce",
   "metadata": {},
   "outputs": [],
   "source": [
    "def projected_conic_update(a, b, sigma=1.0):\n",
    "    signs = np.sign(a)\n",
    "    deltas = b[:, np.newaxis, :] - b\n",
    "    K = np.exp(-np.sum(deltas**2, axis=-1) / (2 * sigma**2))\n",
    "    \n",
    "    # mass updates\n",
    "    a = (1 + 2 * ETA * signs * np.matmul(K, a)) * a\n",
    "    \n",
    "    # positions updates\n",
    "    P = proj_tangential_tensor(b)\n",
    "    \n",
    "    P_delta = np.einsum('ikr,ijr->ijk', P, deltas)  # Element-wise multiplication of P and deltas\n",
    "    grad = - signs * np.sum(a * K[:, :, np.newaxis] * P_delta, axis=1) / (sigma**2)\n",
    "    b = b + ETA * grad\n",
    "    \n",
    "    # re-normalize particle positions on the sphere\n",
    "    b = b / np.linalg.norm(b, axis=1, ord=2, keepdims=True)\n",
    "    \n",
    "    return a, b, grad"
   ]
  },
  {
   "cell_type": "code",
   "execution_count": 335,
   "id": "4ffb5b64",
   "metadata": {},
   "outputs": [],
   "source": [
    "def train(sigma=1.0):\n",
    "    #signs = np.sign(np.random.normal(size=(m, 1)))\n",
    "    \n",
    "    signs = np.array([[1.0], \n",
    "                      #[1.0], \n",
    "                      [1.0]])#np.ones(shape=(m, 1))\n",
    "    a = signs / m\n",
    "    #a = np.ones(shape=(m, 1))\n",
    "    #b = np.random.uniform(low=0.0, high=1.0, size=(m, INPUT_DIM))\n",
    "    \n",
    "    \n",
    "    #b = np.random.normal(size=(m, INPUT_DIM))\n",
    "    #b = b / np.linalg.norm(b, axis=1, ord=2, keepdims=True)\n",
    "    alpha = 5*np.pi / 12\n",
    "    #beta = 39*np.pi / 80\n",
    "    b = np.array([[np.cos(alpha), np.sin(alpha)], \n",
    "                  #[0., 1.0],\n",
    "                  [-np.cos(alpha), np.sin(alpha)]])\n",
    "    \n",
    "    as_ = [a]\n",
    "    bs = [b]\n",
    "    losses = [-H(a, b, sigma)[0, 0]]\n",
    "    grads = []\n",
    "    \n",
    "    mass = np.sqrt(m * np.abs(a))\n",
    "    us = [signs * mass]\n",
    "    vs = [mass * b]\n",
    "    \n",
    "    for k in range(N_STEPS):\n",
    "        a, b, grad = projected_conic_update(a, b, sigma)\n",
    "        #a = a + ETA * grad_a_H(a, b, sigma)\n",
    "        #b = b + ETA * grad_b_H(a, b, sigma)\n",
    "        loss = -H(a, b, sigma)[0, 0]\n",
    "        \n",
    "        mass = np.sqrt(m * np.abs(a))\n",
    "        \n",
    "        as_.append(a)\n",
    "        bs.append(b)\n",
    "        us.append(signs * mass)\n",
    "        vs.append(mass * b)\n",
    "        losses.append(loss)\n",
    "        grads.append(grad)\n",
    "        \n",
    "        \n",
    "    return np.array(as_), np.array(bs), np.array(us), np.array(vs), np.array(losses), np.array(grads)"
   ]
  },
  {
   "cell_type": "code",
   "execution_count": 349,
   "id": "1ca31abd",
   "metadata": {},
   "outputs": [
    {
     "name": "stderr",
     "output_type": "stream",
     "text": [
      "/usr/local/lib/python3.9/site-packages/numpy/linalg/linalg.py:2556: RuntimeWarning: overflow encountered in multiply\n",
      "  s = (x.conj() * x).real\n",
      "/var/folders/dk/nmyl016j3lj9xqhfs1wy5fgr0000gn/T/ipykernel_1728/4283684291.py:4: RuntimeWarning: overflow encountered in matmul\n",
      "  return 0.5 * np.matmul(a.T, np.matmul(K, a))\n",
      "/var/folders/dk/nmyl016j3lj9xqhfs1wy5fgr0000gn/T/ipykernel_1728/2414067133.py:7: RuntimeWarning: overflow encountered in multiply\n",
      "  a = (1 + 2 * ETA * signs * np.matmul(K, a)) * a\n",
      "/var/folders/dk/nmyl016j3lj9xqhfs1wy5fgr0000gn/T/ipykernel_1728/2414067133.py:13: RuntimeWarning: invalid value encountered in multiply\n",
      "  grad = - signs * np.sum(a * K[:, :, np.newaxis] * P_delta, axis=1) / (sigma**2)\n"
     ]
    }
   ],
   "source": [
    "m = 2\n",
    "INPUT_DIM = 2\n",
    "ETA = 0.01\n",
    "sigma = 0.2\n",
    "N_STEPS = 1000\n",
    "\n",
    "a, b, u, v, losses, grads = train(sigma=sigma)"
   ]
  },
  {
   "cell_type": "code",
   "execution_count": 350,
   "id": "6806bed2",
   "metadata": {},
   "outputs": [
    {
     "data": {
      "image/png": "[encoded data removed]",
      "text/plain": [
       "<Figure size 1000x600 with 1 Axes>"
      ]
     },
     "metadata": {},
     "output_type": "display_data"
    }
   ],
   "source": [
    "plt.figure(figsize=(10, 6))\n",
    "marker = None #'o'\n",
    "#plt.xscale('log')\n",
    "#plt.yscale('log')\n",
    "n_iter = 70\n",
    "\n",
    "plt.plot(np.arange(len(losses))[:n_iter], losses[:n_iter])\n",
    "\n",
    "plt.xlabel('Iteration $k$', fontsize=28)\n",
    "plt.ylabel('Loss $\\\\ -H(\\\\mu_m(k))$', fontsize=28)\n",
    "#plt.ticklabel_format(style='sci', axis='x', scilimits=(0,0))\n",
    "plt.xticks(fontsize=24)\n",
    "plt.yticks(fontsize=24)\n",
    "#plt.legend(fontsize=18)\n",
    "#plt.savefig(os.path.join(FIGURES_DIR, 'losses-ista-10-1.png'), bbox_inches='tight')\n",
    "plt.show()"
   ]
  },
  {
   "cell_type": "code",
   "execution_count": 351,
   "id": "3ea437bf",
   "metadata": {},
   "outputs": [
    {
     "data": {
      "image/png": "[encoded data removed]",
      "text/plain": [
       "<Figure size 1000x600 with 1 Axes>"
      ]
     },
     "metadata": {},
     "output_type": "display_data"
    }
   ],
   "source": [
    "plt.figure(figsize=(10, 6))\n",
    "marker = None #'o'\n",
    "#plt.xscale('log')\n",
    "#plt.yscale('log')\n",
    "\n",
    "plt.plot(np.arange(len(losses)), losses)\n",
    "\n",
    "plt.xlabel('Iteration $k$', fontsize=28)\n",
    "plt.ylabel('Loss $\\\\ -H(\\\\mu_m(k))$', fontsize=28)\n",
    "#plt.ticklabel_format(style='sci', axis='x', scilimits=(0,0))\n",
    "plt.xticks(fontsize=24)\n",
    "plt.yticks(fontsize=24)\n",
    "#plt.legend(fontsize=18)\n",
    "#plt.savefig(os.path.join(FIGURES_DIR, 'losses-ista-10-1.png'), bbox_inches='tight')\n",
    "plt.show()"
   ]
  },
  {
   "cell_type": "code",
   "execution_count": 352,
   "id": "315eae97",
   "metadata": {},
   "outputs": [
    {
     "data": {
      "image/png": "[encoded data removed]",
      "text/plain": [
       "<Figure size 600x600 with 1 Axes>"
      ]
     },
     "metadata": {},
     "output_type": "display_data"
    }
   ],
   "source": [
    "plt.figure(figsize=(6, 6))\n",
    "marker = None #'o'\n",
    "#plt.xscale('log')\n",
    "#plt.yscale('log')\n",
    "marker = 'o'\n",
    "\n",
    "signs = a[0, :, 0]\n",
    "pos = (signs > 0)\n",
    "neg = (signs < 0)\n",
    "b_pos = b[:, pos, :]\n",
    "b_neg = b[:, neg, :]\n",
    "k = 0\n",
    "\n",
    "plt.xlim(-1.2, 1.2)\n",
    "plt.ylim(-1.2, 1.2)\n",
    "\n",
    "plt.scatter(b_pos[k, :, 0], b_pos[k, :, 1], marker=marker, s=30.0, label='$+$')\n",
    "plt.scatter(b_neg[k, :, 0], b_neg[k, :, 1], marker=marker, s=30.0, label='$-$')\n",
    "#plt.scatter(b_neg[k, :, 0], -0.5*np.ones(len(b_neg[k, :, 0])), marker=marker, s=30.0, label='$-$')\n",
    "\n",
    "#plt.xlabel('Particle positions', fontsize=28)\n",
    "#plt.ylabel('Pos / Neg', fontsize=28)\n",
    "#plt.ticklabel_format(style='sci', axis='x', scilimits=(0,0))\n",
    "plt.xticks([])\n",
    "plt.yticks([])\n",
    "#plt.yticks(fontsize=24)\n",
    "plt.legend(fontsize=18)\n",
    "#plt.savefig(os.path.join(FIGURES_DIR, 'losses-ista-10-1.png'), bbox_inches='tight')\n",
    "plt.show()"
   ]
  },
  {
   "cell_type": "code",
   "execution_count": 358,
   "id": "bcefedc9",
   "metadata": {},
   "outputs": [
    {
     "name": "stdout",
     "output_type": "stream",
     "text": [
      "(2, 2)\n",
      "(2, 1)\n",
      "(2, 2)\n"
     ]
    }
   ],
   "source": [
    "u = b[0, :, :]\n",
    "c = a[0, :, :]\n",
    "grad = grads[0, :, :]\n",
    "eps = np.sign(c)\n",
    "deltas = u.reshape(m, 1, INPUT_DIM) - u\n",
    "outer = np.matmul(c, c.T).reshape(m, m, 1)\n",
    "K = np.exp(-np.sum(deltas**2, axis=-1) / (2 * sigma**2))\n",
    "print(u.shape)\n",
    "print(c.shape)\n",
    "print(grad.shape)"
   ]
  },
  {
   "cell_type": "code",
   "execution_count": 360,
   "id": "c6bb906d",
   "metadata": {},
   "outputs": [
    {
     "name": "stdout",
     "output_type": "stream",
     "text": [
      "-0.21413388842383702\n",
      "-0.21194008255004979\n",
      "0.057377002475303245\n",
      "0.056789173963071864\n",
      "0.21413388842383702\n",
      "0.21194008255004979\n",
      "0.057377002475303245\n",
      "0.056789173963071864\n"
     ]
    }
   ],
   "source": [
    "for i in range(m):\n",
    "    for k in range(INPUT_DIM):\n",
    "        print(grad[i, k])\n",
    "        print((eps[i, 0] / (sigma**2)) * (np.sum([c[j, 0] * K[i, j] * u[j, k] for j in range(m)]) - \n",
    "                                   np.sum([c[j, 0] * K[i, j] * np.inner(u[i, :], u[j, :]) * u[i, k] \n",
    "                                           for j in range(m)])))"
   ]
  },
  {
   "cell_type": "code",
   "execution_count": 321,
   "id": "4bc94c31",
   "metadata": {},
   "outputs": [
    {
     "data": {
      "text/plain": [
       "array([[-2.94792554e-17,  3.67847341e-01],\n",
       "       [ 3.67847341e-01, -2.94792554e-17]])"
      ]
     },
     "execution_count": 321,
     "metadata": {},
     "output_type": "execute_result"
    }
   ],
   "source": [
    "np.matmul(u, grad.T)"
   ]
  },
  {
   "cell_type": "code",
   "execution_count": 322,
   "id": "ab7ca11f",
   "metadata": {},
   "outputs": [
    {
     "data": {
      "text/plain": [
       "array([-2.77555756e-17, -2.77555756e-17])"
      ]
     },
     "execution_count": 322,
     "metadata": {},
     "output_type": "execute_result"
    }
   ],
   "source": [
    "np.sum(u * grad, axis=1)"
   ]
  },
  {
   "cell_type": "code",
   "execution_count": null,
   "id": "c4470322",
   "metadata": {},
   "outputs": [],
   "source": []
  },
  {
   "cell_type": "code",
   "execution_count": 345,
   "id": "e3bb6588",
   "metadata": {},
   "outputs": [
    {
     "data": {
      "text/plain": [
       "array([[-9.26466221e-07,  2.48245876e-07],\n",
       "       [ 9.26466221e-07,  2.48245876e-07]])"
      ]
     },
     "execution_count": 345,
     "metadata": {},
     "output_type": "execute_result"
    }
   ],
   "source": [
    "grad"
   ]
  },
  {
   "cell_type": "code",
   "execution_count": null,
   "id": "71ea664a",
   "metadata": {},
   "outputs": [],
   "source": []
  },
  {
   "cell_type": "code",
   "execution_count": 356,
   "id": "94f49807",
   "metadata": {},
   "outputs": [
    {
     "data": {
      "image/png": "[encoded data removed]",
      "text/plain": [
       "<Figure size 600x600 with 1 Axes>"
      ]
     },
     "metadata": {},
     "output_type": "display_data"
    }
   ],
   "source": [
    "plt.figure(figsize=(6, 6))\n",
    "marker = None #'o'\n",
    "#plt.xscale('log')\n",
    "#plt.yscale('log')\n",
    "marker = 'o'\n",
    "\n",
    "signs = a[0, :, 0]\n",
    "pos = (signs > 0)\n",
    "neg = (signs < 0)\n",
    "b_pos = b[:, pos, :]\n",
    "b_neg = b[:, neg, :]\n",
    "k = 0\n",
    "scale = 2.0\n",
    "\n",
    "plt.xlim(-5.0, 5.0)\n",
    "plt.ylim(-5.0, 5.0)\n",
    "\n",
    "grad = scale * grads[k]\n",
    "\n",
    "\n",
    "plt.scatter(b_pos[k, :, 0], b_pos[k, :, 1], marker=marker, s=30.0, label='$+$')\n",
    "plt.scatter(b_neg[k, :, 0], b_neg[k, :, 1], marker=marker, s=30.0, label='$-$')\n",
    "plt.arrow(b_pos[k, 0, 0], b_pos[k, 0, 1], grad[0, 0], grad[0, 1], color='brown', head_width=0.1)\n",
    "\n",
    "ax = plt.gca()\n",
    "#ax.annotate(\"\", xy=(b_pos[k, 0, 0], b_pos[k, 0, 1]), xytext=(grad[0, 0], grad[0, 1]),\n",
    "#            arrowprops=dict(arrowstyle=\"<-\"))\n",
    "#plt.arrow(b_pos[k, 1, 0], b_pos[k, 1, 1], grad[1, 0], grad[1, 1], color='brown')\n",
    "#plt.scatter(b_neg[k, :, 0], -0.5*np.ones(len(b_neg[k, :, 0])), marker=marker, s=30.0, label='$-$')\n",
    "\n",
    "circle = plt.Circle((0, 0), 1.0, color='red', fill=False)\n",
    "\n",
    "ax.add_patch(circle)\n",
    "\n",
    "#plt.xlabel('Particle positions', fontsize=28)\n",
    "#plt.ylabel('Pos / Neg', fontsize=28)\n",
    "#plt.ticklabel_format(style='sci', axis='x', scilimits=(0,0))\n",
    "plt.xticks([])\n",
    "plt.yticks([])\n",
    "#plt.yticks(fontsize=24)\n",
    "plt.legend(fontsize=18)\n",
    "#plt.savefig(os.path.join(FIGURES_DIR, 'losses-ista-10-1.png'), bbox_inches='tight')\n",
    "plt.show()"
   ]
  },
  {
   "cell_type": "code",
   "execution_count": 299,
   "id": "a4eaa0a7",
   "metadata": {},
   "outputs": [
    {
     "name": "stdout",
     "output_type": "stream",
     "text": [
      "2\n",
      "0\n"
     ]
    }
   ],
   "source": [
    "print(np.sum(pos))\n",
    "print(np.sum(neg))"
   ]
  },
  {
   "cell_type": "code",
   "execution_count": 300,
   "id": "5f68bcd5",
   "metadata": {},
   "outputs": [
    {
     "data": {
      "text/plain": [
       "array([0.34210498, 0.34210498])"
      ]
     },
     "execution_count": 300,
     "metadata": {},
     "output_type": "execute_result"
    }
   ],
   "source": [
    "np.sqrt(np.sum((b[70, :, :] - b[0, :, :])**2, axis=1))"
   ]
  },
  {
   "cell_type": "code",
   "execution_count": 357,
   "id": "0d3387ca",
   "metadata": {},
   "outputs": [
    {
     "data": {
      "image/png": "[encoded data removed]",
      "text/plain": [
       "<Figure size 600x600 with 1 Axes>"
      ]
     },
     "metadata": {},
     "output_type": "display_data"
    }
   ],
   "source": [
    "plt.figure(figsize=(6, 6))\n",
    "#marker = None #'o'\n",
    "#plt.xscale('log')\n",
    "#plt.yscale('log')\n",
    "marker = 'o'\n",
    "\n",
    "signs = a[0, :, 0]\n",
    "pos = (signs > 0)\n",
    "neg = (signs < 0)\n",
    "b_pos = b[:, pos, :]\n",
    "b_neg = b[:, neg, :]\n",
    "k = 60\n",
    "\n",
    "plt.xlim(-1.2, 1.2)\n",
    "plt.ylim(-1.2, 1.2)\n",
    "\n",
    "plt.scatter(b_pos[k, :, 0], b_pos[k, :, 1], marker=marker, s=30.0, label='$+$')\n",
    "plt.scatter(b_neg[k, :, 0], b_neg[k, :, 1], marker=marker, s=30.0, label='$-$')\n",
    "#plt.scatter(b_neg[k, :, 0], -0.5*np.ones(len(b_neg[k, :, 0])), marker=marker, s=30.0, label='$-$')\n",
    "\n",
    "#plt.xlabel('Particle positions', fontsize=28)\n",
    "#plt.ylabel('Pos / Neg', fontsize=28)\n",
    "#plt.ticklabel_format(style='sci', axis='x', scilimits=(0,0))\n",
    "plt.xticks([])\n",
    "plt.yticks([])\n",
    "#plt.yticks(fontsize=24)\n",
    "plt.legend(fontsize=18)\n",
    "#plt.savefig(os.path.join(FIGURES_DIR, 'losses-ista-10-1.png'), bbox_inches='tight')\n",
    "plt.show()"
   ]
  },
  {
   "cell_type": "code",
   "execution_count": null,
   "id": "c4e5e0e9",
   "metadata": {},
   "outputs": [],
   "source": [
    "## marker = 'o'\n",
    "signs = a[0, :, 0]\n",
    "pos = (signs > 0)\n",
    "neg = (signs < 0)\n",
    "b_pos = b[:, pos, :]\n",
    "b_neg = b[:, neg, :]\n",
    "\n",
    "marker = 'o'\n",
    "for k in range(len(b)):\n",
    "    plt.figure(figsize=(6, 6))\n",
    "    plt.xlim(-1.2, 1.2)\n",
    "    plt.ylim(-1.2, 1.2)\n",
    "\n",
    "    plt.scatter(b_pos[k, :, 0], b_pos[k, :, 1], marker=marker, s=30.0, label='$+$')\n",
    "    plt.scatter(b_neg[k, :, 0], b_neg[k, :, 1], marker=marker, s=30.0, label='$-$')\n",
    "\n",
    "    plt.xticks([])\n",
    "    plt.yticks([])\n",
    "    plt.legend(fontsize=18)\n",
    "\n",
    "    plt.savefig(os.path.join(FIGURES_DIR, 'attraction-repulsion_{}.png'.format(k)), bbox_inches='tight')\n",
    "    plt.close()"
   ]
  },
  {
   "cell_type": "code",
   "execution_count": 267,
   "id": "1f60672c",
   "metadata": {},
   "outputs": [],
   "source": [
    "def f(s, sigma=0.08):\n",
    "    return np.exp(s/(sigma**2)) * (1 - s**2)"
   ]
  },
  {
   "cell_type": "code",
   "execution_count": 275,
   "id": "3b91cf37",
   "metadata": {},
   "outputs": [
    {
     "data": {
      "image/png": "[encoded data removed]",
      "text/plain": [
       "<Figure size 1000x600 with 1 Axes>"
      ]
     },
     "metadata": {},
     "output_type": "display_data"
    }
   ],
   "source": [
    "plt.figure(figsize=(10, 6))\n",
    "\n",
    "xs = np.linspace(start=0., stop=1.0, num=50, endpoint=True)\n",
    "#sigmas = [0.001, 0.005, 0.01, 0.05, 0.08, 1.0]\n",
    "sigmas = [0.5, 0.8, 1.0]\n",
    "for sigma in sigmas:\n",
    "    ys = f(xs, sigma)\n",
    "    plt.plot(xs, ys, label='$\\\\sigma={}$'.format(sigma))\n",
    "\n",
    "plt.legend()\n",
    "plt.show()"
   ]
  },
  {
   "cell_type": "code",
   "execution_count": null,
   "id": "87eef382",
   "metadata": {},
   "outputs": [],
   "source": []
  },
  {
   "cell_type": "code",
   "execution_count": null,
   "id": "b9465d53",
   "metadata": {},
   "outputs": [],
   "source": []
  }
 ],
 "metadata": {
  "kernelspec": {
   "display_name": "Python 3 (ipykernel)",
   "language": "python",
   "name": "python3"
  },
  "language_info": {
   "codemirror_mode": {
    "name": "ipython",
    "version": 3
   },
   "file_extension": ".py",
   "mimetype": "text/x-python",
   "name": "python",
   "nbconvert_exporter": "python",
   "pygments_lexer": "ipython3",
   "version": "3.9.7"
  }
 },
 "nbformat": 4,
 "nbformat_minor": 5
}
