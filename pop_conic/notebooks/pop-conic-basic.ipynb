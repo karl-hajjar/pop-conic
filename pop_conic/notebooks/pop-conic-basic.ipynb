{
 "cells": [
  {
   "cell_type": "code",
   "execution_count": 1,
   "id": "dc61dabf",
   "metadata": {},
   "outputs": [],
   "source": [
    "%matplotlib inline\n",
    "%load_ext autoreload\n",
    "%autoreload 2"
   ]
  },
  {
   "cell_type": "code",
   "execution_count": 2,
   "id": "c38725de",
   "metadata": {},
   "outputs": [],
   "source": [
    "import os\n",
    "import matplotlib.pyplot as plt\n",
    "import seaborn as sns\n",
    "sns.set_style('darkgrid')\n",
    "\n",
    "import numpy\n",
    "from time import time\n",
    "from tqdm import tqdm"
   ]
  },
  {
   "cell_type": "code",
   "execution_count": 3,
   "id": "e93c8b3b",
   "metadata": {},
   "outputs": [],
   "source": [
    "cwd = os.getcwd()\n",
    "NOTEBOOK_DIR = os.path.dirname(cwd+'/')\n",
    "ROOT = os.path.dirname(NOTEBOOK_DIR)\n",
    "\n",
    "import sys\n",
    "sys.path.append(ROOT)"
   ]
  },
  {
   "cell_type": "code",
   "execution_count": 4,
   "id": "8f0251e9",
   "metadata": {},
   "outputs": [
    {
     "name": "stderr",
     "output_type": "stream",
     "text": [
      "/usr/local/lib/python3.9/site-packages/tqdm/auto.py:22: TqdmWarning: IProgress not found. Please update jupyter and ipywidgets. See https://ipywidgets.readthedocs.io/en/stable/user_install.html\n",
      "  from .autonotebook import tqdm as notebook_tqdm\n"
     ]
    }
   ],
   "source": [
    "from utils.tools import *"
   ]
  },
  {
   "cell_type": "markdown",
   "id": "fa9e0d9c",
   "metadata": {},
   "source": [
    "# Constants"
   ]
  },
  {
   "cell_type": "code",
   "execution_count": 5,
   "id": "f0839a11",
   "metadata": {},
   "outputs": [],
   "source": [
    "INPUT_DIM = 50\n",
    "BIAS = False\n",
    "\n",
    "SEED = 42\n",
    "N_TRAIN = 256\n",
    "BATCH_SIZE = 64\n",
    "ALPHA = 1e-1\n",
    "BASE_LR = 1.0e-2\n",
    "N_STEPS = int(1e4)\n",
    "N_VAL = 100\n",
    "VAL_ITER = 100"
   ]
  },
  {
   "cell_type": "code",
   "execution_count": 6,
   "id": "8de4bcd7",
   "metadata": {},
   "outputs": [],
   "source": [
    "FIGURES_DIR = os.path.join(ROOT, 'figures/training/')\n",
    "create_dir(FIGURES_DIR)"
   ]
  },
  {
   "cell_type": "code",
   "execution_count": 7,
   "id": "d50d3a83",
   "metadata": {},
   "outputs": [],
   "source": [
    "set_random_seeds(SEED)"
   ]
  },
  {
   "cell_type": "markdown",
   "id": "a4e20311",
   "metadata": {},
   "source": [
    "# Data"
   ]
  },
  {
   "cell_type": "code",
   "execution_count": 8,
   "id": "b9418113",
   "metadata": {},
   "outputs": [],
   "source": [
    "def forward(a, b, x):\n",
    "    return np.matmul(np.maximum(np.matmul(x, b.T), 0), a.T)  / a.shape[1] "
   ]
  },
  {
   "cell_type": "code",
   "execution_count": 9,
   "id": "cfdf802c",
   "metadata": {},
   "outputs": [],
   "source": [
    "# Teacher Network\n",
    "m = 50 # number of teacher neurons\n",
    "eps = 3e-1\n",
    "\n",
    "a_star = 5 * np.sign(np.random.uniform(size=(1, m)) - 0.5) / m\n",
    "b_star = 2 * np.random.uniform(size=(m, INPUT_DIM)) - 1 - eps * np.random.normal(size=(m, INPUT_DIM))**2"
   ]
  },
  {
   "cell_type": "code",
   "execution_count": 10,
   "id": "b4d2a08b",
   "metadata": {},
   "outputs": [],
   "source": [
    "# Data\n",
    "x_train = np.random.normal(size=(N_TRAIN, INPUT_DIM))\n",
    "y_train = forward(a_star, b_star, x_train)\n",
    "\n",
    "x_val = np.random.normal(size=(N_VAL, INPUT_DIM))\n",
    "y_val = forward(a_star, b_star, x_val)"
   ]
  },
  {
   "cell_type": "markdown",
   "id": "90753b18",
   "metadata": {},
   "source": [
    "# Algorithm iterations"
   ]
  },
  {
   "cell_type": "code",
   "execution_count": 11,
   "id": "f24cc236",
   "metadata": {},
   "outputs": [],
   "source": [
    "def relu_prime(z):\n",
    "    return (np.sign(z) + 1) / 2"
   ]
  },
  {
   "cell_type": "code",
   "execution_count": 12,
   "id": "9af663e2",
   "metadata": {},
   "outputs": [],
   "source": [
    "def sample_neurons(n_samples=1):\n",
    "    return np.random.normal(size=(n_samples, INPUT_DIM))"
   ]
  },
  {
   "cell_type": "code",
   "execution_count": 13,
   "id": "b6da29af",
   "metadata": {},
   "outputs": [],
   "source": [
    "def forward_states(a, b, x):\n",
    "    h_1 = np.matmul(x, b.T)\n",
    "    x_1 = np.maximum(h_1, 0)\n",
    "    y_hat = np.matmul(x_1, a.T) / a.shape[1]\n",
    "    \n",
    "    return h_1, x_1, y_hat"
   ]
  },
  {
   "cell_type": "code",
   "execution_count": 14,
   "id": "f418b922",
   "metadata": {},
   "outputs": [],
   "source": [
    "def initialize_neurons(x, y, n_neurons=1):\n",
    "    # empty arrays and null prediction function\n",
    "    a = np.array([[]])\n",
    "    b = np.array([[]])\n",
    "    y_hat = 0\n",
    "    \n",
    "    b_hat = sample_neurons(n_samples=n_neurons)\n",
    "    x_1 = np.maximum(np.matmul(x, b_hat.T), 0)\n",
    "    a_hat = ALPHA * np.mean((y - y_hat) * x_1, axis=0)\n",
    "    \n",
    "    a = np.append(a, a_hat).reshape(1, n_neurons)\n",
    "    b = np.append(b, b_hat).reshape(n_neurons, -1)\n",
    "    \n",
    "    return a, b "
   ]
  },
  {
   "cell_type": "code",
   "execution_count": 15,
   "id": "f1c3011c",
   "metadata": {},
   "outputs": [],
   "source": [
    "def update(a, b, x, y, n_updates=1, compute_loss=True):\n",
    "    for _ in range(n_updates):\n",
    "        h_1, x_1, y_hat = forward_states(a, b, x)\n",
    "        delta = y_hat - y\n",
    "        dh_1 = relu_prime(h_1)\n",
    "        dh = np.matmul(relu_prime(h_1), np.diag(a.reshape(-1))).T\n",
    "        b = b - BASE_LR * np.matmul(dh, \n",
    "                                    delta * x_train) / N_TRAIN\n",
    "        a = a - BASE_LR * np.mean(delta * x_1, axis=0)\n",
    "        \n",
    "        if compute_loss:\n",
    "            loss = 0.5 * np.mean(delta**2)\n",
    "        else:\n",
    "            loss = -1.0\n",
    "        \n",
    "    return a, b, loss"
   ]
  },
  {
   "cell_type": "code",
   "execution_count": 16,
   "id": "fe94ce4e",
   "metadata": {},
   "outputs": [],
   "source": [
    "def initialize_net(x, y, n_neurons=1):\n",
    "    # initialize neurons  y sampling and setting weights accordingly\n",
    "    a, b = initialize_neurons(x, y, n_neurons=n_neurons)\n",
    "    print(a)\n",
    "    print(b)\n",
    "    \n",
    "    # return as initialization for the network the first update for the sampled neurons / weights\n",
    "    return update(a, b, x, y)"
   ]
  },
  {
   "cell_type": "code",
   "execution_count": 17,
   "id": "68050e6b",
   "metadata": {},
   "outputs": [],
   "source": [
    "def train(n_steps, a, b, x_train, y_train, x_val, y_val, do_val=True, n_samples=1, n_updates=1):\n",
    "    train_losses = []\n",
    "    val_losses = []\n",
    "    \n",
    "    for i in tqdm(range(n_steps)):\n",
    "        # sample neurons and set weights\n",
    "        if n_samples > 0:\n",
    "            b_hat = sample_neurons(n_samples=n_samples)\n",
    "            x_1 = np.maximum(np.matmul(x_train, b_hat.T), 0)\n",
    "            a_hat = ALPHA * np.mean((y_train - y_hat).reshape(-1, 1) * x_1, axis=0)\n",
    "\n",
    "            # add newly sampled neurons / weights to the list\n",
    "            a = np.append(a, a_hat)\n",
    "            b = np.append(b, b_hat).reshape(n_neurons, -1)\n",
    "        \n",
    "        # update neurons / weights\n",
    "        a, b, train_loss = update(a, b, x_train, y_train, n_updates=n_updates)\n",
    "        train_losses.append(train_loss)\n",
    "        \n",
    "        # validation loop if do_val is True\n",
    "        if do_val:\n",
    "            if i % VAL_ITER == 0:\n",
    "                y_hat = forward(a, b, x_val)\n",
    "                val_loss = 0.5 * np.mean((y_hat - y_val) ** 2)\n",
    "                val_losses.append(val_loss)\n",
    "                print('Train loss at step {:,} : {:.5f}'.format(i, train_loss))\n",
    "                print('Validation loss at step {:,} : {:.5f}'.format(i, val_loss))\n",
    "                \n",
    "    return a, b, np.array(train_losses), np.array(val_losses)"
   ]
  },
  {
   "cell_type": "code",
   "execution_count": 18,
   "id": "5bcb6f24",
   "metadata": {},
   "outputs": [
    {
     "name": "stdout",
     "output_type": "stream",
     "text": [
      "[[-0.01045231 -0.0060528  -0.00587544 -0.01030278 -0.00757589 -0.00338248\n",
      "  -0.00460693 -0.00684729 -0.0062076  -0.0065604  -0.00555076 -0.00528056\n",
      "  -0.00678202 -0.00696505 -0.00549794 -0.00563308 -0.00795218 -0.00591186\n",
      "  -0.00827073 -0.00213012 -0.00579403 -0.00624625 -0.00171739 -0.0023881\n",
      "  -0.00653625 -0.00824928 -0.00687752 -0.00402935 -0.00758971 -0.00577879\n",
      "  -0.00518    -0.00881908 -0.00548397 -0.00397959 -0.00300308 -0.0083578\n",
      "  -0.00505637 -0.00557573 -0.00908788 -0.00845874 -0.00479064 -0.00551754\n",
      "  -0.00310577 -0.00609059 -0.00642652 -0.00449688 -0.0097256  -0.00958711\n",
      "  -0.00768792 -0.00247384 -0.01000793 -0.00471574 -0.00321967 -0.00426684\n",
      "  -0.00455058 -0.00523933 -0.00555921 -0.00566596 -0.00698063 -0.007047\n",
      "  -0.0064502  -0.00627772 -0.00564793 -0.00446238 -0.00705463 -0.00413091\n",
      "  -0.00701399 -0.00747752 -0.00684138 -0.01033706 -0.00608297 -0.00542079\n",
      "  -0.00306467 -0.00638831 -0.00313089 -0.0067449  -0.0113867  -0.00622989\n",
      "  -0.00485801 -0.00251099 -0.00405468 -0.00595261 -0.00429585 -0.00667997\n",
      "  -0.004472   -0.00644775 -0.00349213 -0.00959806 -0.0034741  -0.00405885\n",
      "  -0.00605313 -0.00464227 -0.00297216 -0.00836591 -0.00343137 -0.0060462\n",
      "  -0.00624691 -0.00454255 -0.00640516 -0.00473122]]\n",
      "[[ 0.91388974  0.95649648 -1.56585638 ...  0.47404196 -1.42885661\n",
      "   0.15769422]\n",
      " [-0.45012347  0.50729999 -0.74018192 ... -2.11556141  1.27917578\n",
      "   0.73489694]\n",
      " [ 0.86939718 -1.74378365  1.51245573 ... -0.79370458 -0.48328339\n",
      "   1.43200967]\n",
      " ...\n",
      " [-0.54182306 -0.34093918  0.73953129 ... -0.25164051  1.10938398\n",
      "  -1.07115608]\n",
      " [-0.81998106 -1.93379328  0.7743537  ...  0.77288818 -1.48026746\n",
      "  -0.00553636]\n",
      " [ 0.8693291  -1.85478645 -0.06439244 ...  0.39218431  0.76082921\n",
      "   1.28160544]]\n"
     ]
    }
   ],
   "source": [
    "# FULL LOOP (standard training with sampling only in the begining)\n",
    "n_neurons = 100\n",
    "\n",
    "#a = 0.1 * np.sign(np.random.uniform(size=(1, n_neurons)) - 0.5)\n",
    "#b = np.random.normal(size=(n_neurons, INPUT_DIM))\n",
    "n_neurons = 100\n",
    "n_updates = 1\n",
    "\n",
    "a, b, _ = initialize_net(x_train, y_train, n_neurons=n_neurons)"
   ]
  },
  {
   "cell_type": "code",
   "execution_count": 19,
   "id": "fa3a40b4",
   "metadata": {},
   "outputs": [
    {
     "name": "stderr",
     "output_type": "stream",
     "text": [
      "  0%|                                       | 22/10000 [00:00<00:45, 218.90it/s]"
     ]
    },
    {
     "name": "stdout",
     "output_type": "stream",
     "text": [
      "Train loss at step 0 : 0.00082\n",
      "Validation loss at step 0 : 0.00067\n"
     ]
    },
    {
     "name": "stderr",
     "output_type": "stream",
     "text": [
      "  3%|█                                     | 273/10000 [00:00<00:12, 793.30it/s]"
     ]
    },
    {
     "name": "stdout",
     "output_type": "stream",
     "text": [
      "Train loss at step 100 : 0.00060\n",
      "Validation loss at step 100 : 0.00052\n",
      "Train loss at step 200 : 0.00050\n",
      "Validation loss at step 200 : 0.00047\n",
      "Train loss at step 300 : 0.00043\n",
      "Validation loss at step 300 : 0.00045\n"
     ]
    },
    {
     "name": "stderr",
     "output_type": "stream",
     "text": [
      "  5%|█▉                                    | 510/10000 [00:00<00:12, 773.38it/s]"
     ]
    },
    {
     "name": "stdout",
     "output_type": "stream",
     "text": [
      "Train loss at step 400 : 0.00039\n",
      "Validation loss at step 400 : 0.00045\n",
      "Train loss at step 500 : 0.00036\n",
      "Validation loss at step 500 : 0.00045\n"
     ]
    },
    {
     "name": "stderr",
     "output_type": "stream",
     "text": [
      "  7%|██▊                                   | 738/10000 [00:01<00:13, 700.17it/s]"
     ]
    },
    {
     "name": "stdout",
     "output_type": "stream",
     "text": [
      "Train loss at step 600 : 0.00034\n",
      "Validation loss at step 600 : 0.00046\n",
      "Train loss at step 700 : 0.00032\n",
      "Validation loss at step 700 : 0.00046\n"
     ]
    },
    {
     "name": "stderr",
     "output_type": "stream",
     "text": [
      "  9%|███▎                                  | 873/10000 [00:01<00:14, 618.56it/s]"
     ]
    },
    {
     "name": "stdout",
     "output_type": "stream",
     "text": [
      "Train loss at step 800 : 0.00031\n",
      "Validation loss at step 800 : 0.00047\n",
      "Train loss at step 900 : 0.00030\n",
      "Validation loss at step 900 : 0.00048\n"
     ]
    },
    {
     "name": "stderr",
     "output_type": "stream",
     "text": [
      " 11%|████                                 | 1084/10000 [00:01<00:13, 673.47it/s]"
     ]
    },
    {
     "name": "stdout",
     "output_type": "stream",
     "text": [
      "Train loss at step 1,000 : 0.00029\n",
      "Validation loss at step 1,000 : 0.00048\n",
      "Train loss at step 1,100 : 0.00028\n",
      "Validation loss at step 1,100 : 0.00049\n"
     ]
    },
    {
     "name": "stderr",
     "output_type": "stream",
     "text": [
      " 13%|████▊                                | 1295/10000 [00:01<00:14, 590.80it/s]"
     ]
    },
    {
     "name": "stdout",
     "output_type": "stream",
     "text": [
      "Train loss at step 1,200 : 0.00027\n",
      "Validation loss at step 1,200 : 0.00049\n",
      "Train loss at step 1,300 : 0.00027\n",
      "Validation loss at step 1,300 : 0.00050\n"
     ]
    },
    {
     "name": "stderr",
     "output_type": "stream",
     "text": [
      " 15%|█████▋                               | 1536/10000 [00:02<00:11, 744.29it/s]"
     ]
    },
    {
     "name": "stdout",
     "output_type": "stream",
     "text": [
      "Train loss at step 1,400 : 0.00026\n",
      "Validation loss at step 1,400 : 0.00050\n",
      "Train loss at step 1,500 : 0.00026\n",
      "Validation loss at step 1,500 : 0.00051\n"
     ]
    },
    {
     "name": "stderr",
     "output_type": "stream",
     "text": [
      " 17%|██████▏                              | 1688/10000 [00:02<00:12, 670.16it/s]"
     ]
    },
    {
     "name": "stdout",
     "output_type": "stream",
     "text": [
      "Train loss at step 1,600 : 0.00025\n",
      "Validation loss at step 1,600 : 0.00051\n",
      "Train loss at step 1,700 : 0.00025\n",
      "Validation loss at step 1,700 : 0.00051\n"
     ]
    },
    {
     "name": "stderr",
     "output_type": "stream",
     "text": [
      " 19%|███████▏                             | 1944/10000 [00:02<00:10, 801.72it/s]"
     ]
    },
    {
     "name": "stdout",
     "output_type": "stream",
     "text": [
      "Train loss at step 1,800 : 0.00024\n",
      "Validation loss at step 1,800 : 0.00052\n",
      "Train loss at step 1,900 : 0.00024\n",
      "Validation loss at step 1,900 : 0.00052\n"
     ]
    },
    {
     "name": "stderr",
     "output_type": "stream",
     "text": [
      " 21%|███████▊                             | 2108/10000 [00:03<00:10, 763.67it/s]"
     ]
    },
    {
     "name": "stdout",
     "output_type": "stream",
     "text": [
      "Train loss at step 2,000 : 0.00024\n",
      "Validation loss at step 2,000 : 0.00052\n",
      "Train loss at step 2,100 : 0.00023\n",
      "Validation loss at step 2,100 : 0.00053\n"
     ]
    },
    {
     "name": "stderr",
     "output_type": "stream",
     "text": [
      " 23%|████████▎                            | 2257/10000 [00:03<00:12, 639.85it/s]"
     ]
    },
    {
     "name": "stdout",
     "output_type": "stream",
     "text": [
      "Train loss at step 2,200 : 0.00023\n",
      "Validation loss at step 2,200 : 0.00053\n",
      "Train loss at step 2,300 : 0.00023\n",
      "Validation loss at step 2,300 : 0.00053\n"
     ]
    },
    {
     "name": "stderr",
     "output_type": "stream",
     "text": [
      " 25%|█████████▎                           | 2522/10000 [00:03<00:11, 636.85it/s]"
     ]
    },
    {
     "name": "stdout",
     "output_type": "stream",
     "text": [
      "Train loss at step 2,400 : 0.00023\n",
      "Validation loss at step 2,400 : 0.00053\n",
      "Train loss at step 2,500 : 0.00022\n",
      "Validation loss at step 2,500 : 0.00054\n"
     ]
    },
    {
     "name": "stderr",
     "output_type": "stream",
     "text": [
      " 27%|█████████▉                           | 2682/10000 [00:03<00:10, 714.05it/s]"
     ]
    },
    {
     "name": "stdout",
     "output_type": "stream",
     "text": [
      "Train loss at step 2,600 : 0.00022\n",
      "Validation loss at step 2,600 : 0.00054\n",
      "Train loss at step 2,700 : 0.00022\n",
      "Validation loss at step 2,700 : 0.00054\n"
     ]
    },
    {
     "name": "stderr",
     "output_type": "stream",
     "text": [
      " 29%|██████████▊                          | 2927/10000 [00:04<00:09, 771.74it/s]"
     ]
    },
    {
     "name": "stdout",
     "output_type": "stream",
     "text": [
      "Train loss at step 2,800 : 0.00022\n",
      "Validation loss at step 2,800 : 0.00054\n",
      "Train loss at step 2,900 : 0.00022\n",
      "Validation loss at step 2,900 : 0.00055\n"
     ]
    },
    {
     "name": "stderr",
     "output_type": "stream",
     "text": [
      " 31%|███████████▍                         | 3102/10000 [00:04<00:08, 827.09it/s]"
     ]
    },
    {
     "name": "stdout",
     "output_type": "stream",
     "text": [
      "Train loss at step 3,000 : 0.00022\n",
      "Validation loss at step 3,000 : 0.00055\n",
      "Train loss at step 3,100 : 0.00021\n",
      "Validation loss at step 3,100 : 0.00055\n"
     ]
    },
    {
     "name": "stderr",
     "output_type": "stream",
     "text": [
      " 34%|████████████▍                        | 3366/10000 [00:04<00:08, 814.99it/s]"
     ]
    },
    {
     "name": "stdout",
     "output_type": "stream",
     "text": [
      "Train loss at step 3,200 : 0.00021\n",
      "Validation loss at step 3,200 : 0.00055\n",
      "Train loss at step 3,300 : 0.00021\n",
      "Validation loss at step 3,300 : 0.00055\n"
     ]
    },
    {
     "name": "stderr",
     "output_type": "stream",
     "text": [
      " 36%|█████████████▏                       | 3553/10000 [00:04<00:07, 871.06it/s]"
     ]
    },
    {
     "name": "stdout",
     "output_type": "stream",
     "text": [
      "Train loss at step 3,400 : 0.00021\n",
      "Validation loss at step 3,400 : 0.00056\n",
      "Train loss at step 3,500 : 0.00021\n",
      "Validation loss at step 3,500 : 0.00056\n"
     ]
    },
    {
     "name": "stderr",
     "output_type": "stream",
     "text": [
      " 37%|█████████████▊                       | 3740/10000 [00:05<00:07, 848.73it/s]"
     ]
    },
    {
     "name": "stdout",
     "output_type": "stream",
     "text": [
      "Train loss at step 3,600 : 0.00021\n",
      "Validation loss at step 3,600 : 0.00056\n",
      "Train loss at step 3,700 : 0.00021\n",
      "Validation loss at step 3,700 : 0.00056\n"
     ]
    },
    {
     "name": "stderr",
     "output_type": "stream",
     "text": [
      " 39%|██████████████▌                      | 3936/10000 [00:05<00:06, 913.76it/s]"
     ]
    },
    {
     "name": "stdout",
     "output_type": "stream",
     "text": [
      "Train loss at step 3,800 : 0.00020\n",
      "Validation loss at step 3,800 : 0.00056\n",
      "Train loss at step 3,900 : 0.00020\n",
      "Validation loss at step 3,900 : 0.00057\n"
     ]
    },
    {
     "name": "stderr",
     "output_type": "stream",
     "text": [
      " 41%|███████████████▏                     | 4120/10000 [00:05<00:06, 875.99it/s]"
     ]
    },
    {
     "name": "stdout",
     "output_type": "stream",
     "text": [
      "Train loss at step 4,000 : 0.00020\n",
      "Validation loss at step 4,000 : 0.00057\n",
      "Train loss at step 4,100 : 0.00020\n",
      "Validation loss at step 4,100 : 0.00057\n"
     ]
    },
    {
     "name": "stderr",
     "output_type": "stream",
     "text": [
      " 43%|███████████████▉                     | 4311/10000 [00:05<00:06, 882.00it/s]"
     ]
    },
    {
     "name": "stdout",
     "output_type": "stream",
     "text": [
      "Train loss at step 4,200 : 0.00020\n",
      "Validation loss at step 4,200 : 0.00057\n",
      "Train loss at step 4,300 : 0.00020\n",
      "Validation loss at step 4,300 : 0.00057\n",
      "Train loss at step 4,400 : 0.00020\n",
      "Validation loss at step 4,400 : 0.00057\n"
     ]
    },
    {
     "name": "stderr",
     "output_type": "stream",
     "text": [
      " 46%|█████████████████                    | 4605/10000 [00:06<00:05, 947.51it/s]"
     ]
    },
    {
     "name": "stdout",
     "output_type": "stream",
     "text": [
      "Train loss at step 4,500 : 0.00020\n",
      "Validation loss at step 4,500 : 0.00057\n",
      "Train loss at step 4,600 : 0.00020\n",
      "Validation loss at step 4,600 : 0.00058\n"
     ]
    },
    {
     "name": "stderr",
     "output_type": "stream",
     "text": [
      " 48%|█████████████████▊                   | 4801/10000 [00:06<00:05, 959.94it/s]"
     ]
    },
    {
     "name": "stdout",
     "output_type": "stream",
     "text": [
      "Train loss at step 4,700 : 0.00020\n",
      "Validation loss at step 4,700 : 0.00058\n",
      "Train loss at step 4,800 : 0.00019\n",
      "Validation loss at step 4,800 : 0.00058\n"
     ]
    },
    {
     "name": "stderr",
     "output_type": "stream",
     "text": [
      " 51%|██████████████████▊                  | 5097/10000 [00:06<00:05, 963.06it/s]"
     ]
    },
    {
     "name": "stdout",
     "output_type": "stream",
     "text": [
      "Train loss at step 4,900 : 0.00019\n",
      "Validation loss at step 4,900 : 0.00058\n",
      "Train loss at step 5,000 : 0.00019\n",
      "Validation loss at step 5,000 : 0.00058\n"
     ]
    },
    {
     "name": "stderr",
     "output_type": "stream",
     "text": [
      " 53%|███████████████████▌                 | 5295/10000 [00:06<00:04, 971.47it/s]"
     ]
    },
    {
     "name": "stdout",
     "output_type": "stream",
     "text": [
      "Train loss at step 5,100 : 0.00019\n",
      "Validation loss at step 5,100 : 0.00058\n",
      "Train loss at step 5,200 : 0.00019\n",
      "Validation loss at step 5,200 : 0.00058\n"
     ]
    },
    {
     "name": "stderr",
     "output_type": "stream",
     "text": [
      "\r",
      " 54%|███████████████████▉                 | 5393/10000 [00:07<00:04, 934.97it/s]"
     ]
    },
    {
     "name": "stdout",
     "output_type": "stream",
     "text": [
      "Train loss at step 5,300 : 0.00019\n",
      "Validation loss at step 5,300 : 0.00059\n",
      "Train loss at step 5,400 : 0.00019\n",
      "Validation loss at step 5,400 : 0.00059\n"
     ]
    },
    {
     "name": "stderr",
     "output_type": "stream",
     "text": [
      " 57%|████████████████████▉                | 5675/10000 [00:07<00:05, 855.01it/s]"
     ]
    },
    {
     "name": "stdout",
     "output_type": "stream",
     "text": [
      "Train loss at step 5,500 : 0.00019\n",
      "Validation loss at step 5,500 : 0.00059\n",
      "Train loss at step 5,600 : 0.00019\n",
      "Validation loss at step 5,600 : 0.00059\n"
     ]
    },
    {
     "name": "stderr",
     "output_type": "stream",
     "text": [
      "\r",
      " 58%|█████████████████████▎               | 5762/10000 [00:07<00:05, 767.73it/s]"
     ]
    },
    {
     "name": "stdout",
     "output_type": "stream",
     "text": [
      "Train loss at step 5,700 : 0.00019\n",
      "Validation loss at step 5,700 : 0.00059\n",
      "Train loss at step 5,800 : 0.00019\n",
      "Validation loss at step 5,800 : 0.00059\n"
     ]
    },
    {
     "name": "stderr",
     "output_type": "stream",
     "text": [
      " 60%|██████████████████████▏              | 6011/10000 [00:07<00:05, 765.21it/s]"
     ]
    },
    {
     "name": "stdout",
     "output_type": "stream",
     "text": [
      "Train loss at step 5,900 : 0.00019\n",
      "Validation loss at step 5,900 : 0.00059\n",
      "Train loss at step 6,000 : 0.00019\n",
      "Validation loss at step 6,000 : 0.00059\n"
     ]
    },
    {
     "name": "stderr",
     "output_type": "stream",
     "text": [
      " 62%|██████████████████████▊              | 6179/10000 [00:08<00:05, 748.04it/s]"
     ]
    },
    {
     "name": "stdout",
     "output_type": "stream",
     "text": [
      "Train loss at step 6,100 : 0.00019\n",
      "Validation loss at step 6,100 : 0.00060\n",
      "Train loss at step 6,200 : 0.00019\n",
      "Validation loss at step 6,200 : 0.00060\n"
     ]
    },
    {
     "name": "stderr",
     "output_type": "stream",
     "text": [
      " 64%|███████████████████████▊             | 6434/10000 [00:08<00:04, 789.30it/s]"
     ]
    },
    {
     "name": "stdout",
     "output_type": "stream",
     "text": [
      "Train loss at step 6,300 : 0.00018\n",
      "Validation loss at step 6,300 : 0.00060\n",
      "Train loss at step 6,400 : 0.00018\n",
      "Validation loss at step 6,400 : 0.00060\n"
     ]
    },
    {
     "name": "stderr",
     "output_type": "stream",
     "text": [
      " 66%|████████████████████████▍            | 6604/10000 [00:08<00:04, 790.54it/s]"
     ]
    },
    {
     "name": "stdout",
     "output_type": "stream",
     "text": [
      "Train loss at step 6,500 : 0.00018\n",
      "Validation loss at step 6,500 : 0.00060\n",
      "Train loss at step 6,600 : 0.00018\n",
      "Validation loss at step 6,600 : 0.00060\n"
     ]
    },
    {
     "name": "stderr",
     "output_type": "stream",
     "text": [
      " 68%|█████████████████████████            | 6785/10000 [00:08<00:03, 815.55it/s]"
     ]
    },
    {
     "name": "stdout",
     "output_type": "stream",
     "text": [
      "Train loss at step 6,700 : 0.00018\n",
      "Validation loss at step 6,700 : 0.00060\n",
      "Train loss at step 6,800 : 0.00018\n",
      "Validation loss at step 6,800 : 0.00060\n"
     ]
    },
    {
     "name": "stderr",
     "output_type": "stream",
     "text": [
      " 70%|██████████████████████████           | 7029/10000 [00:09<00:04, 664.40it/s]"
     ]
    },
    {
     "name": "stdout",
     "output_type": "stream",
     "text": [
      "Train loss at step 6,900 : 0.00018\n",
      "Validation loss at step 6,900 : 0.00060\n",
      "Train loss at step 7,000 : 0.00018\n",
      "Validation loss at step 7,000 : 0.00061\n"
     ]
    },
    {
     "name": "stderr",
     "output_type": "stream",
     "text": [
      " 72%|██████████████████████████▌          | 7194/10000 [00:09<00:03, 705.97it/s]"
     ]
    },
    {
     "name": "stdout",
     "output_type": "stream",
     "text": [
      "Train loss at step 7,100 : 0.00018\n",
      "Validation loss at step 7,100 : 0.00061\n",
      "Train loss at step 7,200 : 0.00018\n",
      "Validation loss at step 7,200 : 0.00061\n"
     ]
    },
    {
     "name": "stderr",
     "output_type": "stream",
     "text": [
      " 74%|███████████████████████████▍         | 7422/10000 [00:09<00:03, 695.88it/s]"
     ]
    },
    {
     "name": "stdout",
     "output_type": "stream",
     "text": [
      "Train loss at step 7,300 : 0.00018\n",
      "Validation loss at step 7,300 : 0.00061\n",
      "Train loss at step 7,400 : 0.00018\n",
      "Validation loss at step 7,400 : 0.00061\n"
     ]
    },
    {
     "name": "stderr",
     "output_type": "stream",
     "text": [
      " 76%|████████████████████████████         | 7589/10000 [00:10<00:03, 742.55it/s]"
     ]
    },
    {
     "name": "stdout",
     "output_type": "stream",
     "text": [
      "Train loss at step 7,500 : 0.00018\n",
      "Validation loss at step 7,500 : 0.00061\n",
      "Train loss at step 7,600 : 0.00018\n",
      "Validation loss at step 7,600 : 0.00061\n"
     ]
    },
    {
     "name": "stderr",
     "output_type": "stream",
     "text": [
      " 78%|█████████████████████████████        | 7842/10000 [00:10<00:02, 815.51it/s]"
     ]
    },
    {
     "name": "stdout",
     "output_type": "stream",
     "text": [
      "Train loss at step 7,700 : 0.00018\n",
      "Validation loss at step 7,700 : 0.00061\n",
      "Train loss at step 7,800 : 0.00018\n",
      "Validation loss at step 7,800 : 0.00061\n"
     ]
    },
    {
     "name": "stderr",
     "output_type": "stream",
     "text": [
      " 80%|█████████████████████████████▋       | 8007/10000 [00:10<00:02, 735.58it/s]"
     ]
    },
    {
     "name": "stdout",
     "output_type": "stream",
     "text": [
      "Train loss at step 7,900 : 0.00018\n",
      "Validation loss at step 7,900 : 0.00061\n",
      "Train loss at step 8,000 : 0.00018\n",
      "Validation loss at step 8,000 : 0.00061\n"
     ]
    },
    {
     "name": "stderr",
     "output_type": "stream",
     "text": [
      " 83%|██████████████████████████████▋      | 8286/10000 [00:10<00:01, 865.75it/s]"
     ]
    },
    {
     "name": "stdout",
     "output_type": "stream",
     "text": [
      "Train loss at step 8,100 : 0.00017\n",
      "Validation loss at step 8,100 : 0.00062\n",
      "Train loss at step 8,200 : 0.00017\n",
      "Validation loss at step 8,200 : 0.00062\n"
     ]
    },
    {
     "name": "stderr",
     "output_type": "stream",
     "text": [
      "\r",
      " 84%|██████████████████████████████▉      | 8374/10000 [00:10<00:01, 827.92it/s]"
     ]
    },
    {
     "name": "stdout",
     "output_type": "stream",
     "text": [
      "Train loss at step 8,300 : 0.00017\n",
      "Validation loss at step 8,300 : 0.00062\n",
      "Train loss at step 8,400 : 0.00017\n",
      "Validation loss at step 8,400 : 0.00062\n"
     ]
    },
    {
     "name": "stderr",
     "output_type": "stream",
     "text": [
      " 86%|███████████████████████████████▉     | 8630/10000 [00:11<00:01, 796.99it/s]"
     ]
    },
    {
     "name": "stdout",
     "output_type": "stream",
     "text": [
      "Train loss at step 8,500 : 0.00017\n",
      "Validation loss at step 8,500 : 0.00062\n",
      "Train loss at step 8,600 : 0.00017\n",
      "Validation loss at step 8,600 : 0.00062\n"
     ]
    },
    {
     "name": "stderr",
     "output_type": "stream",
     "text": [
      " 88%|████████████████████████████████▌    | 8812/10000 [00:11<00:01, 849.44it/s]"
     ]
    },
    {
     "name": "stdout",
     "output_type": "stream",
     "text": [
      "Train loss at step 8,700 : 0.00017\n",
      "Validation loss at step 8,700 : 0.00062\n",
      "Train loss at step 8,800 : 0.00017\n",
      "Validation loss at step 8,800 : 0.00062\n"
     ]
    },
    {
     "name": "stderr",
     "output_type": "stream",
     "text": [
      " 91%|█████████████████████████████████▌   | 9080/10000 [00:11<00:01, 830.45it/s]"
     ]
    },
    {
     "name": "stdout",
     "output_type": "stream",
     "text": [
      "Train loss at step 8,900 : 0.00017\n",
      "Validation loss at step 8,900 : 0.00062\n",
      "Train loss at step 9,000 : 0.00017\n",
      "Validation loss at step 9,000 : 0.00062\n"
     ]
    },
    {
     "name": "stderr",
     "output_type": "stream",
     "text": [
      " 93%|██████████████████████████████████▎  | 9271/10000 [00:12<00:00, 895.33it/s]"
     ]
    },
    {
     "name": "stdout",
     "output_type": "stream",
     "text": [
      "Train loss at step 9,100 : 0.00017\n",
      "Validation loss at step 9,100 : 0.00062\n",
      "Train loss at step 9,200 : 0.00017\n",
      "Validation loss at step 9,200 : 0.00062\n"
     ]
    },
    {
     "name": "stderr",
     "output_type": "stream",
     "text": [
      " 95%|███████████████████████████████████  | 9469/10000 [00:12<00:00, 944.33it/s]"
     ]
    },
    {
     "name": "stdout",
     "output_type": "stream",
     "text": [
      "Train loss at step 9,300 : 0.00017\n",
      "Validation loss at step 9,300 : 0.00062\n",
      "Train loss at step 9,400 : 0.00017\n",
      "Validation loss at step 9,400 : 0.00063\n",
      "Train loss at step 9,500 : 0.00017\n",
      "Validation loss at step 9,500 : 0.00063\n"
     ]
    },
    {
     "name": "stderr",
     "output_type": "stream",
     "text": [
      " 98%|████████████████████████████████████ | 9758/10000 [00:12<00:00, 952.19it/s]"
     ]
    },
    {
     "name": "stdout",
     "output_type": "stream",
     "text": [
      "Train loss at step 9,600 : 0.00017\n",
      "Validation loss at step 9,600 : 0.00063\n",
      "Train loss at step 9,700 : 0.00017\n",
      "Validation loss at step 9,700 : 0.00063\n"
     ]
    },
    {
     "name": "stderr",
     "output_type": "stream",
     "text": [
      "100%|████████████████████████████████████| 10000/10000 [00:12<00:00, 778.53it/s]"
     ]
    },
    {
     "name": "stdout",
     "output_type": "stream",
     "text": [
      "Train loss at step 9,800 : 0.00017\n",
      "Validation loss at step 9,800 : 0.00063\n",
      "Train loss at step 9,900 : 0.00017\n",
      "Validation loss at step 9,900 : 0.00063\n"
     ]
    },
    {
     "name": "stderr",
     "output_type": "stream",
     "text": [
      "\n"
     ]
    }
   ],
   "source": [
    "a, b, train_losses, val_losses = train(N_STEPS, a, b, x_train, y_train, x_val, y_val, n_samples=0)"
   ]
  },
  {
   "cell_type": "code",
   "execution_count": 20,
   "id": "aac8f20b",
   "metadata": {},
   "outputs": [
    {
     "data": {
      "image/png": "[encoded data removed]",
      "text/plain": [
       "<Figure size 1000x600 with 1 Axes>"
      ]
     },
     "metadata": {},
     "output_type": "display_data"
    }
   ],
   "source": [
    "plt.figure(figsize=(10, 6))\n",
    "marker = None #'o'\n",
    "#plt.xscale('log')\n",
    "plt.yscale('log')\n",
    "\n",
    "plt.plot(np.arange(len(train_losses)), train_losses, label='train')\n",
    "plt.plot([VAL_ITER * k for k in range(len(val_losses))], val_losses, label='val', marker=marker)\n",
    "\n",
    "plt.xlabel('Iteration $t$', fontsize=28)\n",
    "plt.ylabel('Loss', fontsize=28)\n",
    "plt.xticks(fontsize=24)\n",
    "plt.yticks(fontsize=24)\n",
    "plt.legend(fontsize=18)\n",
    "#plt.savefig(os.path.join(FIGURES_DIR, 'losses.png'), bbox_inches='tight')\n",
    "plt.show()"
   ]
  },
  {
   "cell_type": "code",
   "execution_count": null,
   "id": "6fb654da",
   "metadata": {},
   "outputs": [],
   "source": []
  },
  {
   "cell_type": "code",
   "execution_count": null,
   "id": "58f5156c",
   "metadata": {},
   "outputs": [],
   "source": []
  },
  {
   "cell_type": "code",
   "execution_count": null,
   "id": "16ef2f48",
   "metadata": {},
   "outputs": [],
   "source": []
  },
  {
   "cell_type": "code",
   "execution_count": null,
   "id": "c17c519b",
   "metadata": {},
   "outputs": [],
   "source": []
  },
  {
   "cell_type": "code",
   "execution_count": null,
   "id": "9f37b283",
   "metadata": {},
   "outputs": [],
   "source": []
  },
  {
   "cell_type": "code",
   "execution_count": null,
   "id": "c3d8da5a",
   "metadata": {},
   "outputs": [],
   "source": []
  },
  {
   "cell_type": "code",
   "execution_count": null,
   "id": "cf94fe05",
   "metadata": {},
   "outputs": [],
   "source": []
  },
  {
   "cell_type": "code",
   "execution_count": null,
   "id": "f571ee3e",
   "metadata": {},
   "outputs": [],
   "source": []
  },
  {
   "cell_type": "code",
   "execution_count": null,
   "id": "07d65d48",
   "metadata": {},
   "outputs": [],
   "source": []
  }
 ],
 "metadata": {
  "kernelspec": {
   "display_name": "Python 3 (ipykernel)",
   "language": "python",
   "name": "python3"
  },
  "language_info": {
   "codemirror_mode": {
    "name": "ipython",
    "version": 3
   },
   "file_extension": ".py",
   "mimetype": "text/x-python",
   "name": "python",
   "nbconvert_exporter": "python",
   "pygments_lexer": "ipython3",
   "version": "3.9.7"
  }
 },
 "nbformat": 4,
 "nbformat_minor": 5
}
